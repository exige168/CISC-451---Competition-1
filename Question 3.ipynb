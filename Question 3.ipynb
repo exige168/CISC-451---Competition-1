{
 "cells": [
  {
   "cell_type": "code",
   "execution_count": 28,
   "metadata": {},
   "outputs": [
    {
     "name": "stdout",
     "output_type": "stream",
     "text": [
      "hello world\n"
     ]
    }
   ],
   "source": [
    "#Question 3\n",
    "import pandas as pd\n",
    "import numpy as np\n",
    "import matplotlib.pyplot as plt\n",
    "print('hello world')"
   ]
  },
  {
   "cell_type": "code",
   "execution_count": 29,
   "metadata": {},
   "outputs": [
    {
     "data": {
      "text/html": [
       "<div>\n",
       "<style scoped>\n",
       "    .dataframe tbody tr th:only-of-type {\n",
       "        vertical-align: middle;\n",
       "    }\n",
       "\n",
       "    .dataframe tbody tr th {\n",
       "        vertical-align: top;\n",
       "    }\n",
       "\n",
       "    .dataframe thead th {\n",
       "        text-align: right;\n",
       "    }\n",
       "</style>\n",
       "<table border=\"1\" class=\"dataframe\">\n",
       "  <thead>\n",
       "    <tr style=\"text-align: right;\">\n",
       "      <th></th>\n",
       "      <th>Bus</th>\n",
       "      <th>Route</th>\n",
       "      <th>Latitude</th>\n",
       "      <th>Longitude</th>\n",
       "    </tr>\n",
       "  </thead>\n",
       "  <tbody>\n",
       "    <tr>\n",
       "      <th>count</th>\n",
       "      <td>704539.000000</td>\n",
       "      <td>704539.000000</td>\n",
       "      <td>704539.000000</td>\n",
       "      <td>704539.000000</td>\n",
       "    </tr>\n",
       "    <tr>\n",
       "      <th>mean</th>\n",
       "      <td>1241.137280</td>\n",
       "      <td>239.365809</td>\n",
       "      <td>40.941516</td>\n",
       "      <td>-70.604451</td>\n",
       "    </tr>\n",
       "    <tr>\n",
       "      <th>std</th>\n",
       "      <td>317.249714</td>\n",
       "      <td>288.489481</td>\n",
       "      <td>13.694826</td>\n",
       "      <td>21.473093</td>\n",
       "    </tr>\n",
       "    <tr>\n",
       "      <th>min</th>\n",
       "      <td>315.000000</td>\n",
       "      <td>1.000000</td>\n",
       "      <td>0.000000</td>\n",
       "      <td>-255.426092</td>\n",
       "    </tr>\n",
       "    <tr>\n",
       "      <th>25%</th>\n",
       "      <td>1047.000000</td>\n",
       "      <td>3.000000</td>\n",
       "      <td>44.224635</td>\n",
       "      <td>-76.526580</td>\n",
       "    </tr>\n",
       "    <tr>\n",
       "      <th>50%</th>\n",
       "      <td>1361.000000</td>\n",
       "      <td>15.000000</td>\n",
       "      <td>44.232833</td>\n",
       "      <td>-76.502100</td>\n",
       "    </tr>\n",
       "    <tr>\n",
       "      <th>75%</th>\n",
       "      <td>1480.000000</td>\n",
       "      <td>502.000000</td>\n",
       "      <td>44.248020</td>\n",
       "      <td>-76.486999</td>\n",
       "    </tr>\n",
       "    <tr>\n",
       "      <th>max</th>\n",
       "      <td>1689.000000</td>\n",
       "      <td>701.000000</td>\n",
       "      <td>255.426092</td>\n",
       "      <td>0.000000</td>\n",
       "    </tr>\n",
       "  </tbody>\n",
       "</table>\n",
       "</div>"
      ],
      "text/plain": [
       "                 Bus          Route       Latitude      Longitude\n",
       "count  704539.000000  704539.000000  704539.000000  704539.000000\n",
       "mean     1241.137280     239.365809      40.941516     -70.604451\n",
       "std       317.249714     288.489481      13.694826      21.473093\n",
       "min       315.000000       1.000000       0.000000    -255.426092\n",
       "25%      1047.000000       3.000000      44.224635     -76.526580\n",
       "50%      1361.000000      15.000000      44.232833     -76.502100\n",
       "75%      1480.000000     502.000000      44.248020     -76.486999\n",
       "max      1689.000000     701.000000     255.426092       0.000000"
      ]
     },
     "execution_count": 29,
     "metadata": {},
     "output_type": "execute_result"
    }
   ],
   "source": [
    "df = pd.read_csv('data.csv')\n",
    "df.head(10)\n",
    "df.describe()\n",
    "\n",
    "\n"
   ]
  },
  {
   "cell_type": "code",
   "execution_count": 30,
   "metadata": {},
   "outputs": [
    {
     "name": "stdout",
     "output_type": "stream",
     "text": [
      "701    96384\n",
      "2      93880\n",
      "501    78520\n",
      "1      71450\n",
      "502    71229\n",
      "3      40953\n",
      "601    38617\n",
      "4      31207\n",
      "7      24508\n",
      "15     24001\n",
      "12     23567\n",
      "6      20116\n",
      "11     19183\n",
      "16     17555\n",
      "20     16939\n",
      "18     12349\n",
      "10     11683\n",
      "14      4777\n",
      "13      3616\n",
      "8       2295\n",
      "17      1710\n",
      "Name: Route, dtype: int64\n",
      "704539\n",
      "33549.47619047619\n"
     ]
    },
    {
     "data": {
      "image/png": "[encoded data removed]",
      "text/plain": [
       "<Figure size 432x288 with 1 Axes>"
      ]
     },
     "metadata": {
      "needs_background": "light"
     },
     "output_type": "display_data"
    }
   ],
   "source": [
    "df.groupby('Route')\n",
    "route = df.Route.value_counts()\n",
    "print(route)\n",
    "print(sum(route))\n",
    "print(route.mean())\n",
    "ax = route.plot.bar()"
   ]
  },
  {
   "cell_type": "code",
   "execution_count": 35,
   "metadata": {},
   "outputs": [
    {
     "data": {
      "text/html": [
       "<div>\n",
       "<style scoped>\n",
       "    .dataframe tbody tr th:only-of-type {\n",
       "        vertical-align: middle;\n",
       "    }\n",
       "\n",
       "    .dataframe tbody tr th {\n",
       "        vertical-align: top;\n",
       "    }\n",
       "\n",
       "    .dataframe thead th {\n",
       "        text-align: right;\n",
       "    }\n",
       "</style>\n",
       "<table border=\"1\" class=\"dataframe\">\n",
       "  <thead>\n",
       "    <tr style=\"text-align: right;\">\n",
       "      <th></th>\n",
       "      <th>﻿\"STATUS\"</th>\n",
       "      <th>MATERIAL</th>\n",
       "      <th>GeoJSON</th>\n",
       "      <th>geo_point_2d</th>\n",
       "    </tr>\n",
       "  </thead>\n",
       "  <tbody>\n",
       "    <tr>\n",
       "      <th>count</th>\n",
       "      <td>46237</td>\n",
       "      <td>46238</td>\n",
       "      <td>46238</td>\n",
       "      <td>46238</td>\n",
       "    </tr>\n",
       "    <tr>\n",
       "      <th>unique</th>\n",
       "      <td>2</td>\n",
       "      <td>7</td>\n",
       "      <td>46238</td>\n",
       "      <td>46238</td>\n",
       "    </tr>\n",
       "    <tr>\n",
       "      <th>top</th>\n",
       "      <td>ACTIVE</td>\n",
       "      <td>PAVEMENT</td>\n",
       "      <td>{\"coordinates\": [[[-76.54406669471723, 44.2460...</td>\n",
       "      <td>44.215143351249296,-76.57490057458226</td>\n",
       "    </tr>\n",
       "    <tr>\n",
       "      <th>freq</th>\n",
       "      <td>46233</td>\n",
       "      <td>44644</td>\n",
       "      <td>1</td>\n",
       "      <td>1</td>\n",
       "    </tr>\n",
       "  </tbody>\n",
       "</table>\n",
       "</div>"
      ],
      "text/plain": [
       "       ﻿\"STATUS\"  MATERIAL                                            GeoJSON  \\\n",
       "count      46237     46238                                              46238   \n",
       "unique         2         7                                              46238   \n",
       "top       ACTIVE  PAVEMENT  {\"coordinates\": [[[-76.54406669471723, 44.2460...   \n",
       "freq       46233     44644                                                  1   \n",
       "\n",
       "                                 geo_point_2d  \n",
       "count                                   46238  \n",
       "unique                                  46238  \n",
       "top     44.215143351249296,-76.57490057458226  \n",
       "freq                                        1  "
      ]
     },
     "execution_count": 35,
     "metadata": {},
     "output_type": "execute_result"
    }
   ],
   "source": [
    "driveways_df = pd.read_csv('driveways.csv')\n",
    "driveways_df.describe()"
   ]
  }
 ],
 "metadata": {
  "interpreter": {
   "hash": "07efdcd4b820c98a756949507a4d29d7862823915ec7477944641bea022f4f62"
  },
  "kernelspec": {
   "display_name": "Python 3.8.5 64-bit",
   "language": "python",
   "name": "python3"
  },
  "language_info": {
   "codemirror_mode": {
    "name": "ipython",
    "version": 3
   },
   "file_extension": ".py",
   "mimetype": "text/x-python",
   "name": "python",
   "nbconvert_exporter": "python",
   "pygments_lexer": "ipython3",
   "version": "3.8.5"
  },
  "orig_nbformat": 4
 },
 "nbformat": 4,
 "nbformat_minor": 2
}
