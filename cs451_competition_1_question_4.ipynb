{
 "cells": [
  {
   "cell_type": "markdown",
   "metadata": {},
   "source": [
    "In this question our group focus on why bus services not accessable in some neighborhoods. According to question one, we found that some places with no bus services accessable. To help planning the bus routes, we may want to find out why these places have no bus services, by different factors: population, Road segments, income. "
   ]
  },
  {
   "cell_type": "code",
   "execution_count": 5,
   "metadata": {},
   "outputs": [],
   "source": [
    "import numpy as np\n",
    "import pandas as pd\n",
    "from pandas import value_counts\n",
    "import matplotlib.pyplot as plt\n",
    "import seaborn as sns\n",
    "import plotly.express as px\n",
    "import json\n",
    "from shapely.geometry import shape, GeometryCollection, Point"
   ]
  },
  {
   "cell_type": "code",
   "execution_count": 4,
   "metadata": {},
   "outputs": [
    {
     "data": {
      "text/html": [
       "<div>\n",
       "<style scoped>\n",
       "    .dataframe tbody tr th:only-of-type {\n",
       "        vertical-align: middle;\n",
       "    }\n",
       "\n",
       "    .dataframe tbody tr th {\n",
       "        vertical-align: top;\n",
       "    }\n",
       "\n",
       "    .dataframe thead th {\n",
       "        text-align: right;\n",
       "    }\n",
       "</style>\n",
       "<table border=\"1\" class=\"dataframe\">\n",
       "  <thead>\n",
       "    <tr style=\"text-align: right;\">\n",
       "      <th></th>\n",
       "      <th>ROAD_ELEMENT_ID</th>\n",
       "      <th>STREET_BODY_NAME</th>\n",
       "      <th>STREET_TYPE_SUFFIX</th>\n",
       "      <th>DIRECTION_SUFFIX</th>\n",
       "      <th>STREET_CP</th>\n",
       "      <th>FROM_STREET</th>\n",
       "      <th>TO_STREET</th>\n",
       "      <th>PLOW_ROUTE</th>\n",
       "      <th>F_ADDR_L</th>\n",
       "      <th>T_ADDR_L</th>\n",
       "      <th>...</th>\n",
       "      <th>TRAFFIC_FLOW</th>\n",
       "      <th>STATUS</th>\n",
       "      <th>MUNICIPALITY</th>\n",
       "      <th>RIGHT_MUNICIPALITY</th>\n",
       "      <th>LEFT_MUNICIPALITY</th>\n",
       "      <th>ROAD_LEVEL</th>\n",
       "      <th>STREET_TYPE_SHORT</th>\n",
       "      <th>MAP_LABEL</th>\n",
       "      <th>GeoJSON</th>\n",
       "      <th>geo_point_2d</th>\n",
       "    </tr>\n",
       "  </thead>\n",
       "  <tbody>\n",
       "    <tr>\n",
       "      <th>0</th>\n",
       "      <td>2046</td>\n",
       "      <td>CATARAQUI WOODS</td>\n",
       "      <td>DR</td>\n",
       "      <td>NaN</td>\n",
       "      <td>CATARAQUI WOODS DR</td>\n",
       "      <td>CLYDE CRT</td>\n",
       "      <td>GARDINERS RD</td>\n",
       "      <td>31A</td>\n",
       "      <td>NaN</td>\n",
       "      <td>NaN</td>\n",
       "      <td>...</td>\n",
       "      <td>BOTH</td>\n",
       "      <td>ACTIVE</td>\n",
       "      <td>KINGSTON</td>\n",
       "      <td>KINGSTON</td>\n",
       "      <td>KINGSTON</td>\n",
       "      <td>Ground Level</td>\n",
       "      <td>DR</td>\n",
       "      <td>Cataraqui Woods Dr</td>\n",
       "      <td>{\"coordinates\": [[-76.56382462128522, 44.26797...</td>\n",
       "      <td>44.26720550912333,-76.56631192730329</td>\n",
       "    </tr>\n",
       "    <tr>\n",
       "      <th>1</th>\n",
       "      <td>1345</td>\n",
       "      <td>VICTORIA</td>\n",
       "      <td>ST</td>\n",
       "      <td>NaN</td>\n",
       "      <td>VICTORIA ST</td>\n",
       "      <td>CONCESSION ST</td>\n",
       "      <td>NORTHERLY END</td>\n",
       "      <td>22B</td>\n",
       "      <td>712.0</td>\n",
       "      <td>720.0</td>\n",
       "      <td>...</td>\n",
       "      <td>BOTH</td>\n",
       "      <td>ACTIVE</td>\n",
       "      <td>KINGSTON</td>\n",
       "      <td>KINGSTON</td>\n",
       "      <td>KINGSTON</td>\n",
       "      <td>Ground Level</td>\n",
       "      <td>ST</td>\n",
       "      <td>Victoria St</td>\n",
       "      <td>{\"coordinates\": [[-76.50340285566469, 44.24130...</td>\n",
       "      <td>44.2414952481128,-76.50354210177557</td>\n",
       "    </tr>\n",
       "    <tr>\n",
       "      <th>2</th>\n",
       "      <td>4937</td>\n",
       "      <td>NaN</td>\n",
       "      <td>NaN</td>\n",
       "      <td>NaN</td>\n",
       "      <td>615 OFF WB</td>\n",
       "      <td>615 OFF WB</td>\n",
       "      <td>SIR JOHN A. MACDONALD BLVD</td>\n",
       "      <td>401</td>\n",
       "      <td>NaN</td>\n",
       "      <td>NaN</td>\n",
       "      <td>...</td>\n",
       "      <td>UP</td>\n",
       "      <td>ACTIVE</td>\n",
       "      <td>KINGSTON</td>\n",
       "      <td>KINGSTON</td>\n",
       "      <td>KINGSTON</td>\n",
       "      <td>Ground Level</td>\n",
       "      <td>NaN</td>\n",
       "      <td>615 Off Wb</td>\n",
       "      <td>{\"coordinates\": [[-76.51822585972158, 44.27195...</td>\n",
       "      <td>44.272853663834184,-76.51886789241843</td>\n",
       "    </tr>\n",
       "    <tr>\n",
       "      <th>3</th>\n",
       "      <td>3022</td>\n",
       "      <td>EMERALD</td>\n",
       "      <td>ST</td>\n",
       "      <td>NaN</td>\n",
       "      <td>EMERALD ST</td>\n",
       "      <td>CAVENDISH CRES</td>\n",
       "      <td>CAVENDISH CRES</td>\n",
       "      <td>6R</td>\n",
       "      <td>NaN</td>\n",
       "      <td>NaN</td>\n",
       "      <td>...</td>\n",
       "      <td>BOTH</td>\n",
       "      <td>ACTIVE</td>\n",
       "      <td>KINGSTON</td>\n",
       "      <td>KINGSTON</td>\n",
       "      <td>KINGSTON</td>\n",
       "      <td>Ground Level</td>\n",
       "      <td>ST</td>\n",
       "      <td>Emerald St</td>\n",
       "      <td>{\"coordinates\": [[-76.55709444382047, 44.26273...</td>\n",
       "      <td>44.26313792580296,-76.55709493535714</td>\n",
       "    </tr>\n",
       "    <tr>\n",
       "      <th>4</th>\n",
       "      <td>1130</td>\n",
       "      <td>CAITLIN</td>\n",
       "      <td>CRES</td>\n",
       "      <td>NaN</td>\n",
       "      <td>CAITLIN CRES</td>\n",
       "      <td>CAITLIN CRES</td>\n",
       "      <td>CAITLIN CRES</td>\n",
       "      <td>32R</td>\n",
       "      <td>1066.0</td>\n",
       "      <td>1168.0</td>\n",
       "      <td>...</td>\n",
       "      <td>BOTH</td>\n",
       "      <td>ACTIVE</td>\n",
       "      <td>KINGSTON</td>\n",
       "      <td>KINGSTON</td>\n",
       "      <td>KINGSTON</td>\n",
       "      <td>Ground Level</td>\n",
       "      <td>CR</td>\n",
       "      <td>Caitlin Cres</td>\n",
       "      <td>{\"coordinates\": [[-76.60268842897942, 44.25709...</td>\n",
       "      <td>44.25721949771062,-76.60198870361369</td>\n",
       "    </tr>\n",
       "  </tbody>\n",
       "</table>\n",
       "<p>5 rows × 30 columns</p>\n",
       "</div>"
      ],
      "text/plain": [
       "   ROAD_ELEMENT_ID STREET_BODY_NAME STREET_TYPE_SUFFIX DIRECTION_SUFFIX  \\\n",
       "0             2046  CATARAQUI WOODS                 DR              NaN   \n",
       "1             1345         VICTORIA                 ST              NaN   \n",
       "2             4937              NaN                NaN              NaN   \n",
       "3             3022          EMERALD                 ST              NaN   \n",
       "4             1130          CAITLIN               CRES              NaN   \n",
       "\n",
       "            STREET_CP     FROM_STREET                   TO_STREET PLOW_ROUTE  \\\n",
       "0  CATARAQUI WOODS DR       CLYDE CRT                GARDINERS RD        31A   \n",
       "1         VICTORIA ST   CONCESSION ST               NORTHERLY END        22B   \n",
       "2          615 OFF WB      615 OFF WB  SIR JOHN A. MACDONALD BLVD        401   \n",
       "3          EMERALD ST  CAVENDISH CRES              CAVENDISH CRES         6R   \n",
       "4        CAITLIN CRES    CAITLIN CRES                CAITLIN CRES        32R   \n",
       "\n",
       "   F_ADDR_L  T_ADDR_L  ...  TRAFFIC_FLOW  STATUS  MUNICIPALITY  \\\n",
       "0       NaN       NaN  ...          BOTH  ACTIVE      KINGSTON   \n",
       "1     712.0     720.0  ...          BOTH  ACTIVE      KINGSTON   \n",
       "2       NaN       NaN  ...            UP  ACTIVE      KINGSTON   \n",
       "3       NaN       NaN  ...          BOTH  ACTIVE      KINGSTON   \n",
       "4    1066.0    1168.0  ...          BOTH  ACTIVE      KINGSTON   \n",
       "\n",
       "   RIGHT_MUNICIPALITY  LEFT_MUNICIPALITY    ROAD_LEVEL  STREET_TYPE_SHORT  \\\n",
       "0            KINGSTON           KINGSTON  Ground Level                 DR   \n",
       "1            KINGSTON           KINGSTON  Ground Level                 ST   \n",
       "2            KINGSTON           KINGSTON  Ground Level                NaN   \n",
       "3            KINGSTON           KINGSTON  Ground Level                 ST   \n",
       "4            KINGSTON           KINGSTON  Ground Level                 CR   \n",
       "\n",
       "            MAP_LABEL                                            GeoJSON  \\\n",
       "0  Cataraqui Woods Dr  {\"coordinates\": [[-76.56382462128522, 44.26797...   \n",
       "1         Victoria St  {\"coordinates\": [[-76.50340285566469, 44.24130...   \n",
       "2          615 Off Wb  {\"coordinates\": [[-76.51822585972158, 44.27195...   \n",
       "3          Emerald St  {\"coordinates\": [[-76.55709444382047, 44.26273...   \n",
       "4        Caitlin Cres  {\"coordinates\": [[-76.60268842897942, 44.25709...   \n",
       "\n",
       "                            geo_point_2d  \n",
       "0   44.26720550912333,-76.56631192730329  \n",
       "1    44.2414952481128,-76.50354210177557  \n",
       "2  44.272853663834184,-76.51886789241843  \n",
       "3   44.26313792580296,-76.55709493535714  \n",
       "4   44.25721949771062,-76.60198870361369  \n",
       "\n",
       "[5 rows x 30 columns]"
      ]
     },
     "execution_count": 4,
     "metadata": {},
     "output_type": "execute_result"
    }
   ],
   "source": [
    "road_segments = pd.read_csv('road-segments.csv')\n",
    "road_segments.head()"
   ]
  },
  {
   "cell_type": "code",
   "execution_count": 24,
   "metadata": {},
   "outputs": [
    {
     "data": {
      "text/html": [
       "<div>\n",
       "<style scoped>\n",
       "    .dataframe tbody tr th:only-of-type {\n",
       "        vertical-align: middle;\n",
       "    }\n",
       "\n",
       "    .dataframe tbody tr th {\n",
       "        vertical-align: top;\n",
       "    }\n",
       "\n",
       "    .dataframe thead th {\n",
       "        text-align: right;\n",
       "    }\n",
       "</style>\n",
       "<table border=\"1\" class=\"dataframe\">\n",
       "  <thead>\n",
       "    <tr style=\"text-align: right;\">\n",
       "      <th></th>\n",
       "      <th>Community Name</th>\n",
       "      <th>Area Type</th>\n",
       "      <th>Area ID Number</th>\n",
       "      <th>Total Population 2016</th>\n",
       "      <th>Total Population 2011</th>\n",
       "      <th>Population Change</th>\n",
       "      <th>Population Aged 0-4</th>\n",
       "      <th>Population Aged 5-9</th>\n",
       "      <th>Population Aged 10-14</th>\n",
       "      <th>Population Aged 15-19</th>\n",
       "      <th>...</th>\n",
       "      <th>Non-movers - Mobility status 5 years ago</th>\n",
       "      <th>Movers - Mobility status 5 years ago</th>\n",
       "      <th>Non-Migrant - Mobility status 5 years ago</th>\n",
       "      <th>Migrant - Mobility status 5 years ago</th>\n",
       "      <th>Internal Migrant - Mobility status 5 years ago</th>\n",
       "      <th>Intraprovincial Migrant - Mobility status 5 years ago</th>\n",
       "      <th>Interprovincial Migrant - Mobility status 5 years ago</th>\n",
       "      <th>External Migrant - Mobility status 5 years ago</th>\n",
       "      <th>GeoJSON</th>\n",
       "      <th>geo_point_2d</th>\n",
       "    </tr>\n",
       "  </thead>\n",
       "  <tbody>\n",
       "    <tr>\n",
       "      <th>0</th>\n",
       "      <td>Joyceville / Brewers Mills</td>\n",
       "      <td>Neighbourhood</td>\n",
       "      <td>43</td>\n",
       "      <td>1770</td>\n",
       "      <td>1980</td>\n",
       "      <td>-210</td>\n",
       "      <td>60</td>\n",
       "      <td>90</td>\n",
       "      <td>75</td>\n",
       "      <td>100</td>\n",
       "      <td>...</td>\n",
       "      <td>835</td>\n",
       "      <td>395</td>\n",
       "      <td>235</td>\n",
       "      <td>165</td>\n",
       "      <td>160</td>\n",
       "      <td>150</td>\n",
       "      <td>10</td>\n",
       "      <td>10</td>\n",
       "      <td>{\"coordinates\": [[[-76.24469013039291, 44.4191...</td>\n",
       "      <td>44.38538292067768,-76.28596206890569</td>\n",
       "    </tr>\n",
       "    <tr>\n",
       "      <th>1</th>\n",
       "      <td>Alwington</td>\n",
       "      <td>Neighbourhood</td>\n",
       "      <td>34</td>\n",
       "      <td>1115</td>\n",
       "      <td>1090</td>\n",
       "      <td>25</td>\n",
       "      <td>35</td>\n",
       "      <td>55</td>\n",
       "      <td>55</td>\n",
       "      <td>80</td>\n",
       "      <td>...</td>\n",
       "      <td>545</td>\n",
       "      <td>350</td>\n",
       "      <td>140</td>\n",
       "      <td>215</td>\n",
       "      <td>155</td>\n",
       "      <td>120</td>\n",
       "      <td>30</td>\n",
       "      <td>60</td>\n",
       "      <td>{\"coordinates\": [[[-76.4994731896322, 44.22254...</td>\n",
       "      <td>44.2228671760366,-76.50605465502022</td>\n",
       "    </tr>\n",
       "    <tr>\n",
       "      <th>2</th>\n",
       "      <td>Cataraqui North</td>\n",
       "      <td>Neighbourhood</td>\n",
       "      <td>5</td>\n",
       "      <td>4475</td>\n",
       "      <td>3370</td>\n",
       "      <td>1105</td>\n",
       "      <td>285</td>\n",
       "      <td>260</td>\n",
       "      <td>245</td>\n",
       "      <td>255</td>\n",
       "      <td>...</td>\n",
       "      <td>1980</td>\n",
       "      <td>1960</td>\n",
       "      <td>1140</td>\n",
       "      <td>820</td>\n",
       "      <td>715</td>\n",
       "      <td>595</td>\n",
       "      <td>120</td>\n",
       "      <td>105</td>\n",
       "      <td>{\"coordinates\": [[[-76.53363017973487, 44.2587...</td>\n",
       "      <td>44.26913255386315,-76.55242248231944</td>\n",
       "    </tr>\n",
       "    <tr>\n",
       "      <th>3</th>\n",
       "      <td>Cataraqui River East</td>\n",
       "      <td>Neighbourhood</td>\n",
       "      <td>37</td>\n",
       "      <td>3075</td>\n",
       "      <td>2740</td>\n",
       "      <td>335</td>\n",
       "      <td>115</td>\n",
       "      <td>115</td>\n",
       "      <td>140</td>\n",
       "      <td>130</td>\n",
       "      <td>...</td>\n",
       "      <td>1455</td>\n",
       "      <td>1420</td>\n",
       "      <td>740</td>\n",
       "      <td>680</td>\n",
       "      <td>600</td>\n",
       "      <td>360</td>\n",
       "      <td>240</td>\n",
       "      <td>80</td>\n",
       "      <td>{\"coordinates\": [[[-76.4390714449385, 44.25926...</td>\n",
       "      <td>44.25216048378566,-76.45480098302505</td>\n",
       "    </tr>\n",
       "    <tr>\n",
       "      <th>4</th>\n",
       "      <td>Waterloo Village</td>\n",
       "      <td>Neighbourhood</td>\n",
       "      <td>13</td>\n",
       "      <td>2130</td>\n",
       "      <td>2065</td>\n",
       "      <td>65</td>\n",
       "      <td>110</td>\n",
       "      <td>145</td>\n",
       "      <td>145</td>\n",
       "      <td>125</td>\n",
       "      <td>...</td>\n",
       "      <td>1180</td>\n",
       "      <td>660</td>\n",
       "      <td>410</td>\n",
       "      <td>255</td>\n",
       "      <td>235</td>\n",
       "      <td>195</td>\n",
       "      <td>30</td>\n",
       "      <td>25</td>\n",
       "      <td>{\"coordinates\": [[[-76.55285512283804, 44.2581...</td>\n",
       "      <td>44.25482479014073,-76.55088174548007</td>\n",
       "    </tr>\n",
       "  </tbody>\n",
       "</table>\n",
       "<p>5 rows × 62 columns</p>\n",
       "</div>"
      ],
      "text/plain": [
       "               Community Name      Area Type  Area ID Number  \\\n",
       "0  Joyceville / Brewers Mills  Neighbourhood              43   \n",
       "1                   Alwington  Neighbourhood              34   \n",
       "2             Cataraqui North  Neighbourhood               5   \n",
       "3        Cataraqui River East  Neighbourhood              37   \n",
       "4            Waterloo Village  Neighbourhood              13   \n",
       "\n",
       "   Total Population 2016  Total Population 2011  Population Change  \\\n",
       "0                   1770                   1980               -210   \n",
       "1                   1115                   1090                 25   \n",
       "2                   4475                   3370               1105   \n",
       "3                   3075                   2740                335   \n",
       "4                   2130                   2065                 65   \n",
       "\n",
       "   Population Aged 0-4  Population Aged 5-9  Population Aged 10-14  \\\n",
       "0                   60                   90                     75   \n",
       "1                   35                   55                     55   \n",
       "2                  285                  260                    245   \n",
       "3                  115                  115                    140   \n",
       "4                  110                  145                    145   \n",
       "\n",
       "   Population Aged 15-19  ...  Non-movers - Mobility status 5 years ago  \\\n",
       "0                    100  ...                                       835   \n",
       "1                     80  ...                                       545   \n",
       "2                    255  ...                                      1980   \n",
       "3                    130  ...                                      1455   \n",
       "4                    125  ...                                      1180   \n",
       "\n",
       "   Movers - Mobility status 5 years ago  \\\n",
       "0                                   395   \n",
       "1                                   350   \n",
       "2                                  1960   \n",
       "3                                  1420   \n",
       "4                                   660   \n",
       "\n",
       "   Non-Migrant - Mobility status 5 years ago  \\\n",
       "0                                        235   \n",
       "1                                        140   \n",
       "2                                       1140   \n",
       "3                                        740   \n",
       "4                                        410   \n",
       "\n",
       "   Migrant - Mobility status 5 years ago  \\\n",
       "0                                    165   \n",
       "1                                    215   \n",
       "2                                    820   \n",
       "3                                    680   \n",
       "4                                    255   \n",
       "\n",
       "   Internal Migrant - Mobility status 5 years ago  \\\n",
       "0                                             160   \n",
       "1                                             155   \n",
       "2                                             715   \n",
       "3                                             600   \n",
       "4                                             235   \n",
       "\n",
       "   Intraprovincial Migrant - Mobility status 5 years ago  \\\n",
       "0                                                150       \n",
       "1                                                120       \n",
       "2                                                595       \n",
       "3                                                360       \n",
       "4                                                195       \n",
       "\n",
       "   Interprovincial Migrant - Mobility status 5 years ago  \\\n",
       "0                                                 10       \n",
       "1                                                 30       \n",
       "2                                                120       \n",
       "3                                                240       \n",
       "4                                                 30       \n",
       "\n",
       "   External Migrant - Mobility status 5 years ago  \\\n",
       "0                                              10   \n",
       "1                                              60   \n",
       "2                                             105   \n",
       "3                                              80   \n",
       "4                                              25   \n",
       "\n",
       "                                             GeoJSON  \\\n",
       "0  {\"coordinates\": [[[-76.24469013039291, 44.4191...   \n",
       "1  {\"coordinates\": [[[-76.4994731896322, 44.22254...   \n",
       "2  {\"coordinates\": [[[-76.53363017973487, 44.2587...   \n",
       "3  {\"coordinates\": [[[-76.4390714449385, 44.25926...   \n",
       "4  {\"coordinates\": [[[-76.55285512283804, 44.2581...   \n",
       "\n",
       "                           geo_point_2d  \n",
       "0  44.38538292067768,-76.28596206890569  \n",
       "1   44.2228671760366,-76.50605465502022  \n",
       "2  44.26913255386315,-76.55242248231944  \n",
       "3  44.25216048378566,-76.45480098302505  \n",
       "4  44.25482479014073,-76.55088174548007  \n",
       "\n",
       "[5 rows x 62 columns]"
      ]
     },
     "execution_count": 24,
     "metadata": {},
     "output_type": "execute_result"
    }
   ],
   "source": [
    "neighbourhood_info = pd.read_csv('neighbourhood-census-profiles-family-housing-mobility.csv')\n",
    "neighbourhood_info.head()"
   ]
  },
  {
   "cell_type": "code",
   "execution_count": 36,
   "metadata": {},
   "outputs": [],
   "source": [
    "neighbourhood_info.drop([23], inplace = True) # drop kingston row"
   ]
  },
  {
   "cell_type": "code",
   "execution_count": 37,
   "metadata": {},
   "outputs": [],
   "source": [
    "lat = neighbourhood_info['geo_point_2d'].apply(lambda x: x.split(',')).apply(lambda x: float(x[0]))\n",
    "lon = neighbourhood_info['geo_point_2d'].apply(lambda x: x.split(',')).apply(lambda x: float(x[1]))\n",
    "neighbourhood_info['lat'] = lat\n",
    "neighbourhood_info['lon'] = lon"
   ]
  },
  {
   "cell_type": "code",
   "execution_count": 77,
   "metadata": {},
   "outputs": [
    {
     "data": {
      "application/vnd.plotly.v1+json": {
       "config": {
        "plotlyServerURL": "https://plot.ly"
       },
       "data": [
        {
         "customdata": [
          [
           1770
          ],
          [
           1115
          ],
          [
           4475
          ],
          [
           3075
          ],
          [
           2130
          ],
          [
           2295
          ],
          [
           3180
          ],
          [
           600
          ],
          [
           2860
          ],
          [
           2410
          ],
          [
           855
          ],
          [
           4815
          ],
          [
           885
          ],
          [
           3110
          ],
          [
           3270
          ],
          [
           5155
          ],
          [
           3565
          ],
          [
           4985
          ],
          [
           1670
          ],
          [
           1350
          ],
          [
           5575
          ],
          [
           2625
          ],
          [
           680
          ],
          [
           6810
          ],
          [
           1905
          ],
          [
           4665
          ],
          [
           3015
          ],
          [
           2545
          ],
          [
           6940
          ],
          [
           1805
          ],
          [
           2985
          ],
          [
           2510
          ],
          [
           1960
          ],
          [
           5205
          ],
          [
           1275
          ],
          [
           7235
          ],
          [
           1575
          ],
          [
           6455
          ],
          [
           815
          ],
          [
           2900
          ]
         ],
         "hovertemplate": "<b>%{hovertext}</b><br><br>Total Population 2016=%{marker.color}<br>lat=%{lat}<br>lon=%{lon}<extra></extra>",
         "hovertext": [
          "Joyceville / Brewers Mills",
          "Alwington",
          "Cataraqui North",
          "Cataraqui River East",
          "Waterloo Village",
          "Williamsville",
          "Henderson",
          "Kingston Mills",
          "Markers Acres",
          "Portsmouth",
          "Queens",
          "Westwoods",
          "Ravensview",
          "Strathcona Park",
          "Sydenham",
          "Auden Park",
          "Calvin Park",
          "Kingscourt/Novelis(Alcan)",
          "Grenville Park",
          "Lemoine Point",
          "Greenwood / St Lawrence South",
          "Hillendale",
          "Woodbine",
          "Inner Harbour",
          "Mile Square",
          "Sutton Mills",
          "Bayridge East",
          "Elginburg / Silvers Corners / Shannons Corners",
          "Gardiners / Meadowbrook",
          "St Lawrence North",
          "Bayridge West",
          "Fairway Hills",
          "Sharpton / Glenvale",
          "Sunnyside",
          "Reddendale",
          "Cataraqui Westbrook",
          "CFB Kingston",
          "Rideau Heights",
          "Glenburnie",
          "Polson Park"
         ],
         "lat": [
          44.38538292067768,
          44.2228671760366,
          44.26913255386315,
          44.25216048378566,
          44.25482479014073,
          44.238732258564795,
          44.22320702471155,
          44.33299015108012,
          44.271478683058696,
          44.22288021643292,
          44.22844192633718,
          44.25656095044414,
          44.25049101723101,
          44.253291287235896,
          44.227920693257346,
          44.23377791565761,
          44.23551918343361,
          44.258712284706036,
          44.24604013620965,
          44.22699552164968,
          44.27422750914604,
          44.24374599972525,
          44.25863289952579,
          44.240770868297595,
          44.24120948698859,
          44.25390440979864,
          44.243459642870285,
          44.30816658121638,
          44.24569507600156,
          44.30578061860183,
          44.24610543479501,
          44.22650558186618,
          44.320985969572725,
          44.23248337521393,
          44.214741819872245,
          44.27561507095314,
          44.2466417323788,
          44.25865313300536,
          44.31970901246181,
          44.23493569151008
         ],
         "legendgroup": "",
         "lon": [
          -76.28596206890569,
          -76.50605465502022,
          -76.55242248231944,
          -76.45480098302505,
          -76.55088174548007,
          -76.499799574149,
          -76.57772467603452,
          -76.3953386518988,
          -76.47717288687963,
          -76.52108898526039,
          -76.49555375727695,
          -76.59890737062916,
          -76.40142014216717,
          -76.526377201127,
          -76.48588026112948,
          -76.58266533062309,
          -76.52069281587254,
          -76.51140585977939,
          -76.53566597900581,
          -76.60595048418064,
          -76.41678636546013,
          -76.52392835874966,
          -76.63123589245562,
          -76.48014100492158,
          -76.62618844026319,
          -76.57894397099366,
          -76.58466821428027,
          -76.49948020457725,
          -76.5590973923221,
          -76.3387158387717,
          -76.59993818176103,
          -76.53623149205949,
          -76.6178459157399,
          -76.50772822315002,
          -76.56198662690277,
          -76.61147078329336,
          -76.43713507535392,
          -76.47856363657031,
          -76.4428948483943,
          -76.53127866195364
         ],
         "marker": {
          "color": [
           1770,
           1115,
           4475,
           3075,
           2130,
           2295,
           3180,
           600,
           2860,
           2410,
           855,
           4815,
           885,
           3110,
           3270,
           5155,
           3565,
           4985,
           1670,
           1350,
           5575,
           2625,
           680,
           6810,
           1905,
           4665,
           3015,
           2545,
           6940,
           1805,
           2985,
           2510,
           1960,
           5205,
           1275,
           7235,
           1575,
           6455,
           815,
           2900
          ],
          "coloraxis": "coloraxis",
          "size": [
           1770,
           1115,
           4475,
           3075,
           2130,
           2295,
           3180,
           600,
           2860,
           2410,
           855,
           4815,
           885,
           3110,
           3270,
           5155,
           3565,
           4985,
           1670,
           1350,
           5575,
           2625,
           680,
           6810,
           1905,
           4665,
           3015,
           2545,
           6940,
           1805,
           2985,
           2510,
           1960,
           5205,
           1275,
           7235,
           1575,
           6455,
           815,
           2900
          ],
          "sizemode": "area",
          "sizeref": 18.0875
         },
         "mode": "markers",
         "name": "",
         "showlegend": false,
         "subplot": "mapbox",
         "type": "scattermapbox"
        }
       ],
       "layout": {
        "coloraxis": {
         "colorbar": {
          "title": {
           "text": "Total Population 2016"
          }
         },
         "colorscale": [
          [
           0,
           "#000000"
          ],
          [
           0.0625,
           "#001f4d"
          ],
          [
           0.125,
           "#003786"
          ],
          [
           0.1875,
           "#0e58a8"
          ],
          [
           0.25,
           "#217eb8"
          ],
          [
           0.3125,
           "#30a4ca"
          ],
          [
           0.375,
           "#54c8df"
          ],
          [
           0.4375,
           "#9be4ef"
          ],
          [
           0.5,
           "#e1e9d1"
          ],
          [
           0.5625,
           "#f3d573"
          ],
          [
           0.625,
           "#e7b000"
          ],
          [
           0.6875,
           "#da8200"
          ],
          [
           0.75,
           "#c65400"
          ],
          [
           0.8125,
           "#ac2301"
          ],
          [
           0.875,
           "#820000"
          ],
          [
           0.9375,
           "#4c0000"
          ],
          [
           1,
           "#000000"
          ]
         ]
        },
        "height": 600,
        "legend": {
         "itemsizing": "constant",
         "tracegroupgap": 0
        },
        "mapbox": {
         "center": {
          "lat": 44.25708442720787,
          "lon": -76.51625062596845
         },
         "domain": {
          "x": [
           0,
           1
          ],
          "y": [
           0,
           1
          ]
         },
         "style": "open-street-map",
         "zoom": 3
        },
        "margin": {
         "t": 60
        },
        "template": {
         "data": {
          "bar": [
           {
            "error_x": {
             "color": "#2a3f5f"
            },
            "error_y": {
             "color": "#2a3f5f"
            },
            "marker": {
             "line": {
              "color": "#E5ECF6",
              "width": 0.5
             },
             "pattern": {
              "fillmode": "overlay",
              "size": 10,
              "solidity": 0.2
             }
            },
            "type": "bar"
           }
          ],
          "barpolar": [
           {
            "marker": {
             "line": {
              "color": "#E5ECF6",
              "width": 0.5
             },
             "pattern": {
              "fillmode": "overlay",
              "size": 10,
              "solidity": 0.2
             }
            },
            "type": "barpolar"
           }
          ],
          "carpet": [
           {
            "aaxis": {
             "endlinecolor": "#2a3f5f",
             "gridcolor": "white",
             "linecolor": "white",
             "minorgridcolor": "white",
             "startlinecolor": "#2a3f5f"
            },
            "baxis": {
             "endlinecolor": "#2a3f5f",
             "gridcolor": "white",
             "linecolor": "white",
             "minorgridcolor": "white",
             "startlinecolor": "#2a3f5f"
            },
            "type": "carpet"
           }
          ],
          "choropleth": [
           {
            "colorbar": {
             "outlinewidth": 0,
             "ticks": ""
            },
            "type": "choropleth"
           }
          ],
          "contour": [
           {
            "colorbar": {
             "outlinewidth": 0,
             "ticks": ""
            },
            "colorscale": [
             [
              0,
              "#0d0887"
             ],
             [
              0.1111111111111111,
              "#46039f"
             ],
             [
              0.2222222222222222,
              "#7201a8"
             ],
             [
              0.3333333333333333,
              "#9c179e"
             ],
             [
              0.4444444444444444,
              "#bd3786"
             ],
             [
              0.5555555555555556,
              "#d8576b"
             ],
             [
              0.6666666666666666,
              "#ed7953"
             ],
             [
              0.7777777777777778,
              "#fb9f3a"
             ],
             [
              0.8888888888888888,
              "#fdca26"
             ],
             [
              1,
              "#f0f921"
             ]
            ],
            "type": "contour"
           }
          ],
          "contourcarpet": [
           {
            "colorbar": {
             "outlinewidth": 0,
             "ticks": ""
            },
            "type": "contourcarpet"
           }
          ],
          "heatmap": [
           {
            "colorbar": {
             "outlinewidth": 0,
             "ticks": ""
            },
            "colorscale": [
             [
              0,
              "#0d0887"
             ],
             [
              0.1111111111111111,
              "#46039f"
             ],
             [
              0.2222222222222222,
              "#7201a8"
             ],
             [
              0.3333333333333333,
              "#9c179e"
             ],
             [
              0.4444444444444444,
              "#bd3786"
             ],
             [
              0.5555555555555556,
              "#d8576b"
             ],
             [
              0.6666666666666666,
              "#ed7953"
             ],
             [
              0.7777777777777778,
              "#fb9f3a"
             ],
             [
              0.8888888888888888,
              "#fdca26"
             ],
             [
              1,
              "#f0f921"
             ]
            ],
            "type": "heatmap"
           }
          ],
          "heatmapgl": [
           {
            "colorbar": {
             "outlinewidth": 0,
             "ticks": ""
            },
            "colorscale": [
             [
              0,
              "#0d0887"
             ],
             [
              0.1111111111111111,
              "#46039f"
             ],
             [
              0.2222222222222222,
              "#7201a8"
             ],
             [
              0.3333333333333333,
              "#9c179e"
             ],
             [
              0.4444444444444444,
              "#bd3786"
             ],
             [
              0.5555555555555556,
              "#d8576b"
             ],
             [
              0.6666666666666666,
              "#ed7953"
             ],
             [
              0.7777777777777778,
              "#fb9f3a"
             ],
             [
              0.8888888888888888,
              "#fdca26"
             ],
             [
              1,
              "#f0f921"
             ]
            ],
            "type": "heatmapgl"
           }
          ],
          "histogram": [
           {
            "marker": {
             "pattern": {
              "fillmode": "overlay",
              "size": 10,
              "solidity": 0.2
             }
            },
            "type": "histogram"
           }
          ],
          "histogram2d": [
           {
            "colorbar": {
             "outlinewidth": 0,
             "ticks": ""
            },
            "colorscale": [
             [
              0,
              "#0d0887"
             ],
             [
              0.1111111111111111,
              "#46039f"
             ],
             [
              0.2222222222222222,
              "#7201a8"
             ],
             [
              0.3333333333333333,
              "#9c179e"
             ],
             [
              0.4444444444444444,
              "#bd3786"
             ],
             [
              0.5555555555555556,
              "#d8576b"
             ],
             [
              0.6666666666666666,
              "#ed7953"
             ],
             [
              0.7777777777777778,
              "#fb9f3a"
             ],
             [
              0.8888888888888888,
              "#fdca26"
             ],
             [
              1,
              "#f0f921"
             ]
            ],
            "type": "histogram2d"
           }
          ],
          "histogram2dcontour": [
           {
            "colorbar": {
             "outlinewidth": 0,
             "ticks": ""
            },
            "colorscale": [
             [
              0,
              "#0d0887"
             ],
             [
              0.1111111111111111,
              "#46039f"
             ],
             [
              0.2222222222222222,
              "#7201a8"
             ],
             [
              0.3333333333333333,
              "#9c179e"
             ],
             [
              0.4444444444444444,
              "#bd3786"
             ],
             [
              0.5555555555555556,
              "#d8576b"
             ],
             [
              0.6666666666666666,
              "#ed7953"
             ],
             [
              0.7777777777777778,
              "#fb9f3a"
             ],
             [
              0.8888888888888888,
              "#fdca26"
             ],
             [
              1,
              "#f0f921"
             ]
            ],
            "type": "histogram2dcontour"
           }
          ],
          "mesh3d": [
           {
            "colorbar": {
             "outlinewidth": 0,
             "ticks": ""
            },
            "type": "mesh3d"
           }
          ],
          "parcoords": [
           {
            "line": {
             "colorbar": {
              "outlinewidth": 0,
              "ticks": ""
             }
            },
            "type": "parcoords"
           }
          ],
          "pie": [
           {
            "automargin": true,
            "type": "pie"
           }
          ],
          "scatter": [
           {
            "marker": {
             "colorbar": {
              "outlinewidth": 0,
              "ticks": ""
             }
            },
            "type": "scatter"
           }
          ],
          "scatter3d": [
           {
            "line": {
             "colorbar": {
              "outlinewidth": 0,
              "ticks": ""
             }
            },
            "marker": {
             "colorbar": {
              "outlinewidth": 0,
              "ticks": ""
             }
            },
            "type": "scatter3d"
           }
          ],
          "scattercarpet": [
           {
            "marker": {
             "colorbar": {
              "outlinewidth": 0,
              "ticks": ""
             }
            },
            "type": "scattercarpet"
           }
          ],
          "scattergeo": [
           {
            "marker": {
             "colorbar": {
              "outlinewidth": 0,
              "ticks": ""
             }
            },
            "type": "scattergeo"
           }
          ],
          "scattergl": [
           {
            "marker": {
             "colorbar": {
              "outlinewidth": 0,
              "ticks": ""
             }
            },
            "type": "scattergl"
           }
          ],
          "scattermapbox": [
           {
            "marker": {
             "colorbar": {
              "outlinewidth": 0,
              "ticks": ""
             }
            },
            "type": "scattermapbox"
           }
          ],
          "scatterpolar": [
           {
            "marker": {
             "colorbar": {
              "outlinewidth": 0,
              "ticks": ""
             }
            },
            "type": "scatterpolar"
           }
          ],
          "scatterpolargl": [
           {
            "marker": {
             "colorbar": {
              "outlinewidth": 0,
              "ticks": ""
             }
            },
            "type": "scatterpolargl"
           }
          ],
          "scatterternary": [
           {
            "marker": {
             "colorbar": {
              "outlinewidth": 0,
              "ticks": ""
             }
            },
            "type": "scatterternary"
           }
          ],
          "surface": [
           {
            "colorbar": {
             "outlinewidth": 0,
             "ticks": ""
            },
            "colorscale": [
             [
              0,
              "#0d0887"
             ],
             [
              0.1111111111111111,
              "#46039f"
             ],
             [
              0.2222222222222222,
              "#7201a8"
             ],
             [
              0.3333333333333333,
              "#9c179e"
             ],
             [
              0.4444444444444444,
              "#bd3786"
             ],
             [
              0.5555555555555556,
              "#d8576b"
             ],
             [
              0.6666666666666666,
              "#ed7953"
             ],
             [
              0.7777777777777778,
              "#fb9f3a"
             ],
             [
              0.8888888888888888,
              "#fdca26"
             ],
             [
              1,
              "#f0f921"
             ]
            ],
            "type": "surface"
           }
          ],
          "table": [
           {
            "cells": {
             "fill": {
              "color": "#EBF0F8"
             },
             "line": {
              "color": "white"
             }
            },
            "header": {
             "fill": {
              "color": "#C8D4E3"
             },
             "line": {
              "color": "white"
             }
            },
            "type": "table"
           }
          ]
         },
         "layout": {
          "annotationdefaults": {
           "arrowcolor": "#2a3f5f",
           "arrowhead": 0,
           "arrowwidth": 1
          },
          "autotypenumbers": "strict",
          "coloraxis": {
           "colorbar": {
            "outlinewidth": 0,
            "ticks": ""
           }
          },
          "colorscale": {
           "diverging": [
            [
             0,
             "#8e0152"
            ],
            [
             0.1,
             "#c51b7d"
            ],
            [
             0.2,
             "#de77ae"
            ],
            [
             0.3,
             "#f1b6da"
            ],
            [
             0.4,
             "#fde0ef"
            ],
            [
             0.5,
             "#f7f7f7"
            ],
            [
             0.6,
             "#e6f5d0"
            ],
            [
             0.7,
             "#b8e186"
            ],
            [
             0.8,
             "#7fbc41"
            ],
            [
             0.9,
             "#4d9221"
            ],
            [
             1,
             "#276419"
            ]
           ],
           "sequential": [
            [
             0,
             "#0d0887"
            ],
            [
             0.1111111111111111,
             "#46039f"
            ],
            [
             0.2222222222222222,
             "#7201a8"
            ],
            [
             0.3333333333333333,
             "#9c179e"
            ],
            [
             0.4444444444444444,
             "#bd3786"
            ],
            [
             0.5555555555555556,
             "#d8576b"
            ],
            [
             0.6666666666666666,
             "#ed7953"
            ],
            [
             0.7777777777777778,
             "#fb9f3a"
            ],
            [
             0.8888888888888888,
             "#fdca26"
            ],
            [
             1,
             "#f0f921"
            ]
           ],
           "sequentialminus": [
            [
             0,
             "#0d0887"
            ],
            [
             0.1111111111111111,
             "#46039f"
            ],
            [
             0.2222222222222222,
             "#7201a8"
            ],
            [
             0.3333333333333333,
             "#9c179e"
            ],
            [
             0.4444444444444444,
             "#bd3786"
            ],
            [
             0.5555555555555556,
             "#d8576b"
            ],
            [
             0.6666666666666666,
             "#ed7953"
            ],
            [
             0.7777777777777778,
             "#fb9f3a"
            ],
            [
             0.8888888888888888,
             "#fdca26"
            ],
            [
             1,
             "#f0f921"
            ]
           ]
          },
          "colorway": [
           "#636efa",
           "#EF553B",
           "#00cc96",
           "#ab63fa",
           "#FFA15A",
           "#19d3f3",
           "#FF6692",
           "#B6E880",
           "#FF97FF",
           "#FECB52"
          ],
          "font": {
           "color": "#2a3f5f"
          },
          "geo": {
           "bgcolor": "white",
           "lakecolor": "white",
           "landcolor": "#E5ECF6",
           "showlakes": true,
           "showland": true,
           "subunitcolor": "white"
          },
          "hoverlabel": {
           "align": "left"
          },
          "hovermode": "closest",
          "mapbox": {
           "style": "light"
          },
          "paper_bgcolor": "white",
          "plot_bgcolor": "#E5ECF6",
          "polar": {
           "angularaxis": {
            "gridcolor": "white",
            "linecolor": "white",
            "ticks": ""
           },
           "bgcolor": "#E5ECF6",
           "radialaxis": {
            "gridcolor": "white",
            "linecolor": "white",
            "ticks": ""
           }
          },
          "scene": {
           "xaxis": {
            "backgroundcolor": "#E5ECF6",
            "gridcolor": "white",
            "gridwidth": 2,
            "linecolor": "white",
            "showbackground": true,
            "ticks": "",
            "zerolinecolor": "white"
           },
           "yaxis": {
            "backgroundcolor": "#E5ECF6",
            "gridcolor": "white",
            "gridwidth": 2,
            "linecolor": "white",
            "showbackground": true,
            "ticks": "",
            "zerolinecolor": "white"
           },
           "zaxis": {
            "backgroundcolor": "#E5ECF6",
            "gridcolor": "white",
            "gridwidth": 2,
            "linecolor": "white",
            "showbackground": true,
            "ticks": "",
            "zerolinecolor": "white"
           }
          },
          "shapedefaults": {
           "line": {
            "color": "#2a3f5f"
           }
          },
          "ternary": {
           "aaxis": {
            "gridcolor": "white",
            "linecolor": "white",
            "ticks": ""
           },
           "baxis": {
            "gridcolor": "white",
            "linecolor": "white",
            "ticks": ""
           },
           "bgcolor": "#E5ECF6",
           "caxis": {
            "gridcolor": "white",
            "linecolor": "white",
            "ticks": ""
           }
          },
          "title": {
           "x": 0.05
          },
          "xaxis": {
           "automargin": true,
           "gridcolor": "white",
           "linecolor": "white",
           "ticks": "",
           "title": {
            "standoff": 15
           },
           "zerolinecolor": "white",
           "zerolinewidth": 2
          },
          "yaxis": {
           "automargin": true,
           "gridcolor": "white",
           "linecolor": "white",
           "ticks": "",
           "title": {
            "standoff": 15
           },
           "zerolinecolor": "white",
           "zerolinewidth": 2
          }
         }
        }
       }
      },
      "text/html": [
       "<div>                            <div id=\"d9f9ee2b-9903-4f2c-845b-fe62b8924bcd\" class=\"plotly-graph-div\" style=\"height:600px; width:100%;\"></div>            <script type=\"text/javascript\">                require([\"plotly\"], function(Plotly) {                    window.PLOTLYENV=window.PLOTLYENV || {};                                    if (document.getElementById(\"d9f9ee2b-9903-4f2c-845b-fe62b8924bcd\")) {                    Plotly.newPlot(                        \"d9f9ee2b-9903-4f2c-845b-fe62b8924bcd\",                        [{\"customdata\":[[1770],[1115],[4475],[3075],[2130],[2295],[3180],[600],[2860],[2410],[855],[4815],[885],[3110],[3270],[5155],[3565],[4985],[1670],[1350],[5575],[2625],[680],[6810],[1905],[4665],[3015],[2545],[6940],[1805],[2985],[2510],[1960],[5205],[1275],[7235],[1575],[6455],[815],[2900]],\"hovertemplate\":\"<b>%{hovertext}</b><br><br>Total Population 2016=%{marker.color}<br>lat=%{lat}<br>lon=%{lon}<extra></extra>\",\"hovertext\":[\"Joyceville / Brewers Mills\",\"Alwington\",\"Cataraqui North\",\"Cataraqui River East\",\"Waterloo Village\",\"Williamsville\",\"Henderson\",\"Kingston Mills\",\"Markers Acres\",\"Portsmouth\",\"Queens\",\"Westwoods\",\"Ravensview\",\"Strathcona Park\",\"Sydenham\",\"Auden Park\",\"Calvin Park\",\"Kingscourt/Novelis(Alcan)\",\"Grenville Park\",\"Lemoine Point\",\"Greenwood / St Lawrence South\",\"Hillendale\",\"Woodbine\",\"Inner Harbour\",\"Mile Square\",\"Sutton Mills\",\"Bayridge East\",\"Elginburg / Silvers Corners / Shannons Corners\",\"Gardiners / Meadowbrook\",\"St Lawrence North\",\"Bayridge West\",\"Fairway Hills\",\"Sharpton / Glenvale\",\"Sunnyside\",\"Reddendale\",\"Cataraqui Westbrook\",\"CFB Kingston\",\"Rideau Heights\",\"Glenburnie\",\"Polson Park\"],\"lat\":[44.38538292067768,44.2228671760366,44.26913255386315,44.25216048378566,44.25482479014073,44.238732258564795,44.22320702471155,44.33299015108012,44.271478683058696,44.22288021643292,44.22844192633718,44.25656095044414,44.25049101723101,44.253291287235896,44.227920693257346,44.23377791565761,44.23551918343361,44.258712284706036,44.24604013620965,44.22699552164968,44.27422750914604,44.24374599972525,44.25863289952579,44.240770868297595,44.24120948698859,44.25390440979864,44.243459642870285,44.30816658121638,44.24569507600156,44.30578061860183,44.24610543479501,44.22650558186618,44.320985969572725,44.23248337521393,44.214741819872245,44.27561507095314,44.2466417323788,44.25865313300536,44.31970901246181,44.23493569151008],\"legendgroup\":\"\",\"lon\":[-76.28596206890569,-76.50605465502022,-76.55242248231944,-76.45480098302505,-76.55088174548007,-76.499799574149,-76.57772467603452,-76.3953386518988,-76.47717288687963,-76.52108898526039,-76.49555375727695,-76.59890737062916,-76.40142014216717,-76.526377201127,-76.48588026112948,-76.58266533062309,-76.52069281587254,-76.51140585977939,-76.53566597900581,-76.60595048418064,-76.41678636546013,-76.52392835874966,-76.63123589245562,-76.48014100492158,-76.62618844026319,-76.57894397099366,-76.58466821428027,-76.49948020457725,-76.5590973923221,-76.3387158387717,-76.59993818176103,-76.53623149205949,-76.6178459157399,-76.50772822315002,-76.56198662690277,-76.61147078329336,-76.43713507535392,-76.47856363657031,-76.4428948483943,-76.53127866195364],\"marker\":{\"color\":[1770,1115,4475,3075,2130,2295,3180,600,2860,2410,855,4815,885,3110,3270,5155,3565,4985,1670,1350,5575,2625,680,6810,1905,4665,3015,2545,6940,1805,2985,2510,1960,5205,1275,7235,1575,6455,815,2900],\"coloraxis\":\"coloraxis\",\"size\":[1770,1115,4475,3075,2130,2295,3180,600,2860,2410,855,4815,885,3110,3270,5155,3565,4985,1670,1350,5575,2625,680,6810,1905,4665,3015,2545,6940,1805,2985,2510,1960,5205,1275,7235,1575,6455,815,2900],\"sizemode\":\"area\",\"sizeref\":18.0875},\"mode\":\"markers\",\"name\":\"\",\"showlegend\":false,\"subplot\":\"mapbox\",\"type\":\"scattermapbox\"}],                        {\"template\":{\"data\":{\"bar\":[{\"error_x\":{\"color\":\"#2a3f5f\"},\"error_y\":{\"color\":\"#2a3f5f\"},\"marker\":{\"line\":{\"color\":\"#E5ECF6\",\"width\":0.5},\"pattern\":{\"fillmode\":\"overlay\",\"size\":10,\"solidity\":0.2}},\"type\":\"bar\"}],\"barpolar\":[{\"marker\":{\"line\":{\"color\":\"#E5ECF6\",\"width\":0.5},\"pattern\":{\"fillmode\":\"overlay\",\"size\":10,\"solidity\":0.2}},\"type\":\"barpolar\"}],\"carpet\":[{\"aaxis\":{\"endlinecolor\":\"#2a3f5f\",\"gridcolor\":\"white\",\"linecolor\":\"white\",\"minorgridcolor\":\"white\",\"startlinecolor\":\"#2a3f5f\"},\"baxis\":{\"endlinecolor\":\"#2a3f5f\",\"gridcolor\":\"white\",\"linecolor\":\"white\",\"minorgridcolor\":\"white\",\"startlinecolor\":\"#2a3f5f\"},\"type\":\"carpet\"}],\"choropleth\":[{\"colorbar\":{\"outlinewidth\":0,\"ticks\":\"\"},\"type\":\"choropleth\"}],\"contour\":[{\"colorbar\":{\"outlinewidth\":0,\"ticks\":\"\"},\"colorscale\":[[0.0,\"#0d0887\"],[0.1111111111111111,\"#46039f\"],[0.2222222222222222,\"#7201a8\"],[0.3333333333333333,\"#9c179e\"],[0.4444444444444444,\"#bd3786\"],[0.5555555555555556,\"#d8576b\"],[0.6666666666666666,\"#ed7953\"],[0.7777777777777778,\"#fb9f3a\"],[0.8888888888888888,\"#fdca26\"],[1.0,\"#f0f921\"]],\"type\":\"contour\"}],\"contourcarpet\":[{\"colorbar\":{\"outlinewidth\":0,\"ticks\":\"\"},\"type\":\"contourcarpet\"}],\"heatmap\":[{\"colorbar\":{\"outlinewidth\":0,\"ticks\":\"\"},\"colorscale\":[[0.0,\"#0d0887\"],[0.1111111111111111,\"#46039f\"],[0.2222222222222222,\"#7201a8\"],[0.3333333333333333,\"#9c179e\"],[0.4444444444444444,\"#bd3786\"],[0.5555555555555556,\"#d8576b\"],[0.6666666666666666,\"#ed7953\"],[0.7777777777777778,\"#fb9f3a\"],[0.8888888888888888,\"#fdca26\"],[1.0,\"#f0f921\"]],\"type\":\"heatmap\"}],\"heatmapgl\":[{\"colorbar\":{\"outlinewidth\":0,\"ticks\":\"\"},\"colorscale\":[[0.0,\"#0d0887\"],[0.1111111111111111,\"#46039f\"],[0.2222222222222222,\"#7201a8\"],[0.3333333333333333,\"#9c179e\"],[0.4444444444444444,\"#bd3786\"],[0.5555555555555556,\"#d8576b\"],[0.6666666666666666,\"#ed7953\"],[0.7777777777777778,\"#fb9f3a\"],[0.8888888888888888,\"#fdca26\"],[1.0,\"#f0f921\"]],\"type\":\"heatmapgl\"}],\"histogram\":[{\"marker\":{\"pattern\":{\"fillmode\":\"overlay\",\"size\":10,\"solidity\":0.2}},\"type\":\"histogram\"}],\"histogram2d\":[{\"colorbar\":{\"outlinewidth\":0,\"ticks\":\"\"},\"colorscale\":[[0.0,\"#0d0887\"],[0.1111111111111111,\"#46039f\"],[0.2222222222222222,\"#7201a8\"],[0.3333333333333333,\"#9c179e\"],[0.4444444444444444,\"#bd3786\"],[0.5555555555555556,\"#d8576b\"],[0.6666666666666666,\"#ed7953\"],[0.7777777777777778,\"#fb9f3a\"],[0.8888888888888888,\"#fdca26\"],[1.0,\"#f0f921\"]],\"type\":\"histogram2d\"}],\"histogram2dcontour\":[{\"colorbar\":{\"outlinewidth\":0,\"ticks\":\"\"},\"colorscale\":[[0.0,\"#0d0887\"],[0.1111111111111111,\"#46039f\"],[0.2222222222222222,\"#7201a8\"],[0.3333333333333333,\"#9c179e\"],[0.4444444444444444,\"#bd3786\"],[0.5555555555555556,\"#d8576b\"],[0.6666666666666666,\"#ed7953\"],[0.7777777777777778,\"#fb9f3a\"],[0.8888888888888888,\"#fdca26\"],[1.0,\"#f0f921\"]],\"type\":\"histogram2dcontour\"}],\"mesh3d\":[{\"colorbar\":{\"outlinewidth\":0,\"ticks\":\"\"},\"type\":\"mesh3d\"}],\"parcoords\":[{\"line\":{\"colorbar\":{\"outlinewidth\":0,\"ticks\":\"\"}},\"type\":\"parcoords\"}],\"pie\":[{\"automargin\":true,\"type\":\"pie\"}],\"scatter\":[{\"marker\":{\"colorbar\":{\"outlinewidth\":0,\"ticks\":\"\"}},\"type\":\"scatter\"}],\"scatter3d\":[{\"line\":{\"colorbar\":{\"outlinewidth\":0,\"ticks\":\"\"}},\"marker\":{\"colorbar\":{\"outlinewidth\":0,\"ticks\":\"\"}},\"type\":\"scatter3d\"}],\"scattercarpet\":[{\"marker\":{\"colorbar\":{\"outlinewidth\":0,\"ticks\":\"\"}},\"type\":\"scattercarpet\"}],\"scattergeo\":[{\"marker\":{\"colorbar\":{\"outlinewidth\":0,\"ticks\":\"\"}},\"type\":\"scattergeo\"}],\"scattergl\":[{\"marker\":{\"colorbar\":{\"outlinewidth\":0,\"ticks\":\"\"}},\"type\":\"scattergl\"}],\"scattermapbox\":[{\"marker\":{\"colorbar\":{\"outlinewidth\":0,\"ticks\":\"\"}},\"type\":\"scattermapbox\"}],\"scatterpolar\":[{\"marker\":{\"colorbar\":{\"outlinewidth\":0,\"ticks\":\"\"}},\"type\":\"scatterpolar\"}],\"scatterpolargl\":[{\"marker\":{\"colorbar\":{\"outlinewidth\":0,\"ticks\":\"\"}},\"type\":\"scatterpolargl\"}],\"scatterternary\":[{\"marker\":{\"colorbar\":{\"outlinewidth\":0,\"ticks\":\"\"}},\"type\":\"scatterternary\"}],\"surface\":[{\"colorbar\":{\"outlinewidth\":0,\"ticks\":\"\"},\"colorscale\":[[0.0,\"#0d0887\"],[0.1111111111111111,\"#46039f\"],[0.2222222222222222,\"#7201a8\"],[0.3333333333333333,\"#9c179e\"],[0.4444444444444444,\"#bd3786\"],[0.5555555555555556,\"#d8576b\"],[0.6666666666666666,\"#ed7953\"],[0.7777777777777778,\"#fb9f3a\"],[0.8888888888888888,\"#fdca26\"],[1.0,\"#f0f921\"]],\"type\":\"surface\"}],\"table\":[{\"cells\":{\"fill\":{\"color\":\"#EBF0F8\"},\"line\":{\"color\":\"white\"}},\"header\":{\"fill\":{\"color\":\"#C8D4E3\"},\"line\":{\"color\":\"white\"}},\"type\":\"table\"}]},\"layout\":{\"annotationdefaults\":{\"arrowcolor\":\"#2a3f5f\",\"arrowhead\":0,\"arrowwidth\":1},\"autotypenumbers\":\"strict\",\"coloraxis\":{\"colorbar\":{\"outlinewidth\":0,\"ticks\":\"\"}},\"colorscale\":{\"diverging\":[[0,\"#8e0152\"],[0.1,\"#c51b7d\"],[0.2,\"#de77ae\"],[0.3,\"#f1b6da\"],[0.4,\"#fde0ef\"],[0.5,\"#f7f7f7\"],[0.6,\"#e6f5d0\"],[0.7,\"#b8e186\"],[0.8,\"#7fbc41\"],[0.9,\"#4d9221\"],[1,\"#276419\"]],\"sequential\":[[0.0,\"#0d0887\"],[0.1111111111111111,\"#46039f\"],[0.2222222222222222,\"#7201a8\"],[0.3333333333333333,\"#9c179e\"],[0.4444444444444444,\"#bd3786\"],[0.5555555555555556,\"#d8576b\"],[0.6666666666666666,\"#ed7953\"],[0.7777777777777778,\"#fb9f3a\"],[0.8888888888888888,\"#fdca26\"],[1.0,\"#f0f921\"]],\"sequentialminus\":[[0.0,\"#0d0887\"],[0.1111111111111111,\"#46039f\"],[0.2222222222222222,\"#7201a8\"],[0.3333333333333333,\"#9c179e\"],[0.4444444444444444,\"#bd3786\"],[0.5555555555555556,\"#d8576b\"],[0.6666666666666666,\"#ed7953\"],[0.7777777777777778,\"#fb9f3a\"],[0.8888888888888888,\"#fdca26\"],[1.0,\"#f0f921\"]]},\"colorway\":[\"#636efa\",\"#EF553B\",\"#00cc96\",\"#ab63fa\",\"#FFA15A\",\"#19d3f3\",\"#FF6692\",\"#B6E880\",\"#FF97FF\",\"#FECB52\"],\"font\":{\"color\":\"#2a3f5f\"},\"geo\":{\"bgcolor\":\"white\",\"lakecolor\":\"white\",\"landcolor\":\"#E5ECF6\",\"showlakes\":true,\"showland\":true,\"subunitcolor\":\"white\"},\"hoverlabel\":{\"align\":\"left\"},\"hovermode\":\"closest\",\"mapbox\":{\"style\":\"light\"},\"paper_bgcolor\":\"white\",\"plot_bgcolor\":\"#E5ECF6\",\"polar\":{\"angularaxis\":{\"gridcolor\":\"white\",\"linecolor\":\"white\",\"ticks\":\"\"},\"bgcolor\":\"#E5ECF6\",\"radialaxis\":{\"gridcolor\":\"white\",\"linecolor\":\"white\",\"ticks\":\"\"}},\"scene\":{\"xaxis\":{\"backgroundcolor\":\"#E5ECF6\",\"gridcolor\":\"white\",\"gridwidth\":2,\"linecolor\":\"white\",\"showbackground\":true,\"ticks\":\"\",\"zerolinecolor\":\"white\"},\"yaxis\":{\"backgroundcolor\":\"#E5ECF6\",\"gridcolor\":\"white\",\"gridwidth\":2,\"linecolor\":\"white\",\"showbackground\":true,\"ticks\":\"\",\"zerolinecolor\":\"white\"},\"zaxis\":{\"backgroundcolor\":\"#E5ECF6\",\"gridcolor\":\"white\",\"gridwidth\":2,\"linecolor\":\"white\",\"showbackground\":true,\"ticks\":\"\",\"zerolinecolor\":\"white\"}},\"shapedefaults\":{\"line\":{\"color\":\"#2a3f5f\"}},\"ternary\":{\"aaxis\":{\"gridcolor\":\"white\",\"linecolor\":\"white\",\"ticks\":\"\"},\"baxis\":{\"gridcolor\":\"white\",\"linecolor\":\"white\",\"ticks\":\"\"},\"bgcolor\":\"#E5ECF6\",\"caxis\":{\"gridcolor\":\"white\",\"linecolor\":\"white\",\"ticks\":\"\"}},\"title\":{\"x\":0.05},\"xaxis\":{\"automargin\":true,\"gridcolor\":\"white\",\"linecolor\":\"white\",\"ticks\":\"\",\"title\":{\"standoff\":15},\"zerolinecolor\":\"white\",\"zerolinewidth\":2},\"yaxis\":{\"automargin\":true,\"gridcolor\":\"white\",\"linecolor\":\"white\",\"ticks\":\"\",\"title\":{\"standoff\":15},\"zerolinecolor\":\"white\",\"zerolinewidth\":2}}},\"mapbox\":{\"domain\":{\"x\":[0.0,1.0],\"y\":[0.0,1.0]},\"center\":{\"lat\":44.25708442720787,\"lon\":-76.51625062596845},\"zoom\":3,\"style\":\"open-street-map\"},\"coloraxis\":{\"colorbar\":{\"title\":{\"text\":\"Total Population 2016\"}},\"colorscale\":[[0.0,\"#000000\"],[0.0625,\"#001f4d\"],[0.125,\"#003786\"],[0.1875,\"#0e58a8\"],[0.25,\"#217eb8\"],[0.3125,\"#30a4ca\"],[0.375,\"#54c8df\"],[0.4375,\"#9be4ef\"],[0.5,\"#e1e9d1\"],[0.5625,\"#f3d573\"],[0.625,\"#e7b000\"],[0.6875,\"#da8200\"],[0.75,\"#c65400\"],[0.8125,\"#ac2301\"],[0.875,\"#820000\"],[0.9375,\"#4c0000\"],[1.0,\"#000000\"]]},\"legend\":{\"tracegroupgap\":0,\"itemsizing\":\"constant\"},\"margin\":{\"t\":60},\"height\":600},                        {\"responsive\": true}                    ).then(function(){\n",
       "                            \n",
       "var gd = document.getElementById('d9f9ee2b-9903-4f2c-845b-fe62b8924bcd');\n",
       "var x = new MutationObserver(function (mutations, observer) {{\n",
       "        var display = window.getComputedStyle(gd).display;\n",
       "        if (!display || display === 'none') {{\n",
       "            console.log([gd, 'removed!']);\n",
       "            Plotly.purge(gd);\n",
       "            observer.disconnect();\n",
       "        }}\n",
       "}});\n",
       "\n",
       "// Listen for the removal of the full notebook cells\n",
       "var notebookContainer = gd.closest('#notebook-container');\n",
       "if (notebookContainer) {{\n",
       "    x.observe(notebookContainer, {childList: true});\n",
       "}}\n",
       "\n",
       "// Listen for the clearing of the current output cell\n",
       "var outputEl = gd.closest('.output');\n",
       "if (outputEl) {{\n",
       "    x.observe(outputEl, {childList: true});\n",
       "}}\n",
       "\n",
       "                        })                };                });            </script>        </div>"
      ]
     },
     "metadata": {},
     "output_type": "display_data"
    }
   ],
   "source": [
    "fig = px.scatter_mapbox(neighbourhood_info, lat=\"lat\", lon=\"lon\", hover_name=\"Community Name\", hover_data=[\"Total Population 2016\"],\n",
    "                        color =\"Total Population 2016\", color_continuous_scale=px.colors.cyclical.IceFire, size =\"Total Population 2016\",  zoom=3, height=600)\n",
    "fig.update_layout(mapbox_style=\"open-street-map\")\n",
    "fig.show()\n",
    "\n"
   ]
  },
  {
   "cell_type": "code",
   "execution_count": 125,
   "metadata": {},
   "outputs": [],
   "source": [
    "from functools import partial\n",
    "import pyproj\n",
    "from shapely.geometry import Polygon\n",
    "import shapely.ops as ops\n",
    "from shapely.ops import transform"
   ]
  },
  {
   "cell_type": "code",
   "execution_count": 126,
   "metadata": {},
   "outputs": [],
   "source": [
    "neighbourhood_info.reset_index(inplace = True)"
   ]
  },
  {
   "cell_type": "code",
   "execution_count": 127,
   "metadata": {},
   "outputs": [],
   "source": [
    "# region area\n",
    "area = []\n",
    "for i in range(neighbourhood_info.shape[0]):\n",
    "    #print(i)\n",
    "    l = json.loads(neighbourhood_info['GeoJSON'][i])['coordinates'][0]\n",
    "    if i == 12 or i == 29 or i == 36:\n",
    "        l = json.loads(neighbourhood_info['GeoJSON'][i])['coordinates'][0][0]\n",
    "    polygon = Polygon(l)\n",
    "    area +=[polygon.area]"
   ]
  },
  {
   "cell_type": "code",
   "execution_count": 128,
   "metadata": {},
   "outputs": [
    {
     "data": {
      "text/plain": [
       "[0.01130255958508533,\n",
       " 7.138383799617402e-05,\n",
       " 0.0008859527299821643,\n",
       " 0.00033429413050095407,\n",
       " 0.00010202239466511153]"
      ]
     },
     "execution_count": 128,
     "metadata": {},
     "output_type": "execute_result"
    }
   ],
   "source": [
    "area[0:5]"
   ]
  },
  {
   "cell_type": "code",
   "execution_count": 129,
   "metadata": {},
   "outputs": [],
   "source": [
    "sum_area = sum(area)\n",
    "for i in range(len(area)):\n",
    "    area[i] = area[i]/sum_area #percentage of area in kingston\n",
    "    # kingston is 450.4 km²\n",
    "    area[i] = area[i] * 450.4"
   ]
  },
  {
   "cell_type": "code",
   "execution_count": 130,
   "metadata": {},
   "outputs": [
    {
     "data": {
      "application/vnd.plotly.v1+json": {
       "config": {
        "plotlyServerURL": "https://plot.ly"
       },
       "data": [
        {
         "customdata": [
          [
           18.44386257591245
          ],
          [
           1839.6296030327458
          ],
          [
           594.8916942834395
          ],
          [
           1083.3574775965571
          ],
          [
           2458.8922997131012
          ],
          [
           3971.459527274691
          ],
          [
           2186.7875171294463
          ],
          [
           33.88075143551003
          ],
          [
           925.3029160161572
          ],
          [
           1538.079617572629
          ],
          [
           881.8908980034993
          ],
          [
           2230.7802131486483
          ],
          [
           413.6819736591641
          ],
          [
           1981.6683754961075
          ],
          [
           4176.805480316277
          ],
          [
           2775.772321825527
          ],
          [
           3210.5418622121683
          ],
          [
           704.989797965275
          ],
          [
           1395.5910468974917
          ],
          [
           196.56214932563316
          ],
          [
           302.1003155156906
          ],
          [
           3248.0767536103945
          ],
          [
           116.10331434406795
          ],
          [
           1990.344391756216
          ],
          [
           503.46582131003356
          ],
          [
           3315.071241600805
          ],
          [
           2346.143198238258
          ],
          [
           55.04539086485
          ],
          [
           1340.1867711695168
          ],
          [
           28.331630905846588
          ],
          [
           1708.69441107516
          ],
          [
           979.765766246402
          ],
          [
           22.972113901313094
          ],
          [
           3299.800450881048
          ],
          [
           621.9225249305348
          ],
          [
           412.9656229468031
          ],
          [
           171.78811427626664
          ],
          [
           1107.670450530812
          ],
          [
           50.97515438758063
          ],
          [
           5016.563115503821
          ]
         ],
         "hovertemplate": "<b>%{hovertext}</b><br><br>population/area(km²)=%{marker.color}<br>lat=%{lat}<br>lon=%{lon}<extra></extra>",
         "hovertext": [
          "Joyceville / Brewers Mills",
          "Alwington",
          "Cataraqui North",
          "Cataraqui River East",
          "Waterloo Village",
          "Williamsville",
          "Henderson",
          "Kingston Mills",
          "Markers Acres",
          "Portsmouth",
          "Queens",
          "Westwoods",
          "Ravensview",
          "Strathcona Park",
          "Sydenham",
          "Auden Park",
          "Calvin Park",
          "Kingscourt/Novelis(Alcan)",
          "Grenville Park",
          "Lemoine Point",
          "Greenwood / St Lawrence South",
          "Hillendale",
          "Woodbine",
          "Inner Harbour",
          "Mile Square",
          "Sutton Mills",
          "Bayridge East",
          "Elginburg / Silvers Corners / Shannons Corners",
          "Gardiners / Meadowbrook",
          "St Lawrence North",
          "Bayridge West",
          "Fairway Hills",
          "Sharpton / Glenvale",
          "Sunnyside",
          "Reddendale",
          "Cataraqui Westbrook",
          "CFB Kingston",
          "Rideau Heights",
          "Glenburnie",
          "Polson Park"
         ],
         "lat": [
          44.38538292067768,
          44.2228671760366,
          44.26913255386315,
          44.25216048378566,
          44.25482479014073,
          44.238732258564795,
          44.22320702471155,
          44.33299015108012,
          44.271478683058696,
          44.22288021643292,
          44.22844192633718,
          44.25656095044414,
          44.25049101723101,
          44.253291287235896,
          44.227920693257346,
          44.23377791565761,
          44.23551918343361,
          44.258712284706036,
          44.24604013620965,
          44.22699552164968,
          44.27422750914604,
          44.24374599972525,
          44.25863289952579,
          44.240770868297595,
          44.24120948698859,
          44.25390440979864,
          44.243459642870285,
          44.30816658121638,
          44.24569507600156,
          44.30578061860183,
          44.24610543479501,
          44.22650558186618,
          44.320985969572725,
          44.23248337521393,
          44.214741819872245,
          44.27561507095314,
          44.2466417323788,
          44.25865313300536,
          44.31970901246181,
          44.23493569151008
         ],
         "legendgroup": "",
         "lon": [
          -76.28596206890569,
          -76.50605465502022,
          -76.55242248231944,
          -76.45480098302505,
          -76.55088174548007,
          -76.499799574149,
          -76.57772467603452,
          -76.3953386518988,
          -76.47717288687963,
          -76.52108898526039,
          -76.49555375727695,
          -76.59890737062916,
          -76.40142014216717,
          -76.526377201127,
          -76.48588026112948,
          -76.58266533062309,
          -76.52069281587254,
          -76.51140585977939,
          -76.53566597900581,
          -76.60595048418064,
          -76.41678636546013,
          -76.52392835874966,
          -76.63123589245562,
          -76.48014100492158,
          -76.62618844026319,
          -76.57894397099366,
          -76.58466821428027,
          -76.49948020457725,
          -76.5590973923221,
          -76.3387158387717,
          -76.59993818176103,
          -76.53623149205949,
          -76.6178459157399,
          -76.50772822315002,
          -76.56198662690277,
          -76.61147078329336,
          -76.43713507535392,
          -76.47856363657031,
          -76.4428948483943,
          -76.53127866195364
         ],
         "marker": {
          "color": [
           18.44386257591245,
           1839.6296030327458,
           594.8916942834395,
           1083.3574775965571,
           2458.8922997131012,
           3971.459527274691,
           2186.7875171294463,
           33.88075143551003,
           925.3029160161572,
           1538.079617572629,
           881.8908980034993,
           2230.7802131486483,
           413.6819736591641,
           1981.6683754961075,
           4176.805480316277,
           2775.772321825527,
           3210.5418622121683,
           704.989797965275,
           1395.5910468974917,
           196.56214932563316,
           302.1003155156906,
           3248.0767536103945,
           116.10331434406795,
           1990.344391756216,
           503.46582131003356,
           3315.071241600805,
           2346.143198238258,
           55.04539086485,
           1340.1867711695168,
           28.331630905846588,
           1708.69441107516,
           979.765766246402,
           22.972113901313094,
           3299.800450881048,
           621.9225249305348,
           412.9656229468031,
           171.78811427626664,
           1107.670450530812,
           50.97515438758063,
           5016.563115503821
          ],
          "coloraxis": "coloraxis",
          "size": [
           18.44386257591245,
           1839.6296030327458,
           594.8916942834395,
           1083.3574775965571,
           2458.8922997131012,
           3971.459527274691,
           2186.7875171294463,
           33.88075143551003,
           925.3029160161572,
           1538.079617572629,
           881.8908980034993,
           2230.7802131486483,
           413.6819736591641,
           1981.6683754961075,
           4176.805480316277,
           2775.772321825527,
           3210.5418622121683,
           704.989797965275,
           1395.5910468974917,
           196.56214932563316,
           302.1003155156906,
           3248.0767536103945,
           116.10331434406795,
           1990.344391756216,
           503.46582131003356,
           3315.071241600805,
           2346.143198238258,
           55.04539086485,
           1340.1867711695168,
           28.331630905846588,
           1708.69441107516,
           979.765766246402,
           22.972113901313094,
           3299.800450881048,
           621.9225249305348,
           412.9656229468031,
           171.78811427626664,
           1107.670450530812,
           50.97515438758063,
           5016.563115503821
          ],
          "sizemode": "area",
          "sizeref": 12.541407788759551
         },
         "mode": "markers",
         "name": "",
         "showlegend": false,
         "subplot": "mapbox",
         "type": "scattermapbox"
        }
       ],
       "layout": {
        "coloraxis": {
         "colorbar": {
          "title": {
           "text": "population/area(km²)"
          }
         },
         "colorscale": [
          [
           0,
           "#000000"
          ],
          [
           0.0625,
           "#001f4d"
          ],
          [
           0.125,
           "#003786"
          ],
          [
           0.1875,
           "#0e58a8"
          ],
          [
           0.25,
           "#217eb8"
          ],
          [
           0.3125,
           "#30a4ca"
          ],
          [
           0.375,
           "#54c8df"
          ],
          [
           0.4375,
           "#9be4ef"
          ],
          [
           0.5,
           "#e1e9d1"
          ],
          [
           0.5625,
           "#f3d573"
          ],
          [
           0.625,
           "#e7b000"
          ],
          [
           0.6875,
           "#da8200"
          ],
          [
           0.75,
           "#c65400"
          ],
          [
           0.8125,
           "#ac2301"
          ],
          [
           0.875,
           "#820000"
          ],
          [
           0.9375,
           "#4c0000"
          ],
          [
           1,
           "#000000"
          ]
         ]
        },
        "height": 600,
        "legend": {
         "itemsizing": "constant",
         "tracegroupgap": 0
        },
        "mapbox": {
         "center": {
          "lat": 44.25708442720787,
          "lon": -76.51625062596845
         },
         "domain": {
          "x": [
           0,
           1
          ],
          "y": [
           0,
           1
          ]
         },
         "style": "open-street-map",
         "zoom": 6
        },
        "margin": {
         "t": 60
        },
        "template": {
         "data": {
          "bar": [
           {
            "error_x": {
             "color": "#2a3f5f"
            },
            "error_y": {
             "color": "#2a3f5f"
            },
            "marker": {
             "line": {
              "color": "#E5ECF6",
              "width": 0.5
             },
             "pattern": {
              "fillmode": "overlay",
              "size": 10,
              "solidity": 0.2
             }
            },
            "type": "bar"
           }
          ],
          "barpolar": [
           {
            "marker": {
             "line": {
              "color": "#E5ECF6",
              "width": 0.5
             },
             "pattern": {
              "fillmode": "overlay",
              "size": 10,
              "solidity": 0.2
             }
            },
            "type": "barpolar"
           }
          ],
          "carpet": [
           {
            "aaxis": {
             "endlinecolor": "#2a3f5f",
             "gridcolor": "white",
             "linecolor": "white",
             "minorgridcolor": "white",
             "startlinecolor": "#2a3f5f"
            },
            "baxis": {
             "endlinecolor": "#2a3f5f",
             "gridcolor": "white",
             "linecolor": "white",
             "minorgridcolor": "white",
             "startlinecolor": "#2a3f5f"
            },
            "type": "carpet"
           }
          ],
          "choropleth": [
           {
            "colorbar": {
             "outlinewidth": 0,
             "ticks": ""
            },
            "type": "choropleth"
           }
          ],
          "contour": [
           {
            "colorbar": {
             "outlinewidth": 0,
             "ticks": ""
            },
            "colorscale": [
             [
              0,
              "#0d0887"
             ],
             [
              0.1111111111111111,
              "#46039f"
             ],
             [
              0.2222222222222222,
              "#7201a8"
             ],
             [
              0.3333333333333333,
              "#9c179e"
             ],
             [
              0.4444444444444444,
              "#bd3786"
             ],
             [
              0.5555555555555556,
              "#d8576b"
             ],
             [
              0.6666666666666666,
              "#ed7953"
             ],
             [
              0.7777777777777778,
              "#fb9f3a"
             ],
             [
              0.8888888888888888,
              "#fdca26"
             ],
             [
              1,
              "#f0f921"
             ]
            ],
            "type": "contour"
           }
          ],
          "contourcarpet": [
           {
            "colorbar": {
             "outlinewidth": 0,
             "ticks": ""
            },
            "type": "contourcarpet"
           }
          ],
          "heatmap": [
           {
            "colorbar": {
             "outlinewidth": 0,
             "ticks": ""
            },
            "colorscale": [
             [
              0,
              "#0d0887"
             ],
             [
              0.1111111111111111,
              "#46039f"
             ],
             [
              0.2222222222222222,
              "#7201a8"
             ],
             [
              0.3333333333333333,
              "#9c179e"
             ],
             [
              0.4444444444444444,
              "#bd3786"
             ],
             [
              0.5555555555555556,
              "#d8576b"
             ],
             [
              0.6666666666666666,
              "#ed7953"
             ],
             [
              0.7777777777777778,
              "#fb9f3a"
             ],
             [
              0.8888888888888888,
              "#fdca26"
             ],
             [
              1,
              "#f0f921"
             ]
            ],
            "type": "heatmap"
           }
          ],
          "heatmapgl": [
           {
            "colorbar": {
             "outlinewidth": 0,
             "ticks": ""
            },
            "colorscale": [
             [
              0,
              "#0d0887"
             ],
             [
              0.1111111111111111,
              "#46039f"
             ],
             [
              0.2222222222222222,
              "#7201a8"
             ],
             [
              0.3333333333333333,
              "#9c179e"
             ],
             [
              0.4444444444444444,
              "#bd3786"
             ],
             [
              0.5555555555555556,
              "#d8576b"
             ],
             [
              0.6666666666666666,
              "#ed7953"
             ],
             [
              0.7777777777777778,
              "#fb9f3a"
             ],
             [
              0.8888888888888888,
              "#fdca26"
             ],
             [
              1,
              "#f0f921"
             ]
            ],
            "type": "heatmapgl"
           }
          ],
          "histogram": [
           {
            "marker": {
             "pattern": {
              "fillmode": "overlay",
              "size": 10,
              "solidity": 0.2
             }
            },
            "type": "histogram"
           }
          ],
          "histogram2d": [
           {
            "colorbar": {
             "outlinewidth": 0,
             "ticks": ""
            },
            "colorscale": [
             [
              0,
              "#0d0887"
             ],
             [
              0.1111111111111111,
              "#46039f"
             ],
             [
              0.2222222222222222,
              "#7201a8"
             ],
             [
              0.3333333333333333,
              "#9c179e"
             ],
             [
              0.4444444444444444,
              "#bd3786"
             ],
             [
              0.5555555555555556,
              "#d8576b"
             ],
             [
              0.6666666666666666,
              "#ed7953"
             ],
             [
              0.7777777777777778,
              "#fb9f3a"
             ],
             [
              0.8888888888888888,
              "#fdca26"
             ],
             [
              1,
              "#f0f921"
             ]
            ],
            "type": "histogram2d"
           }
          ],
          "histogram2dcontour": [
           {
            "colorbar": {
             "outlinewidth": 0,
             "ticks": ""
            },
            "colorscale": [
             [
              0,
              "#0d0887"
             ],
             [
              0.1111111111111111,
              "#46039f"
             ],
             [
              0.2222222222222222,
              "#7201a8"
             ],
             [
              0.3333333333333333,
              "#9c179e"
             ],
             [
              0.4444444444444444,
              "#bd3786"
             ],
             [
              0.5555555555555556,
              "#d8576b"
             ],
             [
              0.6666666666666666,
              "#ed7953"
             ],
             [
              0.7777777777777778,
              "#fb9f3a"
             ],
             [
              0.8888888888888888,
              "#fdca26"
             ],
             [
              1,
              "#f0f921"
             ]
            ],
            "type": "histogram2dcontour"
           }
          ],
          "mesh3d": [
           {
            "colorbar": {
             "outlinewidth": 0,
             "ticks": ""
            },
            "type": "mesh3d"
           }
          ],
          "parcoords": [
           {
            "line": {
             "colorbar": {
              "outlinewidth": 0,
              "ticks": ""
             }
            },
            "type": "parcoords"
           }
          ],
          "pie": [
           {
            "automargin": true,
            "type": "pie"
           }
          ],
          "scatter": [
           {
            "marker": {
             "colorbar": {
              "outlinewidth": 0,
              "ticks": ""
             }
            },
            "type": "scatter"
           }
          ],
          "scatter3d": [
           {
            "line": {
             "colorbar": {
              "outlinewidth": 0,
              "ticks": ""
             }
            },
            "marker": {
             "colorbar": {
              "outlinewidth": 0,
              "ticks": ""
             }
            },
            "type": "scatter3d"
           }
          ],
          "scattercarpet": [
           {
            "marker": {
             "colorbar": {
              "outlinewidth": 0,
              "ticks": ""
             }
            },
            "type": "scattercarpet"
           }
          ],
          "scattergeo": [
           {
            "marker": {
             "colorbar": {
              "outlinewidth": 0,
              "ticks": ""
             }
            },
            "type": "scattergeo"
           }
          ],
          "scattergl": [
           {
            "marker": {
             "colorbar": {
              "outlinewidth": 0,
              "ticks": ""
             }
            },
            "type": "scattergl"
           }
          ],
          "scattermapbox": [
           {
            "marker": {
             "colorbar": {
              "outlinewidth": 0,
              "ticks": ""
             }
            },
            "type": "scattermapbox"
           }
          ],
          "scatterpolar": [
           {
            "marker": {
             "colorbar": {
              "outlinewidth": 0,
              "ticks": ""
             }
            },
            "type": "scatterpolar"
           }
          ],
          "scatterpolargl": [
           {
            "marker": {
             "colorbar": {
              "outlinewidth": 0,
              "ticks": ""
             }
            },
            "type": "scatterpolargl"
           }
          ],
          "scatterternary": [
           {
            "marker": {
             "colorbar": {
              "outlinewidth": 0,
              "ticks": ""
             }
            },
            "type": "scatterternary"
           }
          ],
          "surface": [
           {
            "colorbar": {
             "outlinewidth": 0,
             "ticks": ""
            },
            "colorscale": [
             [
              0,
              "#0d0887"
             ],
             [
              0.1111111111111111,
              "#46039f"
             ],
             [
              0.2222222222222222,
              "#7201a8"
             ],
             [
              0.3333333333333333,
              "#9c179e"
             ],
             [
              0.4444444444444444,
              "#bd3786"
             ],
             [
              0.5555555555555556,
              "#d8576b"
             ],
             [
              0.6666666666666666,
              "#ed7953"
             ],
             [
              0.7777777777777778,
              "#fb9f3a"
             ],
             [
              0.8888888888888888,
              "#fdca26"
             ],
             [
              1,
              "#f0f921"
             ]
            ],
            "type": "surface"
           }
          ],
          "table": [
           {
            "cells": {
             "fill": {
              "color": "#EBF0F8"
             },
             "line": {
              "color": "white"
             }
            },
            "header": {
             "fill": {
              "color": "#C8D4E3"
             },
             "line": {
              "color": "white"
             }
            },
            "type": "table"
           }
          ]
         },
         "layout": {
          "annotationdefaults": {
           "arrowcolor": "#2a3f5f",
           "arrowhead": 0,
           "arrowwidth": 1
          },
          "autotypenumbers": "strict",
          "coloraxis": {
           "colorbar": {
            "outlinewidth": 0,
            "ticks": ""
           }
          },
          "colorscale": {
           "diverging": [
            [
             0,
             "#8e0152"
            ],
            [
             0.1,
             "#c51b7d"
            ],
            [
             0.2,
             "#de77ae"
            ],
            [
             0.3,
             "#f1b6da"
            ],
            [
             0.4,
             "#fde0ef"
            ],
            [
             0.5,
             "#f7f7f7"
            ],
            [
             0.6,
             "#e6f5d0"
            ],
            [
             0.7,
             "#b8e186"
            ],
            [
             0.8,
             "#7fbc41"
            ],
            [
             0.9,
             "#4d9221"
            ],
            [
             1,
             "#276419"
            ]
           ],
           "sequential": [
            [
             0,
             "#0d0887"
            ],
            [
             0.1111111111111111,
             "#46039f"
            ],
            [
             0.2222222222222222,
             "#7201a8"
            ],
            [
             0.3333333333333333,
             "#9c179e"
            ],
            [
             0.4444444444444444,
             "#bd3786"
            ],
            [
             0.5555555555555556,
             "#d8576b"
            ],
            [
             0.6666666666666666,
             "#ed7953"
            ],
            [
             0.7777777777777778,
             "#fb9f3a"
            ],
            [
             0.8888888888888888,
             "#fdca26"
            ],
            [
             1,
             "#f0f921"
            ]
           ],
           "sequentialminus": [
            [
             0,
             "#0d0887"
            ],
            [
             0.1111111111111111,
             "#46039f"
            ],
            [
             0.2222222222222222,
             "#7201a8"
            ],
            [
             0.3333333333333333,
             "#9c179e"
            ],
            [
             0.4444444444444444,
             "#bd3786"
            ],
            [
             0.5555555555555556,
             "#d8576b"
            ],
            [
             0.6666666666666666,
             "#ed7953"
            ],
            [
             0.7777777777777778,
             "#fb9f3a"
            ],
            [
             0.8888888888888888,
             "#fdca26"
            ],
            [
             1,
             "#f0f921"
            ]
           ]
          },
          "colorway": [
           "#636efa",
           "#EF553B",
           "#00cc96",
           "#ab63fa",
           "#FFA15A",
           "#19d3f3",
           "#FF6692",
           "#B6E880",
           "#FF97FF",
           "#FECB52"
          ],
          "font": {
           "color": "#2a3f5f"
          },
          "geo": {
           "bgcolor": "white",
           "lakecolor": "white",
           "landcolor": "#E5ECF6",
           "showlakes": true,
           "showland": true,
           "subunitcolor": "white"
          },
          "hoverlabel": {
           "align": "left"
          },
          "hovermode": "closest",
          "mapbox": {
           "style": "light"
          },
          "paper_bgcolor": "white",
          "plot_bgcolor": "#E5ECF6",
          "polar": {
           "angularaxis": {
            "gridcolor": "white",
            "linecolor": "white",
            "ticks": ""
           },
           "bgcolor": "#E5ECF6",
           "radialaxis": {
            "gridcolor": "white",
            "linecolor": "white",
            "ticks": ""
           }
          },
          "scene": {
           "xaxis": {
            "backgroundcolor": "#E5ECF6",
            "gridcolor": "white",
            "gridwidth": 2,
            "linecolor": "white",
            "showbackground": true,
            "ticks": "",
            "zerolinecolor": "white"
           },
           "yaxis": {
            "backgroundcolor": "#E5ECF6",
            "gridcolor": "white",
            "gridwidth": 2,
            "linecolor": "white",
            "showbackground": true,
            "ticks": "",
            "zerolinecolor": "white"
           },
           "zaxis": {
            "backgroundcolor": "#E5ECF6",
            "gridcolor": "white",
            "gridwidth": 2,
            "linecolor": "white",
            "showbackground": true,
            "ticks": "",
            "zerolinecolor": "white"
           }
          },
          "shapedefaults": {
           "line": {
            "color": "#2a3f5f"
           }
          },
          "ternary": {
           "aaxis": {
            "gridcolor": "white",
            "linecolor": "white",
            "ticks": ""
           },
           "baxis": {
            "gridcolor": "white",
            "linecolor": "white",
            "ticks": ""
           },
           "bgcolor": "#E5ECF6",
           "caxis": {
            "gridcolor": "white",
            "linecolor": "white",
            "ticks": ""
           }
          },
          "title": {
           "x": 0.05
          },
          "xaxis": {
           "automargin": true,
           "gridcolor": "white",
           "linecolor": "white",
           "ticks": "",
           "title": {
            "standoff": 15
           },
           "zerolinecolor": "white",
           "zerolinewidth": 2
          },
          "yaxis": {
           "automargin": true,
           "gridcolor": "white",
           "linecolor": "white",
           "ticks": "",
           "title": {
            "standoff": 15
           },
           "zerolinecolor": "white",
           "zerolinewidth": 2
          }
         }
        }
       }
      },
      "text/html": [
       "<div>                            <div id=\"6471f272-57c8-4fda-a12f-7392a72fc95e\" class=\"plotly-graph-div\" style=\"height:600px; width:100%;\"></div>            <script type=\"text/javascript\">                require([\"plotly\"], function(Plotly) {                    window.PLOTLYENV=window.PLOTLYENV || {};                                    if (document.getElementById(\"6471f272-57c8-4fda-a12f-7392a72fc95e\")) {                    Plotly.newPlot(                        \"6471f272-57c8-4fda-a12f-7392a72fc95e\",                        [{\"customdata\":[[18.44386257591245],[1839.6296030327458],[594.8916942834395],[1083.3574775965571],[2458.8922997131012],[3971.459527274691],[2186.7875171294463],[33.88075143551003],[925.3029160161572],[1538.079617572629],[881.8908980034993],[2230.7802131486483],[413.6819736591641],[1981.6683754961075],[4176.805480316277],[2775.772321825527],[3210.5418622121683],[704.989797965275],[1395.5910468974917],[196.56214932563316],[302.1003155156906],[3248.0767536103945],[116.10331434406795],[1990.344391756216],[503.46582131003356],[3315.071241600805],[2346.143198238258],[55.04539086485],[1340.1867711695168],[28.331630905846588],[1708.69441107516],[979.765766246402],[22.972113901313094],[3299.800450881048],[621.9225249305348],[412.9656229468031],[171.78811427626664],[1107.670450530812],[50.97515438758063],[5016.563115503821]],\"hovertemplate\":\"<b>%{hovertext}</b><br><br>population/area(km\\u00b2)=%{marker.color}<br>lat=%{lat}<br>lon=%{lon}<extra></extra>\",\"hovertext\":[\"Joyceville / Brewers Mills\",\"Alwington\",\"Cataraqui North\",\"Cataraqui River East\",\"Waterloo Village\",\"Williamsville\",\"Henderson\",\"Kingston Mills\",\"Markers Acres\",\"Portsmouth\",\"Queens\",\"Westwoods\",\"Ravensview\",\"Strathcona Park\",\"Sydenham\",\"Auden Park\",\"Calvin Park\",\"Kingscourt/Novelis(Alcan)\",\"Grenville Park\",\"Lemoine Point\",\"Greenwood / St Lawrence South\",\"Hillendale\",\"Woodbine\",\"Inner Harbour\",\"Mile Square\",\"Sutton Mills\",\"Bayridge East\",\"Elginburg / Silvers Corners / Shannons Corners\",\"Gardiners / Meadowbrook\",\"St Lawrence North\",\"Bayridge West\",\"Fairway Hills\",\"Sharpton / Glenvale\",\"Sunnyside\",\"Reddendale\",\"Cataraqui Westbrook\",\"CFB Kingston\",\"Rideau Heights\",\"Glenburnie\",\"Polson Park\"],\"lat\":[44.38538292067768,44.2228671760366,44.26913255386315,44.25216048378566,44.25482479014073,44.238732258564795,44.22320702471155,44.33299015108012,44.271478683058696,44.22288021643292,44.22844192633718,44.25656095044414,44.25049101723101,44.253291287235896,44.227920693257346,44.23377791565761,44.23551918343361,44.258712284706036,44.24604013620965,44.22699552164968,44.27422750914604,44.24374599972525,44.25863289952579,44.240770868297595,44.24120948698859,44.25390440979864,44.243459642870285,44.30816658121638,44.24569507600156,44.30578061860183,44.24610543479501,44.22650558186618,44.320985969572725,44.23248337521393,44.214741819872245,44.27561507095314,44.2466417323788,44.25865313300536,44.31970901246181,44.23493569151008],\"legendgroup\":\"\",\"lon\":[-76.28596206890569,-76.50605465502022,-76.55242248231944,-76.45480098302505,-76.55088174548007,-76.499799574149,-76.57772467603452,-76.3953386518988,-76.47717288687963,-76.52108898526039,-76.49555375727695,-76.59890737062916,-76.40142014216717,-76.526377201127,-76.48588026112948,-76.58266533062309,-76.52069281587254,-76.51140585977939,-76.53566597900581,-76.60595048418064,-76.41678636546013,-76.52392835874966,-76.63123589245562,-76.48014100492158,-76.62618844026319,-76.57894397099366,-76.58466821428027,-76.49948020457725,-76.5590973923221,-76.3387158387717,-76.59993818176103,-76.53623149205949,-76.6178459157399,-76.50772822315002,-76.56198662690277,-76.61147078329336,-76.43713507535392,-76.47856363657031,-76.4428948483943,-76.53127866195364],\"marker\":{\"color\":[18.44386257591245,1839.6296030327458,594.8916942834395,1083.3574775965571,2458.8922997131012,3971.459527274691,2186.7875171294463,33.88075143551003,925.3029160161572,1538.079617572629,881.8908980034993,2230.7802131486483,413.6819736591641,1981.6683754961075,4176.805480316277,2775.772321825527,3210.5418622121683,704.989797965275,1395.5910468974917,196.56214932563316,302.1003155156906,3248.0767536103945,116.10331434406795,1990.344391756216,503.46582131003356,3315.071241600805,2346.143198238258,55.04539086485,1340.1867711695168,28.331630905846588,1708.69441107516,979.765766246402,22.972113901313094,3299.800450881048,621.9225249305348,412.9656229468031,171.78811427626664,1107.670450530812,50.97515438758063,5016.563115503821],\"coloraxis\":\"coloraxis\",\"size\":[18.44386257591245,1839.6296030327458,594.8916942834395,1083.3574775965571,2458.8922997131012,3971.459527274691,2186.7875171294463,33.88075143551003,925.3029160161572,1538.079617572629,881.8908980034993,2230.7802131486483,413.6819736591641,1981.6683754961075,4176.805480316277,2775.772321825527,3210.5418622121683,704.989797965275,1395.5910468974917,196.56214932563316,302.1003155156906,3248.0767536103945,116.10331434406795,1990.344391756216,503.46582131003356,3315.071241600805,2346.143198238258,55.04539086485,1340.1867711695168,28.331630905846588,1708.69441107516,979.765766246402,22.972113901313094,3299.800450881048,621.9225249305348,412.9656229468031,171.78811427626664,1107.670450530812,50.97515438758063,5016.563115503821],\"sizemode\":\"area\",\"sizeref\":12.541407788759551},\"mode\":\"markers\",\"name\":\"\",\"showlegend\":false,\"subplot\":\"mapbox\",\"type\":\"scattermapbox\"}],                        {\"template\":{\"data\":{\"bar\":[{\"error_x\":{\"color\":\"#2a3f5f\"},\"error_y\":{\"color\":\"#2a3f5f\"},\"marker\":{\"line\":{\"color\":\"#E5ECF6\",\"width\":0.5},\"pattern\":{\"fillmode\":\"overlay\",\"size\":10,\"solidity\":0.2}},\"type\":\"bar\"}],\"barpolar\":[{\"marker\":{\"line\":{\"color\":\"#E5ECF6\",\"width\":0.5},\"pattern\":{\"fillmode\":\"overlay\",\"size\":10,\"solidity\":0.2}},\"type\":\"barpolar\"}],\"carpet\":[{\"aaxis\":{\"endlinecolor\":\"#2a3f5f\",\"gridcolor\":\"white\",\"linecolor\":\"white\",\"minorgridcolor\":\"white\",\"startlinecolor\":\"#2a3f5f\"},\"baxis\":{\"endlinecolor\":\"#2a3f5f\",\"gridcolor\":\"white\",\"linecolor\":\"white\",\"minorgridcolor\":\"white\",\"startlinecolor\":\"#2a3f5f\"},\"type\":\"carpet\"}],\"choropleth\":[{\"colorbar\":{\"outlinewidth\":0,\"ticks\":\"\"},\"type\":\"choropleth\"}],\"contour\":[{\"colorbar\":{\"outlinewidth\":0,\"ticks\":\"\"},\"colorscale\":[[0.0,\"#0d0887\"],[0.1111111111111111,\"#46039f\"],[0.2222222222222222,\"#7201a8\"],[0.3333333333333333,\"#9c179e\"],[0.4444444444444444,\"#bd3786\"],[0.5555555555555556,\"#d8576b\"],[0.6666666666666666,\"#ed7953\"],[0.7777777777777778,\"#fb9f3a\"],[0.8888888888888888,\"#fdca26\"],[1.0,\"#f0f921\"]],\"type\":\"contour\"}],\"contourcarpet\":[{\"colorbar\":{\"outlinewidth\":0,\"ticks\":\"\"},\"type\":\"contourcarpet\"}],\"heatmap\":[{\"colorbar\":{\"outlinewidth\":0,\"ticks\":\"\"},\"colorscale\":[[0.0,\"#0d0887\"],[0.1111111111111111,\"#46039f\"],[0.2222222222222222,\"#7201a8\"],[0.3333333333333333,\"#9c179e\"],[0.4444444444444444,\"#bd3786\"],[0.5555555555555556,\"#d8576b\"],[0.6666666666666666,\"#ed7953\"],[0.7777777777777778,\"#fb9f3a\"],[0.8888888888888888,\"#fdca26\"],[1.0,\"#f0f921\"]],\"type\":\"heatmap\"}],\"heatmapgl\":[{\"colorbar\":{\"outlinewidth\":0,\"ticks\":\"\"},\"colorscale\":[[0.0,\"#0d0887\"],[0.1111111111111111,\"#46039f\"],[0.2222222222222222,\"#7201a8\"],[0.3333333333333333,\"#9c179e\"],[0.4444444444444444,\"#bd3786\"],[0.5555555555555556,\"#d8576b\"],[0.6666666666666666,\"#ed7953\"],[0.7777777777777778,\"#fb9f3a\"],[0.8888888888888888,\"#fdca26\"],[1.0,\"#f0f921\"]],\"type\":\"heatmapgl\"}],\"histogram\":[{\"marker\":{\"pattern\":{\"fillmode\":\"overlay\",\"size\":10,\"solidity\":0.2}},\"type\":\"histogram\"}],\"histogram2d\":[{\"colorbar\":{\"outlinewidth\":0,\"ticks\":\"\"},\"colorscale\":[[0.0,\"#0d0887\"],[0.1111111111111111,\"#46039f\"],[0.2222222222222222,\"#7201a8\"],[0.3333333333333333,\"#9c179e\"],[0.4444444444444444,\"#bd3786\"],[0.5555555555555556,\"#d8576b\"],[0.6666666666666666,\"#ed7953\"],[0.7777777777777778,\"#fb9f3a\"],[0.8888888888888888,\"#fdca26\"],[1.0,\"#f0f921\"]],\"type\":\"histogram2d\"}],\"histogram2dcontour\":[{\"colorbar\":{\"outlinewidth\":0,\"ticks\":\"\"},\"colorscale\":[[0.0,\"#0d0887\"],[0.1111111111111111,\"#46039f\"],[0.2222222222222222,\"#7201a8\"],[0.3333333333333333,\"#9c179e\"],[0.4444444444444444,\"#bd3786\"],[0.5555555555555556,\"#d8576b\"],[0.6666666666666666,\"#ed7953\"],[0.7777777777777778,\"#fb9f3a\"],[0.8888888888888888,\"#fdca26\"],[1.0,\"#f0f921\"]],\"type\":\"histogram2dcontour\"}],\"mesh3d\":[{\"colorbar\":{\"outlinewidth\":0,\"ticks\":\"\"},\"type\":\"mesh3d\"}],\"parcoords\":[{\"line\":{\"colorbar\":{\"outlinewidth\":0,\"ticks\":\"\"}},\"type\":\"parcoords\"}],\"pie\":[{\"automargin\":true,\"type\":\"pie\"}],\"scatter\":[{\"marker\":{\"colorbar\":{\"outlinewidth\":0,\"ticks\":\"\"}},\"type\":\"scatter\"}],\"scatter3d\":[{\"line\":{\"colorbar\":{\"outlinewidth\":0,\"ticks\":\"\"}},\"marker\":{\"colorbar\":{\"outlinewidth\":0,\"ticks\":\"\"}},\"type\":\"scatter3d\"}],\"scattercarpet\":[{\"marker\":{\"colorbar\":{\"outlinewidth\":0,\"ticks\":\"\"}},\"type\":\"scattercarpet\"}],\"scattergeo\":[{\"marker\":{\"colorbar\":{\"outlinewidth\":0,\"ticks\":\"\"}},\"type\":\"scattergeo\"}],\"scattergl\":[{\"marker\":{\"colorbar\":{\"outlinewidth\":0,\"ticks\":\"\"}},\"type\":\"scattergl\"}],\"scattermapbox\":[{\"marker\":{\"colorbar\":{\"outlinewidth\":0,\"ticks\":\"\"}},\"type\":\"scattermapbox\"}],\"scatterpolar\":[{\"marker\":{\"colorbar\":{\"outlinewidth\":0,\"ticks\":\"\"}},\"type\":\"scatterpolar\"}],\"scatterpolargl\":[{\"marker\":{\"colorbar\":{\"outlinewidth\":0,\"ticks\":\"\"}},\"type\":\"scatterpolargl\"}],\"scatterternary\":[{\"marker\":{\"colorbar\":{\"outlinewidth\":0,\"ticks\":\"\"}},\"type\":\"scatterternary\"}],\"surface\":[{\"colorbar\":{\"outlinewidth\":0,\"ticks\":\"\"},\"colorscale\":[[0.0,\"#0d0887\"],[0.1111111111111111,\"#46039f\"],[0.2222222222222222,\"#7201a8\"],[0.3333333333333333,\"#9c179e\"],[0.4444444444444444,\"#bd3786\"],[0.5555555555555556,\"#d8576b\"],[0.6666666666666666,\"#ed7953\"],[0.7777777777777778,\"#fb9f3a\"],[0.8888888888888888,\"#fdca26\"],[1.0,\"#f0f921\"]],\"type\":\"surface\"}],\"table\":[{\"cells\":{\"fill\":{\"color\":\"#EBF0F8\"},\"line\":{\"color\":\"white\"}},\"header\":{\"fill\":{\"color\":\"#C8D4E3\"},\"line\":{\"color\":\"white\"}},\"type\":\"table\"}]},\"layout\":{\"annotationdefaults\":{\"arrowcolor\":\"#2a3f5f\",\"arrowhead\":0,\"arrowwidth\":1},\"autotypenumbers\":\"strict\",\"coloraxis\":{\"colorbar\":{\"outlinewidth\":0,\"ticks\":\"\"}},\"colorscale\":{\"diverging\":[[0,\"#8e0152\"],[0.1,\"#c51b7d\"],[0.2,\"#de77ae\"],[0.3,\"#f1b6da\"],[0.4,\"#fde0ef\"],[0.5,\"#f7f7f7\"],[0.6,\"#e6f5d0\"],[0.7,\"#b8e186\"],[0.8,\"#7fbc41\"],[0.9,\"#4d9221\"],[1,\"#276419\"]],\"sequential\":[[0.0,\"#0d0887\"],[0.1111111111111111,\"#46039f\"],[0.2222222222222222,\"#7201a8\"],[0.3333333333333333,\"#9c179e\"],[0.4444444444444444,\"#bd3786\"],[0.5555555555555556,\"#d8576b\"],[0.6666666666666666,\"#ed7953\"],[0.7777777777777778,\"#fb9f3a\"],[0.8888888888888888,\"#fdca26\"],[1.0,\"#f0f921\"]],\"sequentialminus\":[[0.0,\"#0d0887\"],[0.1111111111111111,\"#46039f\"],[0.2222222222222222,\"#7201a8\"],[0.3333333333333333,\"#9c179e\"],[0.4444444444444444,\"#bd3786\"],[0.5555555555555556,\"#d8576b\"],[0.6666666666666666,\"#ed7953\"],[0.7777777777777778,\"#fb9f3a\"],[0.8888888888888888,\"#fdca26\"],[1.0,\"#f0f921\"]]},\"colorway\":[\"#636efa\",\"#EF553B\",\"#00cc96\",\"#ab63fa\",\"#FFA15A\",\"#19d3f3\",\"#FF6692\",\"#B6E880\",\"#FF97FF\",\"#FECB52\"],\"font\":{\"color\":\"#2a3f5f\"},\"geo\":{\"bgcolor\":\"white\",\"lakecolor\":\"white\",\"landcolor\":\"#E5ECF6\",\"showlakes\":true,\"showland\":true,\"subunitcolor\":\"white\"},\"hoverlabel\":{\"align\":\"left\"},\"hovermode\":\"closest\",\"mapbox\":{\"style\":\"light\"},\"paper_bgcolor\":\"white\",\"plot_bgcolor\":\"#E5ECF6\",\"polar\":{\"angularaxis\":{\"gridcolor\":\"white\",\"linecolor\":\"white\",\"ticks\":\"\"},\"bgcolor\":\"#E5ECF6\",\"radialaxis\":{\"gridcolor\":\"white\",\"linecolor\":\"white\",\"ticks\":\"\"}},\"scene\":{\"xaxis\":{\"backgroundcolor\":\"#E5ECF6\",\"gridcolor\":\"white\",\"gridwidth\":2,\"linecolor\":\"white\",\"showbackground\":true,\"ticks\":\"\",\"zerolinecolor\":\"white\"},\"yaxis\":{\"backgroundcolor\":\"#E5ECF6\",\"gridcolor\":\"white\",\"gridwidth\":2,\"linecolor\":\"white\",\"showbackground\":true,\"ticks\":\"\",\"zerolinecolor\":\"white\"},\"zaxis\":{\"backgroundcolor\":\"#E5ECF6\",\"gridcolor\":\"white\",\"gridwidth\":2,\"linecolor\":\"white\",\"showbackground\":true,\"ticks\":\"\",\"zerolinecolor\":\"white\"}},\"shapedefaults\":{\"line\":{\"color\":\"#2a3f5f\"}},\"ternary\":{\"aaxis\":{\"gridcolor\":\"white\",\"linecolor\":\"white\",\"ticks\":\"\"},\"baxis\":{\"gridcolor\":\"white\",\"linecolor\":\"white\",\"ticks\":\"\"},\"bgcolor\":\"#E5ECF6\",\"caxis\":{\"gridcolor\":\"white\",\"linecolor\":\"white\",\"ticks\":\"\"}},\"title\":{\"x\":0.05},\"xaxis\":{\"automargin\":true,\"gridcolor\":\"white\",\"linecolor\":\"white\",\"ticks\":\"\",\"title\":{\"standoff\":15},\"zerolinecolor\":\"white\",\"zerolinewidth\":2},\"yaxis\":{\"automargin\":true,\"gridcolor\":\"white\",\"linecolor\":\"white\",\"ticks\":\"\",\"title\":{\"standoff\":15},\"zerolinecolor\":\"white\",\"zerolinewidth\":2}}},\"mapbox\":{\"domain\":{\"x\":[0.0,1.0],\"y\":[0.0,1.0]},\"center\":{\"lat\":44.25708442720787,\"lon\":-76.51625062596845},\"zoom\":6,\"style\":\"open-street-map\"},\"coloraxis\":{\"colorbar\":{\"title\":{\"text\":\"population/area(km\\u00b2)\"}},\"colorscale\":[[0.0,\"#000000\"],[0.0625,\"#001f4d\"],[0.125,\"#003786\"],[0.1875,\"#0e58a8\"],[0.25,\"#217eb8\"],[0.3125,\"#30a4ca\"],[0.375,\"#54c8df\"],[0.4375,\"#9be4ef\"],[0.5,\"#e1e9d1\"],[0.5625,\"#f3d573\"],[0.625,\"#e7b000\"],[0.6875,\"#da8200\"],[0.75,\"#c65400\"],[0.8125,\"#ac2301\"],[0.875,\"#820000\"],[0.9375,\"#4c0000\"],[1.0,\"#000000\"]]},\"legend\":{\"tracegroupgap\":0,\"itemsizing\":\"constant\"},\"margin\":{\"t\":60},\"height\":600},                        {\"responsive\": true}                    ).then(function(){\n",
       "                            \n",
       "var gd = document.getElementById('6471f272-57c8-4fda-a12f-7392a72fc95e');\n",
       "var x = new MutationObserver(function (mutations, observer) {{\n",
       "        var display = window.getComputedStyle(gd).display;\n",
       "        if (!display || display === 'none') {{\n",
       "            console.log([gd, 'removed!']);\n",
       "            Plotly.purge(gd);\n",
       "            observer.disconnect();\n",
       "        }}\n",
       "}});\n",
       "\n",
       "// Listen for the removal of the full notebook cells\n",
       "var notebookContainer = gd.closest('#notebook-container');\n",
       "if (notebookContainer) {{\n",
       "    x.observe(notebookContainer, {childList: true});\n",
       "}}\n",
       "\n",
       "// Listen for the clearing of the current output cell\n",
       "var outputEl = gd.closest('.output');\n",
       "if (outputEl) {{\n",
       "    x.observe(outputEl, {childList: true});\n",
       "}}\n",
       "\n",
       "                        })                };                });            </script>        </div>"
      ]
     },
     "metadata": {},
     "output_type": "display_data"
    }
   ],
   "source": [
    "neighbourhood_info['area(km²)'] = area\n",
    "neighbourhood_info['population/area(km²)'] = neighbourhood_info['Total Population 2016'] / neighbourhood_info['area(km²)'] \n",
    "fig = px.scatter_mapbox(neighbourhood_info, lat=\"lat\", lon=\"lon\", hover_name=\"Community Name\", hover_data=['population/area(km²)'],\n",
    "                        color ='population/area(km²)', color_continuous_scale=px.colors.cyclical.IceFire, size ='population/area(km²)',  zoom=6, height=600)\n",
    "fig.update_layout(mapbox_style=\"open-street-map\")\n",
    "fig.show()\n",
    "\n"
   ]
  },
  {
   "cell_type": "code",
   "execution_count": 131,
   "metadata": {},
   "outputs": [
    {
     "data": {
      "text/plain": [
       "[95.96688289749062,\n",
       " 0.60610027049024,\n",
       " 7.522377674797156,\n",
       " 2.838398279044446,\n",
       " 0.8662437148013861,\n",
       " 0.577873193529655,\n",
       " 1.454187924108111,\n",
       " 17.709170386674096,\n",
       " 3.090879700578032,\n",
       " 1.5668889779603352,\n",
       " 0.9695076816595145,\n",
       " 2.1584376495808337,\n",
       " 2.1393245448233107,\n",
       " 1.5693846853772475,\n",
       " 0.7828949697107724,\n",
       " 1.8571407890578502,\n",
       " 1.1104044591225477,\n",
       " 7.071024310405044,\n",
       " 1.196625618738771,\n",
       " 6.868056767956546,\n",
       " 18.45413497991015,\n",
       " 0.8081705572635208,\n",
       " 5.856852613051551,\n",
       " 3.4215184207347527,\n",
       " 3.78377224305541,\n",
       " 1.4072095771152513,\n",
       " 1.2850877995273235,\n",
       " 46.23457041568843,\n",
       " 5.178382707019108,\n",
       " 63.70971039395814,\n",
       " 1.7469478337684452,\n",
       " 2.561836804745797,\n",
       " 85.32083762165074,\n",
       " 1.5773681098232055,\n",
       " 2.05009458395547,\n",
       " 17.519618094051353,\n",
       " 9.168271079960238,\n",
       " 5.827545545614824,\n",
       " 15.98818110099855,\n",
       " 0.5780850222012504]"
      ]
     },
     "execution_count": 131,
     "metadata": {},
     "output_type": "execute_result"
    }
   ],
   "source": [
    "area"
   ]
  },
  {
   "cell_type": "code",
   "execution_count": 68,
   "metadata": {},
   "outputs": [
    {
     "data": {
      "text/plain": [
       "['Community Name',\n",
       " 'Area Type',\n",
       " 'Area ID Number',\n",
       " 'Total Population 2016',\n",
       " 'Total Population 2011',\n",
       " 'Population Change',\n",
       " 'Population Aged 0-4',\n",
       " 'Population Aged 5-9',\n",
       " 'Population Aged 10-14',\n",
       " 'Population Aged 15-19',\n",
       " 'Population Aged 20-24',\n",
       " 'Population Aged 25-29',\n",
       " 'Population Aged 30-34',\n",
       " 'Population Aged 35-39',\n",
       " 'Population Aged 40-44',\n",
       " 'Population Aged 45-50',\n",
       " 'Population Aged 50-54',\n",
       " 'Population Aged 55-59',\n",
       " 'Population Aged 60-64',\n",
       " 'Population Aged 65-69',\n",
       " 'Population Aged 70-74',\n",
       " 'Population Aged 75-79',\n",
       " 'Population Aged 80+',\n",
       " 'Population Median Age',\n",
       " 'Total - Marital status',\n",
       " 'Married or living common law - Marital status',\n",
       " 'Never married - Marital status',\n",
       " 'Separated/ Divorced - Marital status',\n",
       " 'Widowed - Marital status',\n",
       " 'Total - Number of census families in private households',\n",
       " 'Couples without children in their census family - Number of census families in private households',\n",
       " 'Couples with children in their census family - Number of census families in private households',\n",
       " 'Lone parents - Number of census families in private households',\n",
       " 'Total - Occupied private dwellings by structural type of dwelling',\n",
       " 'Single-detatched House - Occupied private dwellings by structural type of dwelling',\n",
       " 'Semi-detatched House - Occupied private dwellings by structural type of dwelling',\n",
       " 'Row House - Occupied private dwellings by structural type of dwelling',\n",
       " 'Apartment (all categories of apartment) - Occupied private dwellings by structural type of dwelling',\n",
       " 'Total - Private households by household size',\n",
       " '1 person - Private households by household size',\n",
       " '2 persons - Private households by household size',\n",
       " '3 persons - Private households by household size',\n",
       " '4 persons - Private households by household size',\n",
       " '5 or more persons - Private households by household size',\n",
       " 'Total - Private households by tenure',\n",
       " 'Owner - Private households by tenure',\n",
       " 'Renter - Private households by tenure',\n",
       " 'Percent of owner households spending 30 percent or more of its income on shelter costs',\n",
       " 'Percent of renter households spending 30 percent or more of its income on shelter costs',\n",
       " 'Average monthly shelter costs for owned dwellings (dollars)',\n",
       " 'Average monthly shelter costs for rented dwellings (dollars)',\n",
       " 'Total - Mobility status 5 years ago',\n",
       " 'Non-movers - Mobility status 5 years ago',\n",
       " 'Movers - Mobility status 5 years ago',\n",
       " 'Non-Migrant - Mobility status 5 years ago',\n",
       " 'Migrant - Mobility status 5 years ago',\n",
       " 'Internal Migrant - Mobility status 5 years ago',\n",
       " 'Intraprovincial Migrant - Mobility status 5 years ago',\n",
       " 'Interprovincial Migrant - Mobility status 5 years ago',\n",
       " 'External Migrant - Mobility status 5 years ago',\n",
       " 'GeoJSON',\n",
       " 'geo_point_2d',\n",
       " 'lat',\n",
       " 'lon']"
      ]
     },
     "execution_count": 68,
     "metadata": {},
     "output_type": "execute_result"
    }
   ],
   "source": [
    "neighbourhood_info.columns.tolist()"
   ]
  },
  {
   "cell_type": "code",
   "execution_count": 70,
   "metadata": {},
   "outputs": [
    {
     "data": {
      "application/vnd.plotly.v1+json": {
       "config": {
        "plotlyServerURL": "https://plot.ly"
       },
       "data": [
        {
         "customdata": [
          [
           1770
          ],
          [
           1115
          ],
          [
           4475
          ],
          [
           3075
          ],
          [
           2130
          ],
          [
           2295
          ],
          [
           3180
          ],
          [
           600
          ],
          [
           2860
          ],
          [
           2410
          ],
          [
           855
          ],
          [
           4815
          ],
          [
           885
          ],
          [
           3110
          ],
          [
           3270
          ],
          [
           5155
          ],
          [
           3565
          ],
          [
           4985
          ],
          [
           1670
          ],
          [
           1350
          ],
          [
           5575
          ],
          [
           2625
          ],
          [
           680
          ],
          [
           6810
          ],
          [
           1905
          ],
          [
           4665
          ],
          [
           3015
          ],
          [
           2545
          ],
          [
           6940
          ],
          [
           1805
          ],
          [
           2985
          ],
          [
           2510
          ],
          [
           1960
          ],
          [
           5205
          ],
          [
           1275
          ],
          [
           7235
          ],
          [
           1575
          ],
          [
           6455
          ],
          [
           815
          ],
          [
           2900
          ]
         ],
         "hovertemplate": "<b>%{hovertext}</b><br><br>Renter - Private households by tenure=%{marker.size}<br>lat=%{lat}<br>lon=%{lon}<br>Total Population 2016=%{customdata[0]}<extra></extra>",
         "hovertext": [
          "Joyceville / Brewers Mills",
          "Alwington",
          "Cataraqui North",
          "Cataraqui River East",
          "Waterloo Village",
          "Williamsville",
          "Henderson",
          "Kingston Mills",
          "Markers Acres",
          "Portsmouth",
          "Queens",
          "Westwoods",
          "Ravensview",
          "Strathcona Park",
          "Sydenham",
          "Auden Park",
          "Calvin Park",
          "Kingscourt/Novelis(Alcan)",
          "Grenville Park",
          "Lemoine Point",
          "Greenwood / St Lawrence South",
          "Hillendale",
          "Woodbine",
          "Inner Harbour",
          "Mile Square",
          "Sutton Mills",
          "Bayridge East",
          "Elginburg / Silvers Corners / Shannons Corners",
          "Gardiners / Meadowbrook",
          "St Lawrence North",
          "Bayridge West",
          "Fairway Hills",
          "Sharpton / Glenvale",
          "Sunnyside",
          "Reddendale",
          "Cataraqui Westbrook",
          "CFB Kingston",
          "Rideau Heights",
          "Glenburnie",
          "Polson Park"
         ],
         "lat": [
          44.38538292067768,
          44.2228671760366,
          44.26913255386315,
          44.25216048378566,
          44.25482479014073,
          44.238732258564795,
          44.22320702471155,
          44.33299015108012,
          44.271478683058696,
          44.22288021643292,
          44.22844192633718,
          44.25656095044414,
          44.25049101723101,
          44.253291287235896,
          44.227920693257346,
          44.23377791565761,
          44.23551918343361,
          44.258712284706036,
          44.24604013620965,
          44.22699552164968,
          44.27422750914604,
          44.24374599972525,
          44.25863289952579,
          44.240770868297595,
          44.24120948698859,
          44.25390440979864,
          44.243459642870285,
          44.30816658121638,
          44.24569507600156,
          44.30578061860183,
          44.24610543479501,
          44.22650558186618,
          44.320985969572725,
          44.23248337521393,
          44.214741819872245,
          44.27561507095314,
          44.2466417323788,
          44.25865313300536,
          44.31970901246181,
          44.23493569151008
         ],
         "legendgroup": "",
         "lon": [
          -76.28596206890569,
          -76.50605465502022,
          -76.55242248231944,
          -76.45480098302505,
          -76.55088174548007,
          -76.499799574149,
          -76.57772467603452,
          -76.3953386518988,
          -76.47717288687963,
          -76.52108898526039,
          -76.49555375727695,
          -76.59890737062916,
          -76.40142014216717,
          -76.526377201127,
          -76.48588026112948,
          -76.58266533062309,
          -76.52069281587254,
          -76.51140585977939,
          -76.53566597900581,
          -76.60595048418064,
          -76.41678636546013,
          -76.52392835874966,
          -76.63123589245562,
          -76.48014100492158,
          -76.62618844026319,
          -76.57894397099366,
          -76.58466821428027,
          -76.49948020457725,
          -76.5590973923221,
          -76.3387158387717,
          -76.59993818176103,
          -76.53623149205949,
          -76.6178459157399,
          -76.50772822315002,
          -76.56198662690277,
          -76.61147078329336,
          -76.43713507535392,
          -76.47856363657031,
          -76.4428948483943,
          -76.53127866195364
         ],
         "marker": {
          "color": "fuchsia",
          "size": [
           60,
           95,
           205,
           495,
           150,
           890,
           130,
           20,
           440,
           630,
           330,
           60,
           10,
           345,
           1400,
           635,
           1135,
           1495,
           420,
           60,
           100,
           1115,
           25,
           2395,
           50,
           850,
           185,
           110,
           1130,
           65,
           135,
           845,
           70,
           1460,
           50,
           345,
           455,
           2025,
           10,
           1140
          ],
          "sizemode": "area",
          "sizeref": 5.9875
         },
         "mode": "markers",
         "name": "",
         "showlegend": false,
         "subplot": "mapbox",
         "type": "scattermapbox"
        }
       ],
       "layout": {
        "height": 600,
        "legend": {
         "itemsizing": "constant",
         "tracegroupgap": 0
        },
        "mapbox": {
         "center": {
          "lat": 44.25708442720787,
          "lon": -76.51625062596845
         },
         "domain": {
          "x": [
           0,
           1
          ],
          "y": [
           0,
           1
          ]
         },
         "style": "open-street-map",
         "zoom": 3
        },
        "margin": {
         "t": 60
        },
        "template": {
         "data": {
          "bar": [
           {
            "error_x": {
             "color": "#2a3f5f"
            },
            "error_y": {
             "color": "#2a3f5f"
            },
            "marker": {
             "line": {
              "color": "#E5ECF6",
              "width": 0.5
             },
             "pattern": {
              "fillmode": "overlay",
              "size": 10,
              "solidity": 0.2
             }
            },
            "type": "bar"
           }
          ],
          "barpolar": [
           {
            "marker": {
             "line": {
              "color": "#E5ECF6",
              "width": 0.5
             },
             "pattern": {
              "fillmode": "overlay",
              "size": 10,
              "solidity": 0.2
             }
            },
            "type": "barpolar"
           }
          ],
          "carpet": [
           {
            "aaxis": {
             "endlinecolor": "#2a3f5f",
             "gridcolor": "white",
             "linecolor": "white",
             "minorgridcolor": "white",
             "startlinecolor": "#2a3f5f"
            },
            "baxis": {
             "endlinecolor": "#2a3f5f",
             "gridcolor": "white",
             "linecolor": "white",
             "minorgridcolor": "white",
             "startlinecolor": "#2a3f5f"
            },
            "type": "carpet"
           }
          ],
          "choropleth": [
           {
            "colorbar": {
             "outlinewidth": 0,
             "ticks": ""
            },
            "type": "choropleth"
           }
          ],
          "contour": [
           {
            "colorbar": {
             "outlinewidth": 0,
             "ticks": ""
            },
            "colorscale": [
             [
              0,
              "#0d0887"
             ],
             [
              0.1111111111111111,
              "#46039f"
             ],
             [
              0.2222222222222222,
              "#7201a8"
             ],
             [
              0.3333333333333333,
              "#9c179e"
             ],
             [
              0.4444444444444444,
              "#bd3786"
             ],
             [
              0.5555555555555556,
              "#d8576b"
             ],
             [
              0.6666666666666666,
              "#ed7953"
             ],
             [
              0.7777777777777778,
              "#fb9f3a"
             ],
             [
              0.8888888888888888,
              "#fdca26"
             ],
             [
              1,
              "#f0f921"
             ]
            ],
            "type": "contour"
           }
          ],
          "contourcarpet": [
           {
            "colorbar": {
             "outlinewidth": 0,
             "ticks": ""
            },
            "type": "contourcarpet"
           }
          ],
          "heatmap": [
           {
            "colorbar": {
             "outlinewidth": 0,
             "ticks": ""
            },
            "colorscale": [
             [
              0,
              "#0d0887"
             ],
             [
              0.1111111111111111,
              "#46039f"
             ],
             [
              0.2222222222222222,
              "#7201a8"
             ],
             [
              0.3333333333333333,
              "#9c179e"
             ],
             [
              0.4444444444444444,
              "#bd3786"
             ],
             [
              0.5555555555555556,
              "#d8576b"
             ],
             [
              0.6666666666666666,
              "#ed7953"
             ],
             [
              0.7777777777777778,
              "#fb9f3a"
             ],
             [
              0.8888888888888888,
              "#fdca26"
             ],
             [
              1,
              "#f0f921"
             ]
            ],
            "type": "heatmap"
           }
          ],
          "heatmapgl": [
           {
            "colorbar": {
             "outlinewidth": 0,
             "ticks": ""
            },
            "colorscale": [
             [
              0,
              "#0d0887"
             ],
             [
              0.1111111111111111,
              "#46039f"
             ],
             [
              0.2222222222222222,
              "#7201a8"
             ],
             [
              0.3333333333333333,
              "#9c179e"
             ],
             [
              0.4444444444444444,
              "#bd3786"
             ],
             [
              0.5555555555555556,
              "#d8576b"
             ],
             [
              0.6666666666666666,
              "#ed7953"
             ],
             [
              0.7777777777777778,
              "#fb9f3a"
             ],
             [
              0.8888888888888888,
              "#fdca26"
             ],
             [
              1,
              "#f0f921"
             ]
            ],
            "type": "heatmapgl"
           }
          ],
          "histogram": [
           {
            "marker": {
             "pattern": {
              "fillmode": "overlay",
              "size": 10,
              "solidity": 0.2
             }
            },
            "type": "histogram"
           }
          ],
          "histogram2d": [
           {
            "colorbar": {
             "outlinewidth": 0,
             "ticks": ""
            },
            "colorscale": [
             [
              0,
              "#0d0887"
             ],
             [
              0.1111111111111111,
              "#46039f"
             ],
             [
              0.2222222222222222,
              "#7201a8"
             ],
             [
              0.3333333333333333,
              "#9c179e"
             ],
             [
              0.4444444444444444,
              "#bd3786"
             ],
             [
              0.5555555555555556,
              "#d8576b"
             ],
             [
              0.6666666666666666,
              "#ed7953"
             ],
             [
              0.7777777777777778,
              "#fb9f3a"
             ],
             [
              0.8888888888888888,
              "#fdca26"
             ],
             [
              1,
              "#f0f921"
             ]
            ],
            "type": "histogram2d"
           }
          ],
          "histogram2dcontour": [
           {
            "colorbar": {
             "outlinewidth": 0,
             "ticks": ""
            },
            "colorscale": [
             [
              0,
              "#0d0887"
             ],
             [
              0.1111111111111111,
              "#46039f"
             ],
             [
              0.2222222222222222,
              "#7201a8"
             ],
             [
              0.3333333333333333,
              "#9c179e"
             ],
             [
              0.4444444444444444,
              "#bd3786"
             ],
             [
              0.5555555555555556,
              "#d8576b"
             ],
             [
              0.6666666666666666,
              "#ed7953"
             ],
             [
              0.7777777777777778,
              "#fb9f3a"
             ],
             [
              0.8888888888888888,
              "#fdca26"
             ],
             [
              1,
              "#f0f921"
             ]
            ],
            "type": "histogram2dcontour"
           }
          ],
          "mesh3d": [
           {
            "colorbar": {
             "outlinewidth": 0,
             "ticks": ""
            },
            "type": "mesh3d"
           }
          ],
          "parcoords": [
           {
            "line": {
             "colorbar": {
              "outlinewidth": 0,
              "ticks": ""
             }
            },
            "type": "parcoords"
           }
          ],
          "pie": [
           {
            "automargin": true,
            "type": "pie"
           }
          ],
          "scatter": [
           {
            "marker": {
             "colorbar": {
              "outlinewidth": 0,
              "ticks": ""
             }
            },
            "type": "scatter"
           }
          ],
          "scatter3d": [
           {
            "line": {
             "colorbar": {
              "outlinewidth": 0,
              "ticks": ""
             }
            },
            "marker": {
             "colorbar": {
              "outlinewidth": 0,
              "ticks": ""
             }
            },
            "type": "scatter3d"
           }
          ],
          "scattercarpet": [
           {
            "marker": {
             "colorbar": {
              "outlinewidth": 0,
              "ticks": ""
             }
            },
            "type": "scattercarpet"
           }
          ],
          "scattergeo": [
           {
            "marker": {
             "colorbar": {
              "outlinewidth": 0,
              "ticks": ""
             }
            },
            "type": "scattergeo"
           }
          ],
          "scattergl": [
           {
            "marker": {
             "colorbar": {
              "outlinewidth": 0,
              "ticks": ""
             }
            },
            "type": "scattergl"
           }
          ],
          "scattermapbox": [
           {
            "marker": {
             "colorbar": {
              "outlinewidth": 0,
              "ticks": ""
             }
            },
            "type": "scattermapbox"
           }
          ],
          "scatterpolar": [
           {
            "marker": {
             "colorbar": {
              "outlinewidth": 0,
              "ticks": ""
             }
            },
            "type": "scatterpolar"
           }
          ],
          "scatterpolargl": [
           {
            "marker": {
             "colorbar": {
              "outlinewidth": 0,
              "ticks": ""
             }
            },
            "type": "scatterpolargl"
           }
          ],
          "scatterternary": [
           {
            "marker": {
             "colorbar": {
              "outlinewidth": 0,
              "ticks": ""
             }
            },
            "type": "scatterternary"
           }
          ],
          "surface": [
           {
            "colorbar": {
             "outlinewidth": 0,
             "ticks": ""
            },
            "colorscale": [
             [
              0,
              "#0d0887"
             ],
             [
              0.1111111111111111,
              "#46039f"
             ],
             [
              0.2222222222222222,
              "#7201a8"
             ],
             [
              0.3333333333333333,
              "#9c179e"
             ],
             [
              0.4444444444444444,
              "#bd3786"
             ],
             [
              0.5555555555555556,
              "#d8576b"
             ],
             [
              0.6666666666666666,
              "#ed7953"
             ],
             [
              0.7777777777777778,
              "#fb9f3a"
             ],
             [
              0.8888888888888888,
              "#fdca26"
             ],
             [
              1,
              "#f0f921"
             ]
            ],
            "type": "surface"
           }
          ],
          "table": [
           {
            "cells": {
             "fill": {
              "color": "#EBF0F8"
             },
             "line": {
              "color": "white"
             }
            },
            "header": {
             "fill": {
              "color": "#C8D4E3"
             },
             "line": {
              "color": "white"
             }
            },
            "type": "table"
           }
          ]
         },
         "layout": {
          "annotationdefaults": {
           "arrowcolor": "#2a3f5f",
           "arrowhead": 0,
           "arrowwidth": 1
          },
          "autotypenumbers": "strict",
          "coloraxis": {
           "colorbar": {
            "outlinewidth": 0,
            "ticks": ""
           }
          },
          "colorscale": {
           "diverging": [
            [
             0,
             "#8e0152"
            ],
            [
             0.1,
             "#c51b7d"
            ],
            [
             0.2,
             "#de77ae"
            ],
            [
             0.3,
             "#f1b6da"
            ],
            [
             0.4,
             "#fde0ef"
            ],
            [
             0.5,
             "#f7f7f7"
            ],
            [
             0.6,
             "#e6f5d0"
            ],
            [
             0.7,
             "#b8e186"
            ],
            [
             0.8,
             "#7fbc41"
            ],
            [
             0.9,
             "#4d9221"
            ],
            [
             1,
             "#276419"
            ]
           ],
           "sequential": [
            [
             0,
             "#0d0887"
            ],
            [
             0.1111111111111111,
             "#46039f"
            ],
            [
             0.2222222222222222,
             "#7201a8"
            ],
            [
             0.3333333333333333,
             "#9c179e"
            ],
            [
             0.4444444444444444,
             "#bd3786"
            ],
            [
             0.5555555555555556,
             "#d8576b"
            ],
            [
             0.6666666666666666,
             "#ed7953"
            ],
            [
             0.7777777777777778,
             "#fb9f3a"
            ],
            [
             0.8888888888888888,
             "#fdca26"
            ],
            [
             1,
             "#f0f921"
            ]
           ],
           "sequentialminus": [
            [
             0,
             "#0d0887"
            ],
            [
             0.1111111111111111,
             "#46039f"
            ],
            [
             0.2222222222222222,
             "#7201a8"
            ],
            [
             0.3333333333333333,
             "#9c179e"
            ],
            [
             0.4444444444444444,
             "#bd3786"
            ],
            [
             0.5555555555555556,
             "#d8576b"
            ],
            [
             0.6666666666666666,
             "#ed7953"
            ],
            [
             0.7777777777777778,
             "#fb9f3a"
            ],
            [
             0.8888888888888888,
             "#fdca26"
            ],
            [
             1,
             "#f0f921"
            ]
           ]
          },
          "colorway": [
           "#636efa",
           "#EF553B",
           "#00cc96",
           "#ab63fa",
           "#FFA15A",
           "#19d3f3",
           "#FF6692",
           "#B6E880",
           "#FF97FF",
           "#FECB52"
          ],
          "font": {
           "color": "#2a3f5f"
          },
          "geo": {
           "bgcolor": "white",
           "lakecolor": "white",
           "landcolor": "#E5ECF6",
           "showlakes": true,
           "showland": true,
           "subunitcolor": "white"
          },
          "hoverlabel": {
           "align": "left"
          },
          "hovermode": "closest",
          "mapbox": {
           "style": "light"
          },
          "paper_bgcolor": "white",
          "plot_bgcolor": "#E5ECF6",
          "polar": {
           "angularaxis": {
            "gridcolor": "white",
            "linecolor": "white",
            "ticks": ""
           },
           "bgcolor": "#E5ECF6",
           "radialaxis": {
            "gridcolor": "white",
            "linecolor": "white",
            "ticks": ""
           }
          },
          "scene": {
           "xaxis": {
            "backgroundcolor": "#E5ECF6",
            "gridcolor": "white",
            "gridwidth": 2,
            "linecolor": "white",
            "showbackground": true,
            "ticks": "",
            "zerolinecolor": "white"
           },
           "yaxis": {
            "backgroundcolor": "#E5ECF6",
            "gridcolor": "white",
            "gridwidth": 2,
            "linecolor": "white",
            "showbackground": true,
            "ticks": "",
            "zerolinecolor": "white"
           },
           "zaxis": {
            "backgroundcolor": "#E5ECF6",
            "gridcolor": "white",
            "gridwidth": 2,
            "linecolor": "white",
            "showbackground": true,
            "ticks": "",
            "zerolinecolor": "white"
           }
          },
          "shapedefaults": {
           "line": {
            "color": "#2a3f5f"
           }
          },
          "ternary": {
           "aaxis": {
            "gridcolor": "white",
            "linecolor": "white",
            "ticks": ""
           },
           "baxis": {
            "gridcolor": "white",
            "linecolor": "white",
            "ticks": ""
           },
           "bgcolor": "#E5ECF6",
           "caxis": {
            "gridcolor": "white",
            "linecolor": "white",
            "ticks": ""
           }
          },
          "title": {
           "x": 0.05
          },
          "xaxis": {
           "automargin": true,
           "gridcolor": "white",
           "linecolor": "white",
           "ticks": "",
           "title": {
            "standoff": 15
           },
           "zerolinecolor": "white",
           "zerolinewidth": 2
          },
          "yaxis": {
           "automargin": true,
           "gridcolor": "white",
           "linecolor": "white",
           "ticks": "",
           "title": {
            "standoff": 15
           },
           "zerolinecolor": "white",
           "zerolinewidth": 2
          }
         }
        }
       }
      },
      "text/html": [
       "<div>                            <div id=\"95ea5b77-6646-43f2-8598-ada6afc3c257\" class=\"plotly-graph-div\" style=\"height:600px; width:100%;\"></div>            <script type=\"text/javascript\">                require([\"plotly\"], function(Plotly) {                    window.PLOTLYENV=window.PLOTLYENV || {};                                    if (document.getElementById(\"95ea5b77-6646-43f2-8598-ada6afc3c257\")) {                    Plotly.newPlot(                        \"95ea5b77-6646-43f2-8598-ada6afc3c257\",                        [{\"customdata\":[[1770],[1115],[4475],[3075],[2130],[2295],[3180],[600],[2860],[2410],[855],[4815],[885],[3110],[3270],[5155],[3565],[4985],[1670],[1350],[5575],[2625],[680],[6810],[1905],[4665],[3015],[2545],[6940],[1805],[2985],[2510],[1960],[5205],[1275],[7235],[1575],[6455],[815],[2900]],\"hovertemplate\":\"<b>%{hovertext}</b><br><br>Renter - Private households by tenure=%{marker.size}<br>lat=%{lat}<br>lon=%{lon}<br>Total Population 2016=%{customdata[0]}<extra></extra>\",\"hovertext\":[\"Joyceville / Brewers Mills\",\"Alwington\",\"Cataraqui North\",\"Cataraqui River East\",\"Waterloo Village\",\"Williamsville\",\"Henderson\",\"Kingston Mills\",\"Markers Acres\",\"Portsmouth\",\"Queens\",\"Westwoods\",\"Ravensview\",\"Strathcona Park\",\"Sydenham\",\"Auden Park\",\"Calvin Park\",\"Kingscourt/Novelis(Alcan)\",\"Grenville Park\",\"Lemoine Point\",\"Greenwood / St Lawrence South\",\"Hillendale\",\"Woodbine\",\"Inner Harbour\",\"Mile Square\",\"Sutton Mills\",\"Bayridge East\",\"Elginburg / Silvers Corners / Shannons Corners\",\"Gardiners / Meadowbrook\",\"St Lawrence North\",\"Bayridge West\",\"Fairway Hills\",\"Sharpton / Glenvale\",\"Sunnyside\",\"Reddendale\",\"Cataraqui Westbrook\",\"CFB Kingston\",\"Rideau Heights\",\"Glenburnie\",\"Polson Park\"],\"lat\":[44.38538292067768,44.2228671760366,44.26913255386315,44.25216048378566,44.25482479014073,44.238732258564795,44.22320702471155,44.33299015108012,44.271478683058696,44.22288021643292,44.22844192633718,44.25656095044414,44.25049101723101,44.253291287235896,44.227920693257346,44.23377791565761,44.23551918343361,44.258712284706036,44.24604013620965,44.22699552164968,44.27422750914604,44.24374599972525,44.25863289952579,44.240770868297595,44.24120948698859,44.25390440979864,44.243459642870285,44.30816658121638,44.24569507600156,44.30578061860183,44.24610543479501,44.22650558186618,44.320985969572725,44.23248337521393,44.214741819872245,44.27561507095314,44.2466417323788,44.25865313300536,44.31970901246181,44.23493569151008],\"legendgroup\":\"\",\"lon\":[-76.28596206890569,-76.50605465502022,-76.55242248231944,-76.45480098302505,-76.55088174548007,-76.499799574149,-76.57772467603452,-76.3953386518988,-76.47717288687963,-76.52108898526039,-76.49555375727695,-76.59890737062916,-76.40142014216717,-76.526377201127,-76.48588026112948,-76.58266533062309,-76.52069281587254,-76.51140585977939,-76.53566597900581,-76.60595048418064,-76.41678636546013,-76.52392835874966,-76.63123589245562,-76.48014100492158,-76.62618844026319,-76.57894397099366,-76.58466821428027,-76.49948020457725,-76.5590973923221,-76.3387158387717,-76.59993818176103,-76.53623149205949,-76.6178459157399,-76.50772822315002,-76.56198662690277,-76.61147078329336,-76.43713507535392,-76.47856363657031,-76.4428948483943,-76.53127866195364],\"marker\":{\"color\":\"fuchsia\",\"size\":[60,95,205,495,150,890,130,20,440,630,330,60,10,345,1400,635,1135,1495,420,60,100,1115,25,2395,50,850,185,110,1130,65,135,845,70,1460,50,345,455,2025,10,1140],\"sizemode\":\"area\",\"sizeref\":5.9875},\"mode\":\"markers\",\"name\":\"\",\"showlegend\":false,\"subplot\":\"mapbox\",\"type\":\"scattermapbox\"}],                        {\"template\":{\"data\":{\"bar\":[{\"error_x\":{\"color\":\"#2a3f5f\"},\"error_y\":{\"color\":\"#2a3f5f\"},\"marker\":{\"line\":{\"color\":\"#E5ECF6\",\"width\":0.5},\"pattern\":{\"fillmode\":\"overlay\",\"size\":10,\"solidity\":0.2}},\"type\":\"bar\"}],\"barpolar\":[{\"marker\":{\"line\":{\"color\":\"#E5ECF6\",\"width\":0.5},\"pattern\":{\"fillmode\":\"overlay\",\"size\":10,\"solidity\":0.2}},\"type\":\"barpolar\"}],\"carpet\":[{\"aaxis\":{\"endlinecolor\":\"#2a3f5f\",\"gridcolor\":\"white\",\"linecolor\":\"white\",\"minorgridcolor\":\"white\",\"startlinecolor\":\"#2a3f5f\"},\"baxis\":{\"endlinecolor\":\"#2a3f5f\",\"gridcolor\":\"white\",\"linecolor\":\"white\",\"minorgridcolor\":\"white\",\"startlinecolor\":\"#2a3f5f\"},\"type\":\"carpet\"}],\"choropleth\":[{\"colorbar\":{\"outlinewidth\":0,\"ticks\":\"\"},\"type\":\"choropleth\"}],\"contour\":[{\"colorbar\":{\"outlinewidth\":0,\"ticks\":\"\"},\"colorscale\":[[0.0,\"#0d0887\"],[0.1111111111111111,\"#46039f\"],[0.2222222222222222,\"#7201a8\"],[0.3333333333333333,\"#9c179e\"],[0.4444444444444444,\"#bd3786\"],[0.5555555555555556,\"#d8576b\"],[0.6666666666666666,\"#ed7953\"],[0.7777777777777778,\"#fb9f3a\"],[0.8888888888888888,\"#fdca26\"],[1.0,\"#f0f921\"]],\"type\":\"contour\"}],\"contourcarpet\":[{\"colorbar\":{\"outlinewidth\":0,\"ticks\":\"\"},\"type\":\"contourcarpet\"}],\"heatmap\":[{\"colorbar\":{\"outlinewidth\":0,\"ticks\":\"\"},\"colorscale\":[[0.0,\"#0d0887\"],[0.1111111111111111,\"#46039f\"],[0.2222222222222222,\"#7201a8\"],[0.3333333333333333,\"#9c179e\"],[0.4444444444444444,\"#bd3786\"],[0.5555555555555556,\"#d8576b\"],[0.6666666666666666,\"#ed7953\"],[0.7777777777777778,\"#fb9f3a\"],[0.8888888888888888,\"#fdca26\"],[1.0,\"#f0f921\"]],\"type\":\"heatmap\"}],\"heatmapgl\":[{\"colorbar\":{\"outlinewidth\":0,\"ticks\":\"\"},\"colorscale\":[[0.0,\"#0d0887\"],[0.1111111111111111,\"#46039f\"],[0.2222222222222222,\"#7201a8\"],[0.3333333333333333,\"#9c179e\"],[0.4444444444444444,\"#bd3786\"],[0.5555555555555556,\"#d8576b\"],[0.6666666666666666,\"#ed7953\"],[0.7777777777777778,\"#fb9f3a\"],[0.8888888888888888,\"#fdca26\"],[1.0,\"#f0f921\"]],\"type\":\"heatmapgl\"}],\"histogram\":[{\"marker\":{\"pattern\":{\"fillmode\":\"overlay\",\"size\":10,\"solidity\":0.2}},\"type\":\"histogram\"}],\"histogram2d\":[{\"colorbar\":{\"outlinewidth\":0,\"ticks\":\"\"},\"colorscale\":[[0.0,\"#0d0887\"],[0.1111111111111111,\"#46039f\"],[0.2222222222222222,\"#7201a8\"],[0.3333333333333333,\"#9c179e\"],[0.4444444444444444,\"#bd3786\"],[0.5555555555555556,\"#d8576b\"],[0.6666666666666666,\"#ed7953\"],[0.7777777777777778,\"#fb9f3a\"],[0.8888888888888888,\"#fdca26\"],[1.0,\"#f0f921\"]],\"type\":\"histogram2d\"}],\"histogram2dcontour\":[{\"colorbar\":{\"outlinewidth\":0,\"ticks\":\"\"},\"colorscale\":[[0.0,\"#0d0887\"],[0.1111111111111111,\"#46039f\"],[0.2222222222222222,\"#7201a8\"],[0.3333333333333333,\"#9c179e\"],[0.4444444444444444,\"#bd3786\"],[0.5555555555555556,\"#d8576b\"],[0.6666666666666666,\"#ed7953\"],[0.7777777777777778,\"#fb9f3a\"],[0.8888888888888888,\"#fdca26\"],[1.0,\"#f0f921\"]],\"type\":\"histogram2dcontour\"}],\"mesh3d\":[{\"colorbar\":{\"outlinewidth\":0,\"ticks\":\"\"},\"type\":\"mesh3d\"}],\"parcoords\":[{\"line\":{\"colorbar\":{\"outlinewidth\":0,\"ticks\":\"\"}},\"type\":\"parcoords\"}],\"pie\":[{\"automargin\":true,\"type\":\"pie\"}],\"scatter\":[{\"marker\":{\"colorbar\":{\"outlinewidth\":0,\"ticks\":\"\"}},\"type\":\"scatter\"}],\"scatter3d\":[{\"line\":{\"colorbar\":{\"outlinewidth\":0,\"ticks\":\"\"}},\"marker\":{\"colorbar\":{\"outlinewidth\":0,\"ticks\":\"\"}},\"type\":\"scatter3d\"}],\"scattercarpet\":[{\"marker\":{\"colorbar\":{\"outlinewidth\":0,\"ticks\":\"\"}},\"type\":\"scattercarpet\"}],\"scattergeo\":[{\"marker\":{\"colorbar\":{\"outlinewidth\":0,\"ticks\":\"\"}},\"type\":\"scattergeo\"}],\"scattergl\":[{\"marker\":{\"colorbar\":{\"outlinewidth\":0,\"ticks\":\"\"}},\"type\":\"scattergl\"}],\"scattermapbox\":[{\"marker\":{\"colorbar\":{\"outlinewidth\":0,\"ticks\":\"\"}},\"type\":\"scattermapbox\"}],\"scatterpolar\":[{\"marker\":{\"colorbar\":{\"outlinewidth\":0,\"ticks\":\"\"}},\"type\":\"scatterpolar\"}],\"scatterpolargl\":[{\"marker\":{\"colorbar\":{\"outlinewidth\":0,\"ticks\":\"\"}},\"type\":\"scatterpolargl\"}],\"scatterternary\":[{\"marker\":{\"colorbar\":{\"outlinewidth\":0,\"ticks\":\"\"}},\"type\":\"scatterternary\"}],\"surface\":[{\"colorbar\":{\"outlinewidth\":0,\"ticks\":\"\"},\"colorscale\":[[0.0,\"#0d0887\"],[0.1111111111111111,\"#46039f\"],[0.2222222222222222,\"#7201a8\"],[0.3333333333333333,\"#9c179e\"],[0.4444444444444444,\"#bd3786\"],[0.5555555555555556,\"#d8576b\"],[0.6666666666666666,\"#ed7953\"],[0.7777777777777778,\"#fb9f3a\"],[0.8888888888888888,\"#fdca26\"],[1.0,\"#f0f921\"]],\"type\":\"surface\"}],\"table\":[{\"cells\":{\"fill\":{\"color\":\"#EBF0F8\"},\"line\":{\"color\":\"white\"}},\"header\":{\"fill\":{\"color\":\"#C8D4E3\"},\"line\":{\"color\":\"white\"}},\"type\":\"table\"}]},\"layout\":{\"annotationdefaults\":{\"arrowcolor\":\"#2a3f5f\",\"arrowhead\":0,\"arrowwidth\":1},\"autotypenumbers\":\"strict\",\"coloraxis\":{\"colorbar\":{\"outlinewidth\":0,\"ticks\":\"\"}},\"colorscale\":{\"diverging\":[[0,\"#8e0152\"],[0.1,\"#c51b7d\"],[0.2,\"#de77ae\"],[0.3,\"#f1b6da\"],[0.4,\"#fde0ef\"],[0.5,\"#f7f7f7\"],[0.6,\"#e6f5d0\"],[0.7,\"#b8e186\"],[0.8,\"#7fbc41\"],[0.9,\"#4d9221\"],[1,\"#276419\"]],\"sequential\":[[0.0,\"#0d0887\"],[0.1111111111111111,\"#46039f\"],[0.2222222222222222,\"#7201a8\"],[0.3333333333333333,\"#9c179e\"],[0.4444444444444444,\"#bd3786\"],[0.5555555555555556,\"#d8576b\"],[0.6666666666666666,\"#ed7953\"],[0.7777777777777778,\"#fb9f3a\"],[0.8888888888888888,\"#fdca26\"],[1.0,\"#f0f921\"]],\"sequentialminus\":[[0.0,\"#0d0887\"],[0.1111111111111111,\"#46039f\"],[0.2222222222222222,\"#7201a8\"],[0.3333333333333333,\"#9c179e\"],[0.4444444444444444,\"#bd3786\"],[0.5555555555555556,\"#d8576b\"],[0.6666666666666666,\"#ed7953\"],[0.7777777777777778,\"#fb9f3a\"],[0.8888888888888888,\"#fdca26\"],[1.0,\"#f0f921\"]]},\"colorway\":[\"#636efa\",\"#EF553B\",\"#00cc96\",\"#ab63fa\",\"#FFA15A\",\"#19d3f3\",\"#FF6692\",\"#B6E880\",\"#FF97FF\",\"#FECB52\"],\"font\":{\"color\":\"#2a3f5f\"},\"geo\":{\"bgcolor\":\"white\",\"lakecolor\":\"white\",\"landcolor\":\"#E5ECF6\",\"showlakes\":true,\"showland\":true,\"subunitcolor\":\"white\"},\"hoverlabel\":{\"align\":\"left\"},\"hovermode\":\"closest\",\"mapbox\":{\"style\":\"light\"},\"paper_bgcolor\":\"white\",\"plot_bgcolor\":\"#E5ECF6\",\"polar\":{\"angularaxis\":{\"gridcolor\":\"white\",\"linecolor\":\"white\",\"ticks\":\"\"},\"bgcolor\":\"#E5ECF6\",\"radialaxis\":{\"gridcolor\":\"white\",\"linecolor\":\"white\",\"ticks\":\"\"}},\"scene\":{\"xaxis\":{\"backgroundcolor\":\"#E5ECF6\",\"gridcolor\":\"white\",\"gridwidth\":2,\"linecolor\":\"white\",\"showbackground\":true,\"ticks\":\"\",\"zerolinecolor\":\"white\"},\"yaxis\":{\"backgroundcolor\":\"#E5ECF6\",\"gridcolor\":\"white\",\"gridwidth\":2,\"linecolor\":\"white\",\"showbackground\":true,\"ticks\":\"\",\"zerolinecolor\":\"white\"},\"zaxis\":{\"backgroundcolor\":\"#E5ECF6\",\"gridcolor\":\"white\",\"gridwidth\":2,\"linecolor\":\"white\",\"showbackground\":true,\"ticks\":\"\",\"zerolinecolor\":\"white\"}},\"shapedefaults\":{\"line\":{\"color\":\"#2a3f5f\"}},\"ternary\":{\"aaxis\":{\"gridcolor\":\"white\",\"linecolor\":\"white\",\"ticks\":\"\"},\"baxis\":{\"gridcolor\":\"white\",\"linecolor\":\"white\",\"ticks\":\"\"},\"bgcolor\":\"#E5ECF6\",\"caxis\":{\"gridcolor\":\"white\",\"linecolor\":\"white\",\"ticks\":\"\"}},\"title\":{\"x\":0.05},\"xaxis\":{\"automargin\":true,\"gridcolor\":\"white\",\"linecolor\":\"white\",\"ticks\":\"\",\"title\":{\"standoff\":15},\"zerolinecolor\":\"white\",\"zerolinewidth\":2},\"yaxis\":{\"automargin\":true,\"gridcolor\":\"white\",\"linecolor\":\"white\",\"ticks\":\"\",\"title\":{\"standoff\":15},\"zerolinecolor\":\"white\",\"zerolinewidth\":2}}},\"mapbox\":{\"domain\":{\"x\":[0.0,1.0],\"y\":[0.0,1.0]},\"center\":{\"lat\":44.25708442720787,\"lon\":-76.51625062596845},\"zoom\":3,\"style\":\"open-street-map\"},\"legend\":{\"tracegroupgap\":0,\"itemsizing\":\"constant\"},\"margin\":{\"t\":60},\"height\":600},                        {\"responsive\": true}                    ).then(function(){\n",
       "                            \n",
       "var gd = document.getElementById('95ea5b77-6646-43f2-8598-ada6afc3c257');\n",
       "var x = new MutationObserver(function (mutations, observer) {{\n",
       "        var display = window.getComputedStyle(gd).display;\n",
       "        if (!display || display === 'none') {{\n",
       "            console.log([gd, 'removed!']);\n",
       "            Plotly.purge(gd);\n",
       "            observer.disconnect();\n",
       "        }}\n",
       "}});\n",
       "\n",
       "// Listen for the removal of the full notebook cells\n",
       "var notebookContainer = gd.closest('#notebook-container');\n",
       "if (notebookContainer) {{\n",
       "    x.observe(notebookContainer, {childList: true});\n",
       "}}\n",
       "\n",
       "// Listen for the clearing of the current output cell\n",
       "var outputEl = gd.closest('.output');\n",
       "if (outputEl) {{\n",
       "    x.observe(outputEl, {childList: true});\n",
       "}}\n",
       "\n",
       "                        })                };                });            </script>        </div>"
      ]
     },
     "metadata": {},
     "output_type": "display_data"
    }
   ],
   "source": [
    "fig = px.scatter_mapbox(neighbourhood_info, lat=\"lat\", lon=\"lon\", hover_name=\"Community Name\", hover_data=[\"Total Population 2016\"],\n",
    "                        color_discrete_sequence=[\"fuchsia\"], size =\"Renter - Private households by tenure\",  zoom=3, height=600)\n",
    "fig.update_layout(mapbox_style=\"open-street-map\")\n",
    "fig.show()\n"
   ]
  },
  {
   "cell_type": "code",
   "execution_count": 72,
   "metadata": {},
   "outputs": [
    {
     "data": {
      "text/html": [
       "<div>\n",
       "<style scoped>\n",
       "    .dataframe tbody tr th:only-of-type {\n",
       "        vertical-align: middle;\n",
       "    }\n",
       "\n",
       "    .dataframe tbody tr th {\n",
       "        vertical-align: top;\n",
       "    }\n",
       "\n",
       "    .dataframe thead th {\n",
       "        text-align: right;\n",
       "    }\n",
       "</style>\n",
       "<table border=\"1\" class=\"dataframe\">\n",
       "  <thead>\n",
       "    <tr style=\"text-align: right;\">\n",
       "      <th></th>\n",
       "      <th>Community Name</th>\n",
       "      <th>Area Type</th>\n",
       "      <th>Area ID Number</th>\n",
       "      <th>Median after-tax income of households in 2015 (dollars)</th>\n",
       "      <th>Prevalence of low income in 2015 based on after-tax low-income measure (percent)</th>\n",
       "      <th>Total - Household after-tax income groups in 2015 for private households (dollars)</th>\n",
       "      <th>0-9,999 - Household after-tax income groups in 2015 for private households (dollars)</th>\n",
       "      <th>10,000-19,999 - Household after-tax income groups in 2015 for private households (dollars)</th>\n",
       "      <th>20,000-29,000 - Household after-tax income groups in 2015 for private households (dollars)</th>\n",
       "      <th>30,000-39,000 - Household after-tax income groups in 2015 for private households (dollars)</th>\n",
       "      <th>...</th>\n",
       "      <th>Personal, protective and transportation services - Major field of study</th>\n",
       "      <th>Personal and culinary services - Major field of study</th>\n",
       "      <th>Military science, leadership and operational art - Major field of study</th>\n",
       "      <th>Military technologies and applied sciences - Major field of study</th>\n",
       "      <th>Security and protective services - Major field of study</th>\n",
       "      <th>Transportation and materials moving - Major field of study</th>\n",
       "      <th>Other - Major field of study</th>\n",
       "      <th>Multidisciplinary/interdisciplinary studies, other - Major field of study</th>\n",
       "      <th>GeoJSON</th>\n",
       "      <th>geo_point_2d</th>\n",
       "    </tr>\n",
       "  </thead>\n",
       "  <tbody>\n",
       "    <tr>\n",
       "      <th>0</th>\n",
       "      <td>Kingston</td>\n",
       "      <td>Neighbourhood</td>\n",
       "      <td>0</td>\n",
       "      <td>59541</td>\n",
       "      <td>14.8</td>\n",
       "      <td>53515</td>\n",
       "      <td>1725</td>\n",
       "      <td>3980</td>\n",
       "      <td>5355</td>\n",
       "      <td>5265</td>\n",
       "      <td>...</td>\n",
       "      <td>4130</td>\n",
       "      <td>2175</td>\n",
       "      <td>170</td>\n",
       "      <td>155</td>\n",
       "      <td>1310</td>\n",
       "      <td>315</td>\n",
       "      <td>15</td>\n",
       "      <td>10</td>\n",
       "      <td>{\"coordinates\": [[[-76.60112583326217, 44.1754...</td>\n",
       "      <td>44.301669203165794,-76.46058510382774</td>\n",
       "    </tr>\n",
       "    <tr>\n",
       "      <th>1</th>\n",
       "      <td>Bayridge West</td>\n",
       "      <td>Neighbourhood</td>\n",
       "      <td>10</td>\n",
       "      <td>71427</td>\n",
       "      <td>7.4</td>\n",
       "      <td>1175</td>\n",
       "      <td>25</td>\n",
       "      <td>30</td>\n",
       "      <td>60</td>\n",
       "      <td>115</td>\n",
       "      <td>...</td>\n",
       "      <td>100</td>\n",
       "      <td>55</td>\n",
       "      <td>0</td>\n",
       "      <td>0</td>\n",
       "      <td>35</td>\n",
       "      <td>10</td>\n",
       "      <td>0</td>\n",
       "      <td>0</td>\n",
       "      <td>{\"coordinates\": [[[-76.59061344049432, 44.2426...</td>\n",
       "      <td>44.24610543479501,-76.59993818176103</td>\n",
       "    </tr>\n",
       "    <tr>\n",
       "      <th>2</th>\n",
       "      <td>Greenwood / St Lawrence South</td>\n",
       "      <td>Neighbourhood</td>\n",
       "      <td>40</td>\n",
       "      <td>103345</td>\n",
       "      <td>2.6</td>\n",
       "      <td>1870</td>\n",
       "      <td>30</td>\n",
       "      <td>0</td>\n",
       "      <td>45</td>\n",
       "      <td>50</td>\n",
       "      <td>...</td>\n",
       "      <td>260</td>\n",
       "      <td>70</td>\n",
       "      <td>60</td>\n",
       "      <td>30</td>\n",
       "      <td>90</td>\n",
       "      <td>10</td>\n",
       "      <td>10</td>\n",
       "      <td>0</td>\n",
       "      <td>{\"coordinates\": [[[-76.3871960849859, 44.28804...</td>\n",
       "      <td>44.27422750914604,-76.41678636546013</td>\n",
       "    </tr>\n",
       "    <tr>\n",
       "      <th>3</th>\n",
       "      <td>Lemoine Point</td>\n",
       "      <td>Neighbourhood</td>\n",
       "      <td>14</td>\n",
       "      <td>85897</td>\n",
       "      <td>7.3</td>\n",
       "      <td>525</td>\n",
       "      <td>10</td>\n",
       "      <td>10</td>\n",
       "      <td>35</td>\n",
       "      <td>40</td>\n",
       "      <td>...</td>\n",
       "      <td>55</td>\n",
       "      <td>20</td>\n",
       "      <td>0</td>\n",
       "      <td>0</td>\n",
       "      <td>40</td>\n",
       "      <td>0</td>\n",
       "      <td>0</td>\n",
       "      <td>0</td>\n",
       "      <td>{\"coordinates\": [[[-76.59318756066864, 44.2388...</td>\n",
       "      <td>44.22699552164968,-76.60595048418064</td>\n",
       "    </tr>\n",
       "    <tr>\n",
       "      <th>4</th>\n",
       "      <td>Strathcona Park</td>\n",
       "      <td>Neighbourhood</td>\n",
       "      <td>19</td>\n",
       "      <td>62439</td>\n",
       "      <td>10.4</td>\n",
       "      <td>1335</td>\n",
       "      <td>10</td>\n",
       "      <td>50</td>\n",
       "      <td>105</td>\n",
       "      <td>160</td>\n",
       "      <td>...</td>\n",
       "      <td>100</td>\n",
       "      <td>60</td>\n",
       "      <td>0</td>\n",
       "      <td>0</td>\n",
       "      <td>30</td>\n",
       "      <td>0</td>\n",
       "      <td>0</td>\n",
       "      <td>0</td>\n",
       "      <td>{\"coordinates\": [[[-76.51871079433725, 44.2450...</td>\n",
       "      <td>44.253291287235896,-76.526377201127</td>\n",
       "    </tr>\n",
       "  </tbody>\n",
       "</table>\n",
       "<p>5 rows × 117 columns</p>\n",
       "</div>"
      ],
      "text/plain": [
       "                  Community Name      Area Type  Area ID Number  \\\n",
       "0                       Kingston  Neighbourhood               0   \n",
       "1                  Bayridge West  Neighbourhood              10   \n",
       "2  Greenwood / St Lawrence South  Neighbourhood              40   \n",
       "3                  Lemoine Point  Neighbourhood              14   \n",
       "4                Strathcona Park  Neighbourhood              19   \n",
       "\n",
       "   Median after-tax income of households in 2015 (dollars)  \\\n",
       "0                                              59541         \n",
       "1                                              71427         \n",
       "2                                             103345         \n",
       "3                                              85897         \n",
       "4                                              62439         \n",
       "\n",
       "   Prevalence of low income in 2015 based on after-tax low-income measure (percent)  \\\n",
       "0                                               14.8                                  \n",
       "1                                                7.4                                  \n",
       "2                                                2.6                                  \n",
       "3                                                7.3                                  \n",
       "4                                               10.4                                  \n",
       "\n",
       "   Total - Household after-tax income groups in 2015 for private households (dollars)  \\\n",
       "0                                              53515                                    \n",
       "1                                               1175                                    \n",
       "2                                               1870                                    \n",
       "3                                                525                                    \n",
       "4                                               1335                                    \n",
       "\n",
       "   0-9,999 - Household after-tax income groups in 2015 for private households (dollars)  \\\n",
       "0                                               1725                                      \n",
       "1                                                 25                                      \n",
       "2                                                 30                                      \n",
       "3                                                 10                                      \n",
       "4                                                 10                                      \n",
       "\n",
       "   10,000-19,999 - Household after-tax income groups in 2015 for private households (dollars)  \\\n",
       "0                                               3980                                            \n",
       "1                                                 30                                            \n",
       "2                                                  0                                            \n",
       "3                                                 10                                            \n",
       "4                                                 50                                            \n",
       "\n",
       "   20,000-29,000 - Household after-tax income groups in 2015 for private households (dollars)  \\\n",
       "0                                               5355                                            \n",
       "1                                                 60                                            \n",
       "2                                                 45                                            \n",
       "3                                                 35                                            \n",
       "4                                                105                                            \n",
       "\n",
       "   30,000-39,000 - Household after-tax income groups in 2015 for private households (dollars)  \\\n",
       "0                                               5265                                            \n",
       "1                                                115                                            \n",
       "2                                                 50                                            \n",
       "3                                                 40                                            \n",
       "4                                                160                                            \n",
       "\n",
       "   ...  \\\n",
       "0  ...   \n",
       "1  ...   \n",
       "2  ...   \n",
       "3  ...   \n",
       "4  ...   \n",
       "\n",
       "   Personal, protective and transportation services - Major field of study  \\\n",
       "0                                               4130                         \n",
       "1                                                100                         \n",
       "2                                                260                         \n",
       "3                                                 55                         \n",
       "4                                                100                         \n",
       "\n",
       "   Personal and culinary services - Major field of study  \\\n",
       "0                                               2175       \n",
       "1                                                 55       \n",
       "2                                                 70       \n",
       "3                                                 20       \n",
       "4                                                 60       \n",
       "\n",
       "   Military science, leadership and operational art - Major field of study  \\\n",
       "0                                                170                         \n",
       "1                                                  0                         \n",
       "2                                                 60                         \n",
       "3                                                  0                         \n",
       "4                                                  0                         \n",
       "\n",
       "   Military technologies and applied sciences - Major field of study  \\\n",
       "0                                                155                   \n",
       "1                                                  0                   \n",
       "2                                                 30                   \n",
       "3                                                  0                   \n",
       "4                                                  0                   \n",
       "\n",
       "   Security and protective services - Major field of study  \\\n",
       "0                                               1310         \n",
       "1                                                 35         \n",
       "2                                                 90         \n",
       "3                                                 40         \n",
       "4                                                 30         \n",
       "\n",
       "   Transportation and materials moving - Major field of study  \\\n",
       "0                                                315            \n",
       "1                                                 10            \n",
       "2                                                 10            \n",
       "3                                                  0            \n",
       "4                                                  0            \n",
       "\n",
       "   Other - Major field of study  \\\n",
       "0                            15   \n",
       "1                             0   \n",
       "2                            10   \n",
       "3                             0   \n",
       "4                             0   \n",
       "\n",
       "   Multidisciplinary/interdisciplinary studies, other - Major field of study  \\\n",
       "0                                                 10                           \n",
       "1                                                  0                           \n",
       "2                                                  0                           \n",
       "3                                                  0                           \n",
       "4                                                  0                           \n",
       "\n",
       "                                             GeoJSON  \\\n",
       "0  {\"coordinates\": [[[-76.60112583326217, 44.1754...   \n",
       "1  {\"coordinates\": [[[-76.59061344049432, 44.2426...   \n",
       "2  {\"coordinates\": [[[-76.3871960849859, 44.28804...   \n",
       "3  {\"coordinates\": [[[-76.59318756066864, 44.2388...   \n",
       "4  {\"coordinates\": [[[-76.51871079433725, 44.2450...   \n",
       "\n",
       "                            geo_point_2d  \n",
       "0  44.301669203165794,-76.46058510382774  \n",
       "1   44.24610543479501,-76.59993818176103  \n",
       "2   44.27422750914604,-76.41678636546013  \n",
       "3   44.22699552164968,-76.60595048418064  \n",
       "4    44.253291287235896,-76.526377201127  \n",
       "\n",
       "[5 rows x 117 columns]"
      ]
     },
     "execution_count": 72,
     "metadata": {},
     "output_type": "execute_result"
    }
   ],
   "source": [
    "neighborhood_other_info = pd.read_csv('neighbourhood-census-profiles-income-occupation-education.csv')\n",
    "neighborhood_other_info.head()"
   ]
  },
  {
   "cell_type": "code",
   "execution_count": 76,
   "metadata": {},
   "outputs": [
    {
     "data": {
      "application/vnd.plotly.v1+json": {
       "config": {
        "plotlyServerURL": "https://plot.ly"
       },
       "data": [
        {
         "customdata": [
          [
           59541
          ],
          [
           71427
          ],
          [
           103345
          ],
          [
           85897
          ],
          [
           62439
          ],
          [
           71889
          ],
          [
           104067
          ],
          [
           84304
          ],
          [
           28854
          ],
          [
           58402
          ],
          [
           110849
          ],
          [
           36713
          ],
          [
           81957
          ],
          [
           105594
          ],
          [
           78226
          ],
          [
           56823
          ],
          [
           83449
          ],
          [
           47455
          ],
          [
           44967
          ],
          [
           118624
          ],
          [
           88789
          ],
          [
           35498
          ],
          [
           74614
          ],
          [
           47179
          ],
          [
           41655
          ],
          [
           40884
          ],
          [
           86798
          ],
          [
           39669
          ],
          [
           60372
          ],
          [
           72555
          ],
          [
           60431
          ],
          [
           80018
          ],
          [
           47587
          ],
          [
           76385
          ],
          [
           77492
          ],
          [
           69179
          ],
          [
           67096
          ],
          [
           85926
          ],
          [
           43575
          ],
          [
           52401
          ],
          [
           36188
          ]
         ],
         "hovertemplate": "<b>%{hovertext}</b><br><br>Median after-tax income of households in 2015 (dollars)=%{marker.color}<br>lat=%{lat}<br>lon=%{lon}<extra></extra>",
         "hovertext": [
          "Kingston",
          "Bayridge West",
          "Greenwood / St Lawrence South",
          "Lemoine Point",
          "Strathcona Park",
          "Waterloo Village",
          "Woodbine",
          "Mile Square",
          "Queens",
          "Gardiners / Meadowbrook",
          "Alwington",
          "Inner Harbour",
          "Sharpton / Glenvale",
          "Westwoods",
          "Joyceville / Brewers Mills",
          "Sutton Mills",
          "Cataraqui North",
          "Sunnyside",
          "Grenville Park",
          "Ravensview",
          "Reddendale",
          "Rideau Heights",
          "CFB Kingston",
          "Fairway Hills",
          "Kingscourt/Novelis(Alcan)",
          "Hillendale",
          "St Lawrence North",
          "Polson Park",
          "Sydenham",
          "Cataraqui River East",
          "Kingston Mills",
          "Cataraqui Westbrook",
          "Portsmouth",
          "Henderson",
          "Elginburg / Silvers Corners / Shannons Corners",
          "Bayridge East",
          "Auden Park",
          "Glenburnie",
          "Calvin Park",
          "Markers Acres",
          "Williamsville"
         ],
         "lat": [
          44.301669203165794,
          44.24610543479501,
          44.27422750914604,
          44.22699552164968,
          44.253291287235896,
          44.25482479014073,
          44.25863289952579,
          44.24120948698859,
          44.22844192633718,
          44.24569507600156,
          44.2228671760366,
          44.240770868297595,
          44.320985969572725,
          44.25656095044414,
          44.38538292067768,
          44.25390440979864,
          44.26913255386315,
          44.23248337521393,
          44.24604013620965,
          44.25049101723101,
          44.214741819872245,
          44.25865313300536,
          44.2466417323788,
          44.22650558186618,
          44.258712284706036,
          44.24374599972525,
          44.30578061860183,
          44.23493569151008,
          44.227920693257346,
          44.25216048378566,
          44.33299015108012,
          44.27561507095314,
          44.22288021643292,
          44.22320702471155,
          44.30816658121638,
          44.243459642870285,
          44.23377791565761,
          44.31970901246181,
          44.23551918343361,
          44.271478683058696,
          44.238732258564795
         ],
         "legendgroup": "",
         "lon": [
          -76.46058510382774,
          -76.59993818176103,
          -76.41678636546013,
          -76.60595048418064,
          -76.526377201127,
          -76.55088174548007,
          -76.63123589245562,
          -76.62618844026319,
          -76.49555375727695,
          -76.5590973923221,
          -76.50605465502022,
          -76.48014100492158,
          -76.6178459157399,
          -76.59890737062916,
          -76.28596206890569,
          -76.57894397099366,
          -76.55242248231944,
          -76.50772822315002,
          -76.53566597900581,
          -76.40142014216717,
          -76.56198662690277,
          -76.47856363657031,
          -76.43713507535392,
          -76.53623149205949,
          -76.51140585977939,
          -76.52392835874966,
          -76.3387158387717,
          -76.53127866195364,
          -76.48588026112948,
          -76.45480098302505,
          -76.3953386518988,
          -76.61147078329336,
          -76.52108898526039,
          -76.57772467603452,
          -76.49948020457725,
          -76.58466821428027,
          -76.58266533062309,
          -76.4428948483943,
          -76.52069281587254,
          -76.47717288687963,
          -76.499799574149
         ],
         "marker": {
          "color": [
           59541,
           71427,
           103345,
           85897,
           62439,
           71889,
           104067,
           84304,
           28854,
           58402,
           110849,
           36713,
           81957,
           105594,
           78226,
           56823,
           83449,
           47455,
           44967,
           118624,
           88789,
           35498,
           74614,
           47179,
           41655,
           40884,
           86798,
           39669,
           60372,
           72555,
           60431,
           80018,
           47587,
           76385,
           77492,
           69179,
           67096,
           85926,
           43575,
           52401,
           36188
          ],
          "coloraxis": "coloraxis",
          "size": [
           59541,
           71427,
           103345,
           85897,
           62439,
           71889,
           104067,
           84304,
           28854,
           58402,
           110849,
           36713,
           81957,
           105594,
           78226,
           56823,
           83449,
           47455,
           44967,
           118624,
           88789,
           35498,
           74614,
           47179,
           41655,
           40884,
           86798,
           39669,
           60372,
           72555,
           60431,
           80018,
           47587,
           76385,
           77492,
           69179,
           67096,
           85926,
           43575,
           52401,
           36188
          ],
          "sizemode": "area",
          "sizeref": 296.56
         },
         "mode": "markers",
         "name": "",
         "showlegend": false,
         "subplot": "mapbox",
         "type": "scattermapbox"
        }
       ],
       "layout": {
        "coloraxis": {
         "colorbar": {
          "title": {
           "text": "Median after-tax income of households in 2015 (dollars)"
          }
         },
         "colorscale": [
          [
           0,
           "#000000"
          ],
          [
           0.0625,
           "#001f4d"
          ],
          [
           0.125,
           "#003786"
          ],
          [
           0.1875,
           "#0e58a8"
          ],
          [
           0.25,
           "#217eb8"
          ],
          [
           0.3125,
           "#30a4ca"
          ],
          [
           0.375,
           "#54c8df"
          ],
          [
           0.4375,
           "#9be4ef"
          ],
          [
           0.5,
           "#e1e9d1"
          ],
          [
           0.5625,
           "#f3d573"
          ],
          [
           0.625,
           "#e7b000"
          ],
          [
           0.6875,
           "#da8200"
          ],
          [
           0.75,
           "#c65400"
          ],
          [
           0.8125,
           "#ac2301"
          ],
          [
           0.875,
           "#820000"
          ],
          [
           0.9375,
           "#4c0000"
          ],
          [
           1,
           "#000000"
          ]
         ]
        },
        "height": 600,
        "legend": {
         "itemsizing": "constant",
         "tracegroupgap": 0
        },
        "mapbox": {
         "center": {
          "lat": 44.25817186076783,
          "lon": -76.51489293030649
         },
         "domain": {
          "x": [
           0,
           1
          ],
          "y": [
           0,
           1
          ]
         },
         "style": "open-street-map",
         "zoom": 3
        },
        "margin": {
         "t": 60
        },
        "template": {
         "data": {
          "bar": [
           {
            "error_x": {
             "color": "#2a3f5f"
            },
            "error_y": {
             "color": "#2a3f5f"
            },
            "marker": {
             "line": {
              "color": "#E5ECF6",
              "width": 0.5
             },
             "pattern": {
              "fillmode": "overlay",
              "size": 10,
              "solidity": 0.2
             }
            },
            "type": "bar"
           }
          ],
          "barpolar": [
           {
            "marker": {
             "line": {
              "color": "#E5ECF6",
              "width": 0.5
             },
             "pattern": {
              "fillmode": "overlay",
              "size": 10,
              "solidity": 0.2
             }
            },
            "type": "barpolar"
           }
          ],
          "carpet": [
           {
            "aaxis": {
             "endlinecolor": "#2a3f5f",
             "gridcolor": "white",
             "linecolor": "white",
             "minorgridcolor": "white",
             "startlinecolor": "#2a3f5f"
            },
            "baxis": {
             "endlinecolor": "#2a3f5f",
             "gridcolor": "white",
             "linecolor": "white",
             "minorgridcolor": "white",
             "startlinecolor": "#2a3f5f"
            },
            "type": "carpet"
           }
          ],
          "choropleth": [
           {
            "colorbar": {
             "outlinewidth": 0,
             "ticks": ""
            },
            "type": "choropleth"
           }
          ],
          "contour": [
           {
            "colorbar": {
             "outlinewidth": 0,
             "ticks": ""
            },
            "colorscale": [
             [
              0,
              "#0d0887"
             ],
             [
              0.1111111111111111,
              "#46039f"
             ],
             [
              0.2222222222222222,
              "#7201a8"
             ],
             [
              0.3333333333333333,
              "#9c179e"
             ],
             [
              0.4444444444444444,
              "#bd3786"
             ],
             [
              0.5555555555555556,
              "#d8576b"
             ],
             [
              0.6666666666666666,
              "#ed7953"
             ],
             [
              0.7777777777777778,
              "#fb9f3a"
             ],
             [
              0.8888888888888888,
              "#fdca26"
             ],
             [
              1,
              "#f0f921"
             ]
            ],
            "type": "contour"
           }
          ],
          "contourcarpet": [
           {
            "colorbar": {
             "outlinewidth": 0,
             "ticks": ""
            },
            "type": "contourcarpet"
           }
          ],
          "heatmap": [
           {
            "colorbar": {
             "outlinewidth": 0,
             "ticks": ""
            },
            "colorscale": [
             [
              0,
              "#0d0887"
             ],
             [
              0.1111111111111111,
              "#46039f"
             ],
             [
              0.2222222222222222,
              "#7201a8"
             ],
             [
              0.3333333333333333,
              "#9c179e"
             ],
             [
              0.4444444444444444,
              "#bd3786"
             ],
             [
              0.5555555555555556,
              "#d8576b"
             ],
             [
              0.6666666666666666,
              "#ed7953"
             ],
             [
              0.7777777777777778,
              "#fb9f3a"
             ],
             [
              0.8888888888888888,
              "#fdca26"
             ],
             [
              1,
              "#f0f921"
             ]
            ],
            "type": "heatmap"
           }
          ],
          "heatmapgl": [
           {
            "colorbar": {
             "outlinewidth": 0,
             "ticks": ""
            },
            "colorscale": [
             [
              0,
              "#0d0887"
             ],
             [
              0.1111111111111111,
              "#46039f"
             ],
             [
              0.2222222222222222,
              "#7201a8"
             ],
             [
              0.3333333333333333,
              "#9c179e"
             ],
             [
              0.4444444444444444,
              "#bd3786"
             ],
             [
              0.5555555555555556,
              "#d8576b"
             ],
             [
              0.6666666666666666,
              "#ed7953"
             ],
             [
              0.7777777777777778,
              "#fb9f3a"
             ],
             [
              0.8888888888888888,
              "#fdca26"
             ],
             [
              1,
              "#f0f921"
             ]
            ],
            "type": "heatmapgl"
           }
          ],
          "histogram": [
           {
            "marker": {
             "pattern": {
              "fillmode": "overlay",
              "size": 10,
              "solidity": 0.2
             }
            },
            "type": "histogram"
           }
          ],
          "histogram2d": [
           {
            "colorbar": {
             "outlinewidth": 0,
             "ticks": ""
            },
            "colorscale": [
             [
              0,
              "#0d0887"
             ],
             [
              0.1111111111111111,
              "#46039f"
             ],
             [
              0.2222222222222222,
              "#7201a8"
             ],
             [
              0.3333333333333333,
              "#9c179e"
             ],
             [
              0.4444444444444444,
              "#bd3786"
             ],
             [
              0.5555555555555556,
              "#d8576b"
             ],
             [
              0.6666666666666666,
              "#ed7953"
             ],
             [
              0.7777777777777778,
              "#fb9f3a"
             ],
             [
              0.8888888888888888,
              "#fdca26"
             ],
             [
              1,
              "#f0f921"
             ]
            ],
            "type": "histogram2d"
           }
          ],
          "histogram2dcontour": [
           {
            "colorbar": {
             "outlinewidth": 0,
             "ticks": ""
            },
            "colorscale": [
             [
              0,
              "#0d0887"
             ],
             [
              0.1111111111111111,
              "#46039f"
             ],
             [
              0.2222222222222222,
              "#7201a8"
             ],
             [
              0.3333333333333333,
              "#9c179e"
             ],
             [
              0.4444444444444444,
              "#bd3786"
             ],
             [
              0.5555555555555556,
              "#d8576b"
             ],
             [
              0.6666666666666666,
              "#ed7953"
             ],
             [
              0.7777777777777778,
              "#fb9f3a"
             ],
             [
              0.8888888888888888,
              "#fdca26"
             ],
             [
              1,
              "#f0f921"
             ]
            ],
            "type": "histogram2dcontour"
           }
          ],
          "mesh3d": [
           {
            "colorbar": {
             "outlinewidth": 0,
             "ticks": ""
            },
            "type": "mesh3d"
           }
          ],
          "parcoords": [
           {
            "line": {
             "colorbar": {
              "outlinewidth": 0,
              "ticks": ""
             }
            },
            "type": "parcoords"
           }
          ],
          "pie": [
           {
            "automargin": true,
            "type": "pie"
           }
          ],
          "scatter": [
           {
            "marker": {
             "colorbar": {
              "outlinewidth": 0,
              "ticks": ""
             }
            },
            "type": "scatter"
           }
          ],
          "scatter3d": [
           {
            "line": {
             "colorbar": {
              "outlinewidth": 0,
              "ticks": ""
             }
            },
            "marker": {
             "colorbar": {
              "outlinewidth": 0,
              "ticks": ""
             }
            },
            "type": "scatter3d"
           }
          ],
          "scattercarpet": [
           {
            "marker": {
             "colorbar": {
              "outlinewidth": 0,
              "ticks": ""
             }
            },
            "type": "scattercarpet"
           }
          ],
          "scattergeo": [
           {
            "marker": {
             "colorbar": {
              "outlinewidth": 0,
              "ticks": ""
             }
            },
            "type": "scattergeo"
           }
          ],
          "scattergl": [
           {
            "marker": {
             "colorbar": {
              "outlinewidth": 0,
              "ticks": ""
             }
            },
            "type": "scattergl"
           }
          ],
          "scattermapbox": [
           {
            "marker": {
             "colorbar": {
              "outlinewidth": 0,
              "ticks": ""
             }
            },
            "type": "scattermapbox"
           }
          ],
          "scatterpolar": [
           {
            "marker": {
             "colorbar": {
              "outlinewidth": 0,
              "ticks": ""
             }
            },
            "type": "scatterpolar"
           }
          ],
          "scatterpolargl": [
           {
            "marker": {
             "colorbar": {
              "outlinewidth": 0,
              "ticks": ""
             }
            },
            "type": "scatterpolargl"
           }
          ],
          "scatterternary": [
           {
            "marker": {
             "colorbar": {
              "outlinewidth": 0,
              "ticks": ""
             }
            },
            "type": "scatterternary"
           }
          ],
          "surface": [
           {
            "colorbar": {
             "outlinewidth": 0,
             "ticks": ""
            },
            "colorscale": [
             [
              0,
              "#0d0887"
             ],
             [
              0.1111111111111111,
              "#46039f"
             ],
             [
              0.2222222222222222,
              "#7201a8"
             ],
             [
              0.3333333333333333,
              "#9c179e"
             ],
             [
              0.4444444444444444,
              "#bd3786"
             ],
             [
              0.5555555555555556,
              "#d8576b"
             ],
             [
              0.6666666666666666,
              "#ed7953"
             ],
             [
              0.7777777777777778,
              "#fb9f3a"
             ],
             [
              0.8888888888888888,
              "#fdca26"
             ],
             [
              1,
              "#f0f921"
             ]
            ],
            "type": "surface"
           }
          ],
          "table": [
           {
            "cells": {
             "fill": {
              "color": "#EBF0F8"
             },
             "line": {
              "color": "white"
             }
            },
            "header": {
             "fill": {
              "color": "#C8D4E3"
             },
             "line": {
              "color": "white"
             }
            },
            "type": "table"
           }
          ]
         },
         "layout": {
          "annotationdefaults": {
           "arrowcolor": "#2a3f5f",
           "arrowhead": 0,
           "arrowwidth": 1
          },
          "autotypenumbers": "strict",
          "coloraxis": {
           "colorbar": {
            "outlinewidth": 0,
            "ticks": ""
           }
          },
          "colorscale": {
           "diverging": [
            [
             0,
             "#8e0152"
            ],
            [
             0.1,
             "#c51b7d"
            ],
            [
             0.2,
             "#de77ae"
            ],
            [
             0.3,
             "#f1b6da"
            ],
            [
             0.4,
             "#fde0ef"
            ],
            [
             0.5,
             "#f7f7f7"
            ],
            [
             0.6,
             "#e6f5d0"
            ],
            [
             0.7,
             "#b8e186"
            ],
            [
             0.8,
             "#7fbc41"
            ],
            [
             0.9,
             "#4d9221"
            ],
            [
             1,
             "#276419"
            ]
           ],
           "sequential": [
            [
             0,
             "#0d0887"
            ],
            [
             0.1111111111111111,
             "#46039f"
            ],
            [
             0.2222222222222222,
             "#7201a8"
            ],
            [
             0.3333333333333333,
             "#9c179e"
            ],
            [
             0.4444444444444444,
             "#bd3786"
            ],
            [
             0.5555555555555556,
             "#d8576b"
            ],
            [
             0.6666666666666666,
             "#ed7953"
            ],
            [
             0.7777777777777778,
             "#fb9f3a"
            ],
            [
             0.8888888888888888,
             "#fdca26"
            ],
            [
             1,
             "#f0f921"
            ]
           ],
           "sequentialminus": [
            [
             0,
             "#0d0887"
            ],
            [
             0.1111111111111111,
             "#46039f"
            ],
            [
             0.2222222222222222,
             "#7201a8"
            ],
            [
             0.3333333333333333,
             "#9c179e"
            ],
            [
             0.4444444444444444,
             "#bd3786"
            ],
            [
             0.5555555555555556,
             "#d8576b"
            ],
            [
             0.6666666666666666,
             "#ed7953"
            ],
            [
             0.7777777777777778,
             "#fb9f3a"
            ],
            [
             0.8888888888888888,
             "#fdca26"
            ],
            [
             1,
             "#f0f921"
            ]
           ]
          },
          "colorway": [
           "#636efa",
           "#EF553B",
           "#00cc96",
           "#ab63fa",
           "#FFA15A",
           "#19d3f3",
           "#FF6692",
           "#B6E880",
           "#FF97FF",
           "#FECB52"
          ],
          "font": {
           "color": "#2a3f5f"
          },
          "geo": {
           "bgcolor": "white",
           "lakecolor": "white",
           "landcolor": "#E5ECF6",
           "showlakes": true,
           "showland": true,
           "subunitcolor": "white"
          },
          "hoverlabel": {
           "align": "left"
          },
          "hovermode": "closest",
          "mapbox": {
           "style": "light"
          },
          "paper_bgcolor": "white",
          "plot_bgcolor": "#E5ECF6",
          "polar": {
           "angularaxis": {
            "gridcolor": "white",
            "linecolor": "white",
            "ticks": ""
           },
           "bgcolor": "#E5ECF6",
           "radialaxis": {
            "gridcolor": "white",
            "linecolor": "white",
            "ticks": ""
           }
          },
          "scene": {
           "xaxis": {
            "backgroundcolor": "#E5ECF6",
            "gridcolor": "white",
            "gridwidth": 2,
            "linecolor": "white",
            "showbackground": true,
            "ticks": "",
            "zerolinecolor": "white"
           },
           "yaxis": {
            "backgroundcolor": "#E5ECF6",
            "gridcolor": "white",
            "gridwidth": 2,
            "linecolor": "white",
            "showbackground": true,
            "ticks": "",
            "zerolinecolor": "white"
           },
           "zaxis": {
            "backgroundcolor": "#E5ECF6",
            "gridcolor": "white",
            "gridwidth": 2,
            "linecolor": "white",
            "showbackground": true,
            "ticks": "",
            "zerolinecolor": "white"
           }
          },
          "shapedefaults": {
           "line": {
            "color": "#2a3f5f"
           }
          },
          "ternary": {
           "aaxis": {
            "gridcolor": "white",
            "linecolor": "white",
            "ticks": ""
           },
           "baxis": {
            "gridcolor": "white",
            "linecolor": "white",
            "ticks": ""
           },
           "bgcolor": "#E5ECF6",
           "caxis": {
            "gridcolor": "white",
            "linecolor": "white",
            "ticks": ""
           }
          },
          "title": {
           "x": 0.05
          },
          "xaxis": {
           "automargin": true,
           "gridcolor": "white",
           "linecolor": "white",
           "ticks": "",
           "title": {
            "standoff": 15
           },
           "zerolinecolor": "white",
           "zerolinewidth": 2
          },
          "yaxis": {
           "automargin": true,
           "gridcolor": "white",
           "linecolor": "white",
           "ticks": "",
           "title": {
            "standoff": 15
           },
           "zerolinecolor": "white",
           "zerolinewidth": 2
          }
         }
        }
       }
      },
      "text/html": [
       "<div>                            <div id=\"7a301504-9a4b-44d4-bf12-8e76dc98d5e1\" class=\"plotly-graph-div\" style=\"height:600px; width:100%;\"></div>            <script type=\"text/javascript\">                require([\"plotly\"], function(Plotly) {                    window.PLOTLYENV=window.PLOTLYENV || {};                                    if (document.getElementById(\"7a301504-9a4b-44d4-bf12-8e76dc98d5e1\")) {                    Plotly.newPlot(                        \"7a301504-9a4b-44d4-bf12-8e76dc98d5e1\",                        [{\"customdata\":[[59541],[71427],[103345],[85897],[62439],[71889],[104067],[84304],[28854],[58402],[110849],[36713],[81957],[105594],[78226],[56823],[83449],[47455],[44967],[118624],[88789],[35498],[74614],[47179],[41655],[40884],[86798],[39669],[60372],[72555],[60431],[80018],[47587],[76385],[77492],[69179],[67096],[85926],[43575],[52401],[36188]],\"hovertemplate\":\"<b>%{hovertext}</b><br><br>Median after-tax income of households in 2015 (dollars)=%{marker.color}<br>lat=%{lat}<br>lon=%{lon}<extra></extra>\",\"hovertext\":[\"Kingston\",\"Bayridge West\",\"Greenwood / St Lawrence South\",\"Lemoine Point\",\"Strathcona Park\",\"Waterloo Village\",\"Woodbine\",\"Mile Square\",\"Queens\",\"Gardiners / Meadowbrook\",\"Alwington\",\"Inner Harbour\",\"Sharpton / Glenvale\",\"Westwoods\",\"Joyceville / Brewers Mills\",\"Sutton Mills\",\"Cataraqui North\",\"Sunnyside\",\"Grenville Park\",\"Ravensview\",\"Reddendale\",\"Rideau Heights\",\"CFB Kingston\",\"Fairway Hills\",\"Kingscourt/Novelis(Alcan)\",\"Hillendale\",\"St Lawrence North\",\"Polson Park\",\"Sydenham\",\"Cataraqui River East\",\"Kingston Mills\",\"Cataraqui Westbrook\",\"Portsmouth\",\"Henderson\",\"Elginburg / Silvers Corners / Shannons Corners\",\"Bayridge East\",\"Auden Park\",\"Glenburnie\",\"Calvin Park\",\"Markers Acres\",\"Williamsville\"],\"lat\":[44.301669203165794,44.24610543479501,44.27422750914604,44.22699552164968,44.253291287235896,44.25482479014073,44.25863289952579,44.24120948698859,44.22844192633718,44.24569507600156,44.2228671760366,44.240770868297595,44.320985969572725,44.25656095044414,44.38538292067768,44.25390440979864,44.26913255386315,44.23248337521393,44.24604013620965,44.25049101723101,44.214741819872245,44.25865313300536,44.2466417323788,44.22650558186618,44.258712284706036,44.24374599972525,44.30578061860183,44.23493569151008,44.227920693257346,44.25216048378566,44.33299015108012,44.27561507095314,44.22288021643292,44.22320702471155,44.30816658121638,44.243459642870285,44.23377791565761,44.31970901246181,44.23551918343361,44.271478683058696,44.238732258564795],\"legendgroup\":\"\",\"lon\":[-76.46058510382774,-76.59993818176103,-76.41678636546013,-76.60595048418064,-76.526377201127,-76.55088174548007,-76.63123589245562,-76.62618844026319,-76.49555375727695,-76.5590973923221,-76.50605465502022,-76.48014100492158,-76.6178459157399,-76.59890737062916,-76.28596206890569,-76.57894397099366,-76.55242248231944,-76.50772822315002,-76.53566597900581,-76.40142014216717,-76.56198662690277,-76.47856363657031,-76.43713507535392,-76.53623149205949,-76.51140585977939,-76.52392835874966,-76.3387158387717,-76.53127866195364,-76.48588026112948,-76.45480098302505,-76.3953386518988,-76.61147078329336,-76.52108898526039,-76.57772467603452,-76.49948020457725,-76.58466821428027,-76.58266533062309,-76.4428948483943,-76.52069281587254,-76.47717288687963,-76.499799574149],\"marker\":{\"color\":[59541,71427,103345,85897,62439,71889,104067,84304,28854,58402,110849,36713,81957,105594,78226,56823,83449,47455,44967,118624,88789,35498,74614,47179,41655,40884,86798,39669,60372,72555,60431,80018,47587,76385,77492,69179,67096,85926,43575,52401,36188],\"coloraxis\":\"coloraxis\",\"size\":[59541,71427,103345,85897,62439,71889,104067,84304,28854,58402,110849,36713,81957,105594,78226,56823,83449,47455,44967,118624,88789,35498,74614,47179,41655,40884,86798,39669,60372,72555,60431,80018,47587,76385,77492,69179,67096,85926,43575,52401,36188],\"sizemode\":\"area\",\"sizeref\":296.56},\"mode\":\"markers\",\"name\":\"\",\"showlegend\":false,\"subplot\":\"mapbox\",\"type\":\"scattermapbox\"}],                        {\"template\":{\"data\":{\"bar\":[{\"error_x\":{\"color\":\"#2a3f5f\"},\"error_y\":{\"color\":\"#2a3f5f\"},\"marker\":{\"line\":{\"color\":\"#E5ECF6\",\"width\":0.5},\"pattern\":{\"fillmode\":\"overlay\",\"size\":10,\"solidity\":0.2}},\"type\":\"bar\"}],\"barpolar\":[{\"marker\":{\"line\":{\"color\":\"#E5ECF6\",\"width\":0.5},\"pattern\":{\"fillmode\":\"overlay\",\"size\":10,\"solidity\":0.2}},\"type\":\"barpolar\"}],\"carpet\":[{\"aaxis\":{\"endlinecolor\":\"#2a3f5f\",\"gridcolor\":\"white\",\"linecolor\":\"white\",\"minorgridcolor\":\"white\",\"startlinecolor\":\"#2a3f5f\"},\"baxis\":{\"endlinecolor\":\"#2a3f5f\",\"gridcolor\":\"white\",\"linecolor\":\"white\",\"minorgridcolor\":\"white\",\"startlinecolor\":\"#2a3f5f\"},\"type\":\"carpet\"}],\"choropleth\":[{\"colorbar\":{\"outlinewidth\":0,\"ticks\":\"\"},\"type\":\"choropleth\"}],\"contour\":[{\"colorbar\":{\"outlinewidth\":0,\"ticks\":\"\"},\"colorscale\":[[0.0,\"#0d0887\"],[0.1111111111111111,\"#46039f\"],[0.2222222222222222,\"#7201a8\"],[0.3333333333333333,\"#9c179e\"],[0.4444444444444444,\"#bd3786\"],[0.5555555555555556,\"#d8576b\"],[0.6666666666666666,\"#ed7953\"],[0.7777777777777778,\"#fb9f3a\"],[0.8888888888888888,\"#fdca26\"],[1.0,\"#f0f921\"]],\"type\":\"contour\"}],\"contourcarpet\":[{\"colorbar\":{\"outlinewidth\":0,\"ticks\":\"\"},\"type\":\"contourcarpet\"}],\"heatmap\":[{\"colorbar\":{\"outlinewidth\":0,\"ticks\":\"\"},\"colorscale\":[[0.0,\"#0d0887\"],[0.1111111111111111,\"#46039f\"],[0.2222222222222222,\"#7201a8\"],[0.3333333333333333,\"#9c179e\"],[0.4444444444444444,\"#bd3786\"],[0.5555555555555556,\"#d8576b\"],[0.6666666666666666,\"#ed7953\"],[0.7777777777777778,\"#fb9f3a\"],[0.8888888888888888,\"#fdca26\"],[1.0,\"#f0f921\"]],\"type\":\"heatmap\"}],\"heatmapgl\":[{\"colorbar\":{\"outlinewidth\":0,\"ticks\":\"\"},\"colorscale\":[[0.0,\"#0d0887\"],[0.1111111111111111,\"#46039f\"],[0.2222222222222222,\"#7201a8\"],[0.3333333333333333,\"#9c179e\"],[0.4444444444444444,\"#bd3786\"],[0.5555555555555556,\"#d8576b\"],[0.6666666666666666,\"#ed7953\"],[0.7777777777777778,\"#fb9f3a\"],[0.8888888888888888,\"#fdca26\"],[1.0,\"#f0f921\"]],\"type\":\"heatmapgl\"}],\"histogram\":[{\"marker\":{\"pattern\":{\"fillmode\":\"overlay\",\"size\":10,\"solidity\":0.2}},\"type\":\"histogram\"}],\"histogram2d\":[{\"colorbar\":{\"outlinewidth\":0,\"ticks\":\"\"},\"colorscale\":[[0.0,\"#0d0887\"],[0.1111111111111111,\"#46039f\"],[0.2222222222222222,\"#7201a8\"],[0.3333333333333333,\"#9c179e\"],[0.4444444444444444,\"#bd3786\"],[0.5555555555555556,\"#d8576b\"],[0.6666666666666666,\"#ed7953\"],[0.7777777777777778,\"#fb9f3a\"],[0.8888888888888888,\"#fdca26\"],[1.0,\"#f0f921\"]],\"type\":\"histogram2d\"}],\"histogram2dcontour\":[{\"colorbar\":{\"outlinewidth\":0,\"ticks\":\"\"},\"colorscale\":[[0.0,\"#0d0887\"],[0.1111111111111111,\"#46039f\"],[0.2222222222222222,\"#7201a8\"],[0.3333333333333333,\"#9c179e\"],[0.4444444444444444,\"#bd3786\"],[0.5555555555555556,\"#d8576b\"],[0.6666666666666666,\"#ed7953\"],[0.7777777777777778,\"#fb9f3a\"],[0.8888888888888888,\"#fdca26\"],[1.0,\"#f0f921\"]],\"type\":\"histogram2dcontour\"}],\"mesh3d\":[{\"colorbar\":{\"outlinewidth\":0,\"ticks\":\"\"},\"type\":\"mesh3d\"}],\"parcoords\":[{\"line\":{\"colorbar\":{\"outlinewidth\":0,\"ticks\":\"\"}},\"type\":\"parcoords\"}],\"pie\":[{\"automargin\":true,\"type\":\"pie\"}],\"scatter\":[{\"marker\":{\"colorbar\":{\"outlinewidth\":0,\"ticks\":\"\"}},\"type\":\"scatter\"}],\"scatter3d\":[{\"line\":{\"colorbar\":{\"outlinewidth\":0,\"ticks\":\"\"}},\"marker\":{\"colorbar\":{\"outlinewidth\":0,\"ticks\":\"\"}},\"type\":\"scatter3d\"}],\"scattercarpet\":[{\"marker\":{\"colorbar\":{\"outlinewidth\":0,\"ticks\":\"\"}},\"type\":\"scattercarpet\"}],\"scattergeo\":[{\"marker\":{\"colorbar\":{\"outlinewidth\":0,\"ticks\":\"\"}},\"type\":\"scattergeo\"}],\"scattergl\":[{\"marker\":{\"colorbar\":{\"outlinewidth\":0,\"ticks\":\"\"}},\"type\":\"scattergl\"}],\"scattermapbox\":[{\"marker\":{\"colorbar\":{\"outlinewidth\":0,\"ticks\":\"\"}},\"type\":\"scattermapbox\"}],\"scatterpolar\":[{\"marker\":{\"colorbar\":{\"outlinewidth\":0,\"ticks\":\"\"}},\"type\":\"scatterpolar\"}],\"scatterpolargl\":[{\"marker\":{\"colorbar\":{\"outlinewidth\":0,\"ticks\":\"\"}},\"type\":\"scatterpolargl\"}],\"scatterternary\":[{\"marker\":{\"colorbar\":{\"outlinewidth\":0,\"ticks\":\"\"}},\"type\":\"scatterternary\"}],\"surface\":[{\"colorbar\":{\"outlinewidth\":0,\"ticks\":\"\"},\"colorscale\":[[0.0,\"#0d0887\"],[0.1111111111111111,\"#46039f\"],[0.2222222222222222,\"#7201a8\"],[0.3333333333333333,\"#9c179e\"],[0.4444444444444444,\"#bd3786\"],[0.5555555555555556,\"#d8576b\"],[0.6666666666666666,\"#ed7953\"],[0.7777777777777778,\"#fb9f3a\"],[0.8888888888888888,\"#fdca26\"],[1.0,\"#f0f921\"]],\"type\":\"surface\"}],\"table\":[{\"cells\":{\"fill\":{\"color\":\"#EBF0F8\"},\"line\":{\"color\":\"white\"}},\"header\":{\"fill\":{\"color\":\"#C8D4E3\"},\"line\":{\"color\":\"white\"}},\"type\":\"table\"}]},\"layout\":{\"annotationdefaults\":{\"arrowcolor\":\"#2a3f5f\",\"arrowhead\":0,\"arrowwidth\":1},\"autotypenumbers\":\"strict\",\"coloraxis\":{\"colorbar\":{\"outlinewidth\":0,\"ticks\":\"\"}},\"colorscale\":{\"diverging\":[[0,\"#8e0152\"],[0.1,\"#c51b7d\"],[0.2,\"#de77ae\"],[0.3,\"#f1b6da\"],[0.4,\"#fde0ef\"],[0.5,\"#f7f7f7\"],[0.6,\"#e6f5d0\"],[0.7,\"#b8e186\"],[0.8,\"#7fbc41\"],[0.9,\"#4d9221\"],[1,\"#276419\"]],\"sequential\":[[0.0,\"#0d0887\"],[0.1111111111111111,\"#46039f\"],[0.2222222222222222,\"#7201a8\"],[0.3333333333333333,\"#9c179e\"],[0.4444444444444444,\"#bd3786\"],[0.5555555555555556,\"#d8576b\"],[0.6666666666666666,\"#ed7953\"],[0.7777777777777778,\"#fb9f3a\"],[0.8888888888888888,\"#fdca26\"],[1.0,\"#f0f921\"]],\"sequentialminus\":[[0.0,\"#0d0887\"],[0.1111111111111111,\"#46039f\"],[0.2222222222222222,\"#7201a8\"],[0.3333333333333333,\"#9c179e\"],[0.4444444444444444,\"#bd3786\"],[0.5555555555555556,\"#d8576b\"],[0.6666666666666666,\"#ed7953\"],[0.7777777777777778,\"#fb9f3a\"],[0.8888888888888888,\"#fdca26\"],[1.0,\"#f0f921\"]]},\"colorway\":[\"#636efa\",\"#EF553B\",\"#00cc96\",\"#ab63fa\",\"#FFA15A\",\"#19d3f3\",\"#FF6692\",\"#B6E880\",\"#FF97FF\",\"#FECB52\"],\"font\":{\"color\":\"#2a3f5f\"},\"geo\":{\"bgcolor\":\"white\",\"lakecolor\":\"white\",\"landcolor\":\"#E5ECF6\",\"showlakes\":true,\"showland\":true,\"subunitcolor\":\"white\"},\"hoverlabel\":{\"align\":\"left\"},\"hovermode\":\"closest\",\"mapbox\":{\"style\":\"light\"},\"paper_bgcolor\":\"white\",\"plot_bgcolor\":\"#E5ECF6\",\"polar\":{\"angularaxis\":{\"gridcolor\":\"white\",\"linecolor\":\"white\",\"ticks\":\"\"},\"bgcolor\":\"#E5ECF6\",\"radialaxis\":{\"gridcolor\":\"white\",\"linecolor\":\"white\",\"ticks\":\"\"}},\"scene\":{\"xaxis\":{\"backgroundcolor\":\"#E5ECF6\",\"gridcolor\":\"white\",\"gridwidth\":2,\"linecolor\":\"white\",\"showbackground\":true,\"ticks\":\"\",\"zerolinecolor\":\"white\"},\"yaxis\":{\"backgroundcolor\":\"#E5ECF6\",\"gridcolor\":\"white\",\"gridwidth\":2,\"linecolor\":\"white\",\"showbackground\":true,\"ticks\":\"\",\"zerolinecolor\":\"white\"},\"zaxis\":{\"backgroundcolor\":\"#E5ECF6\",\"gridcolor\":\"white\",\"gridwidth\":2,\"linecolor\":\"white\",\"showbackground\":true,\"ticks\":\"\",\"zerolinecolor\":\"white\"}},\"shapedefaults\":{\"line\":{\"color\":\"#2a3f5f\"}},\"ternary\":{\"aaxis\":{\"gridcolor\":\"white\",\"linecolor\":\"white\",\"ticks\":\"\"},\"baxis\":{\"gridcolor\":\"white\",\"linecolor\":\"white\",\"ticks\":\"\"},\"bgcolor\":\"#E5ECF6\",\"caxis\":{\"gridcolor\":\"white\",\"linecolor\":\"white\",\"ticks\":\"\"}},\"title\":{\"x\":0.05},\"xaxis\":{\"automargin\":true,\"gridcolor\":\"white\",\"linecolor\":\"white\",\"ticks\":\"\",\"title\":{\"standoff\":15},\"zerolinecolor\":\"white\",\"zerolinewidth\":2},\"yaxis\":{\"automargin\":true,\"gridcolor\":\"white\",\"linecolor\":\"white\",\"ticks\":\"\",\"title\":{\"standoff\":15},\"zerolinecolor\":\"white\",\"zerolinewidth\":2}}},\"mapbox\":{\"domain\":{\"x\":[0.0,1.0],\"y\":[0.0,1.0]},\"center\":{\"lat\":44.25817186076783,\"lon\":-76.51489293030649},\"zoom\":3,\"style\":\"open-street-map\"},\"coloraxis\":{\"colorbar\":{\"title\":{\"text\":\"Median after-tax income of households in 2015 (dollars)\"}},\"colorscale\":[[0.0,\"#000000\"],[0.0625,\"#001f4d\"],[0.125,\"#003786\"],[0.1875,\"#0e58a8\"],[0.25,\"#217eb8\"],[0.3125,\"#30a4ca\"],[0.375,\"#54c8df\"],[0.4375,\"#9be4ef\"],[0.5,\"#e1e9d1\"],[0.5625,\"#f3d573\"],[0.625,\"#e7b000\"],[0.6875,\"#da8200\"],[0.75,\"#c65400\"],[0.8125,\"#ac2301\"],[0.875,\"#820000\"],[0.9375,\"#4c0000\"],[1.0,\"#000000\"]]},\"legend\":{\"tracegroupgap\":0,\"itemsizing\":\"constant\"},\"margin\":{\"t\":60},\"height\":600},                        {\"responsive\": true}                    ).then(function(){\n",
       "                            \n",
       "var gd = document.getElementById('7a301504-9a4b-44d4-bf12-8e76dc98d5e1');\n",
       "var x = new MutationObserver(function (mutations, observer) {{\n",
       "        var display = window.getComputedStyle(gd).display;\n",
       "        if (!display || display === 'none') {{\n",
       "            console.log([gd, 'removed!']);\n",
       "            Plotly.purge(gd);\n",
       "            observer.disconnect();\n",
       "        }}\n",
       "}});\n",
       "\n",
       "// Listen for the removal of the full notebook cells\n",
       "var notebookContainer = gd.closest('#notebook-container');\n",
       "if (notebookContainer) {{\n",
       "    x.observe(notebookContainer, {childList: true});\n",
       "}}\n",
       "\n",
       "// Listen for the clearing of the current output cell\n",
       "var outputEl = gd.closest('.output');\n",
       "if (outputEl) {{\n",
       "    x.observe(outputEl, {childList: true});\n",
       "}}\n",
       "\n",
       "                        })                };                });            </script>        </div>"
      ]
     },
     "metadata": {},
     "output_type": "display_data"
    }
   ],
   "source": [
    "lat = neighborhood_other_info['geo_point_2d'].apply(lambda x: x.split(',')).apply(lambda x: float(x[0]))\n",
    "lon = neighborhood_other_info['geo_point_2d'].apply(lambda x: x.split(',')).apply(lambda x: float(x[1]))\n",
    "neighborhood_other_info['lat'] = lat\n",
    "neighborhood_other_info['lon'] = lon\n",
    "fig = px.scatter_mapbox(neighborhood_other_info, lat=\"lat\", lon=\"lon\", hover_name=\"Community Name\", hover_data=[\"Median after-tax income of households in 2015 (dollars)\"],\n",
    "                        color =\"Median after-tax income of households in 2015 (dollars)\", color_continuous_scale=px.colors.cyclical.IceFire, size =\"Median after-tax income of households in 2015 (dollars)\",  zoom=3, height=600)\n",
    "fig.update_layout(mapbox_style=\"open-street-map\")\n",
    "fig.show()\n"
   ]
  },
  {
   "cell_type": "code",
   "execution_count": null,
   "metadata": {},
   "outputs": [],
   "source": []
  }
 ],
 "metadata": {
  "kernelspec": {
   "display_name": "Python 3",
   "language": "python",
   "name": "python3"
  },
  "language_info": {
   "codemirror_mode": {
    "name": "ipython",
    "version": 3
   },
   "file_extension": ".py",
   "mimetype": "text/x-python",
   "name": "python",
   "nbconvert_exporter": "python",
   "pygments_lexer": "ipython3",
   "version": "3.7.7"
  }
 },
 "nbformat": 4,
 "nbformat_minor": 4
}
